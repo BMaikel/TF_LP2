{
  "nbformat": 4,
  "nbformat_minor": 0,
  "metadata": {
    "colab": {
      "provenance": []
    },
    "kernelspec": {
      "name": "python3",
      "display_name": "Python 3"
    },
    "language_info": {
      "name": "python"
    }
  },
  "cells": [
    {
      "cell_type": "markdown",
      "source": [
        "### PRACTICANDO"
      ],
      "metadata": {
        "id": "UuBE0QQSyHJ3"
      }
    },
    {
      "cell_type": "markdown",
      "source": [
        "Cada página muestra unicamente 10 tesis, de las 44 000 que tiene la universidad. Este código solo funciona para una de esas páginas."
      ],
      "metadata": {
        "id": "T-QNtdR53usO"
      }
    },
    {
      "cell_type": "code",
      "source": [
        "import requests\n",
        "from bs4 import BeautifulSoup"
      ],
      "metadata": {
        "id": "-I3WpCFryq_X"
      },
      "execution_count": null,
      "outputs": []
    },
    {
      "cell_type": "code",
      "execution_count": null,
      "metadata": {
        "id": "bt8z2Wy5pDAI"
      },
      "outputs": [],
      "source": [
        "#Universidad de Chile\n",
        "website = \"https://repositorio.uchile.cl\"\n",
        "url = \"https://repositorio.uchile.cl/discover?rpp=10&etal=0&group_by=none&page=1&filtertype_0=type&filter_relational_operator_0=equals&filter_0=Tesis\" #url tesis"
      ]
    },
    {
      "cell_type": "code",
      "source": [
        "resp = requests.get(url)\n",
        "soup = BeautifulSoup(resp.text, \"html.parser\")"
      ],
      "metadata": {
        "id": "O64iDgTyyqfx"
      },
      "execution_count": null,
      "outputs": []
    },
    {
      "cell_type": "code",
      "source": [
        "tesis = soup.find_all(class_=\"dosUch\")"
      ],
      "metadata": {
        "id": "acdHIr8kzhLd"
      },
      "execution_count": null,
      "outputs": []
    },
    {
      "cell_type": "code",
      "source": [
        "lista_tesis = []\n",
        "for i in tesis:\n",
        "  lista_tesis.append(website + f\"{i.find('a').get('href')}\")\n",
        "\n",
        "print(lista_tesis)"
      ],
      "metadata": {
        "colab": {
          "base_uri": "https://localhost:8080/"
        },
        "id": "HO6pYOap1Cus",
        "outputId": "58d14e19-d545-4973-9f73-3c2744edc149"
      },
      "execution_count": null,
      "outputs": [
        {
          "output_type": "stream",
          "name": "stdout",
          "text": [
            "['https://repositorio.uchile.cl/handle/2250/189462', 'https://repositorio.uchile.cl/handle/2250/189459', 'https://repositorio.uchile.cl/handle/2250/189460', 'https://repositorio.uchile.cl/handle/2250/189461', 'https://repositorio.uchile.cl/handle/2250/189426', 'https://repositorio.uchile.cl/handle/2250/189424', 'https://repositorio.uchile.cl/handle/2250/189427', 'https://repositorio.uchile.cl/handle/2250/189428', 'https://repositorio.uchile.cl/handle/2250/189465', 'https://repositorio.uchile.cl/handle/2250/189463']\n"
          ]
        }
      ]
    },
    {
      "cell_type": "markdown",
      "source": [
        "Escrapeando solo una tesis:"
      ],
      "metadata": {
        "id": "VfEQUQ7g6veA"
      }
    },
    {
      "cell_type": "code",
      "source": [
        "url_tesis = \"https://repositorio.uchile.cl/handle/2250/189462\""
      ],
      "metadata": {
        "id": "5dsO1uqF60v3"
      },
      "execution_count": null,
      "outputs": []
    },
    {
      "cell_type": "code",
      "source": [
        "resp = requests.get(url_tesis)\n",
        "soup = BeautifulSoup(resp.text, \"html.parser\")"
      ],
      "metadata": {
        "id": "wDBV0euT7i06"
      },
      "execution_count": null,
      "outputs": []
    },
    {
      "cell_type": "code",
      "source": [
        "#Insitución\n",
        "\"Universidad de Chile\"\n",
        "#Título tesis\n",
        "print(soup.find(\"h2\").text)"
      ],
      "metadata": {
        "colab": {
          "base_uri": "https://localhost:8080/"
        },
        "id": "vW0s7o2P7ozq",
        "outputId": "483fb16c-74d6-4c1f-8388-10307e167cc4"
      },
      "execution_count": null,
      "outputs": [
        {
          "output_type": "stream",
          "name": "stdout",
          "text": [
            "Efecto del quitosano en la acción parasitaria de cepas nativas de hongos nematófagos endófitos frente al nematodo cebo Steinernema australe\n"
          ]
        }
      ]
    },
    {
      "cell_type": "code",
      "source": [
        "#Nombre del tesista\n",
        "print(soup.find(itemprop = \"author\").text)"
      ],
      "metadata": {
        "colab": {
          "base_uri": "https://localhost:8080/"
        },
        "id": "TUroASKh8QoV",
        "outputId": "ed0e3e2f-da01-477d-a5bf-6d1cc9bb632d"
      },
      "execution_count": null,
      "outputs": [
        {
          "output_type": "stream",
          "name": "stdout",
          "text": [
            "Contreras Contreras, Bruno Sebastián\n"
          ]
        }
      ]
    },
    {
      "cell_type": "code",
      "source": [
        "#Grado\n",
        "a = soup.find(class_=\"simple-item-view-notadetesis\").find_all(\"div\")[1].text\n",
        "print(a)"
      ],
      "metadata": {
        "colab": {
          "base_uri": "https://localhost:8080/"
        },
        "id": "ttDzjDr_8-Uo",
        "outputId": "d37c3cb0-43bf-4062-c3cc-12b5a41cb538"
      },
      "execution_count": null,
      "outputs": [
        {
          "output_type": "stream",
          "name": "stdout",
          "text": [
            "Seminario de Título entregado para optar al Título de Quíimica Ambiental\n"
          ]
        }
      ]
    },
    {
      "cell_type": "code",
      "source": [
        "#Nombre del asesor(es)\n",
        "a = soup.find_all(class_=\"simple-item-view-authors\", limit = 2)[1]\n",
        "for i in a.find_all(itemprop=\"author\"):\n",
        "  print(i.text)"
      ],
      "metadata": {
        "colab": {
          "base_uri": "https://localhost:8080/"
        },
        "id": "BSm4gJ1nBHbo",
        "outputId": "5c1fb943-5e60-41cd-9e38-128e01a7b324"
      },
      "execution_count": null,
      "outputs": [
        {
          "output_type": "stream",
          "name": "stdout",
          "text": [
            "Nacaratte Guajardo, Fallon Ana\n",
            "Manzano Davila, Carlos Andres\n"
          ]
        }
      ]
    },
    {
      "cell_type": "code",
      "source": [
        "b = []\n",
        "for i in a.find_all(itemprop=\"author\"):\n",
        "  b.append(i.text)\n",
        "\n",
        "\", \".join(b)"
      ],
      "metadata": {
        "colab": {
          "base_uri": "https://localhost:8080/",
          "height": 36
        },
        "id": "AulPkU2c7uWY",
        "outputId": "7ebc5e0e-6b67-410d-caaa-9a0b66965406"
      },
      "execution_count": null,
      "outputs": [
        {
          "output_type": "execute_result",
          "data": {
            "text/plain": [
              "'Nacaratte Guajardo, Fallon Ana, Manzano Davila, Carlos Andres'"
            ],
            "application/vnd.google.colaboratory.intrinsic+json": {
              "type": "string"
            }
          },
          "metadata": {},
          "execution_count": 71
        }
      ]
    },
    {
      "cell_type": "code",
      "source": [
        "#Resumen\n",
        "a = str(soup.find(class_ = \"simple-item-view-description\").find(itemprop = \"description\").find_all(text=True, recursive=False)[0])\n",
        "print(type(a))"
      ],
      "metadata": {
        "colab": {
          "base_uri": "https://localhost:8080/"
        },
        "id": "1Y5ZN2ZyD7JG",
        "outputId": "e3c4563b-2bb2-4a69-9e3a-3a5b00bbfb20"
      },
      "execution_count": null,
      "outputs": [
        {
          "output_type": "stream",
          "name": "stdout",
          "text": [
            "<class 'str'>\n"
          ]
        }
      ]
    },
    {
      "cell_type": "code",
      "source": [
        "#Año\n",
        "a = str(soup.find(class_=\"simple-item-view-date\").find_all(text=True, recursive=False)[1])\n",
        "a"
      ],
      "metadata": {
        "colab": {
          "base_uri": "https://localhost:8080/",
          "height": 36
        },
        "id": "fQuMD97mE9SN",
        "outputId": "df6452a7-d0cb-4ad4-c363-904173f0dc62"
      },
      "execution_count": null,
      "outputs": [
        {
          "output_type": "execute_result",
          "data": {
            "text/plain": [
              "'2022'"
            ],
            "application/vnd.google.colaboratory.intrinsic+json": {
              "type": "string"
            }
          },
          "metadata": {},
          "execution_count": 73
        }
      ]
    },
    {
      "cell_type": "markdown",
      "source": [
        "Generalizando:"
      ],
      "metadata": {
        "id": "Vmghz1xR4DKj"
      }
    },
    {
      "cell_type": "code",
      "source": [
        "import csv"
      ],
      "metadata": {
        "id": "40NJ9y6w5Gl4"
      },
      "execution_count": null,
      "outputs": []
    },
    {
      "cell_type": "code",
      "source": [
        "website = \"https://repositorio.uchile.cl\"\n",
        "n = 3 #Número de páginas a scrapear\n",
        "lista_tesis = []\n",
        "for i in range(1,n+1):\n",
        "  url = f\"https://repositorio.uchile.cl/discover?rpp=10&etal=0&group_by=none&page={i}&filtertype_0=type&filter_relational_operator_0=equals&filter_0=Tesis\"\n",
        "  resp = requests.get(url)\n",
        "  soup = BeautifulSoup(resp.text, \"html.parser\")\n",
        "  tesis = soup.find_all(class_=\"dosUch\")\n",
        "  for i in tesis:\n",
        "    lista_tesis.append(website + f\"{i.find('a').get('href')}\")"
      ],
      "metadata": {
        "id": "CFZB6SFL4FVF"
      },
      "execution_count": null,
      "outputs": []
    },
    {
      "cell_type": "code",
      "source": [
        "for i in lista_tesis:\n",
        "  print(i)"
      ],
      "metadata": {
        "colab": {
          "base_uri": "https://localhost:8080/"
        },
        "id": "Eq2He5jsBT-I",
        "outputId": "3d5ee26b-6b37-44bb-c3d3-4f984fe12ca6"
      },
      "execution_count": null,
      "outputs": [
        {
          "output_type": "stream",
          "name": "stdout",
          "text": [
            "https://repositorio.uchile.cl/handle/2250/189462\n",
            "https://repositorio.uchile.cl/handle/2250/189459\n",
            "https://repositorio.uchile.cl/handle/2250/189460\n",
            "https://repositorio.uchile.cl/handle/2250/189461\n",
            "https://repositorio.uchile.cl/handle/2250/189426\n",
            "https://repositorio.uchile.cl/handle/2250/189424\n",
            "https://repositorio.uchile.cl/handle/2250/189427\n",
            "https://repositorio.uchile.cl/handle/2250/189428\n",
            "https://repositorio.uchile.cl/handle/2250/189465\n",
            "https://repositorio.uchile.cl/handle/2250/189463\n",
            "https://repositorio.uchile.cl/handle/2250/187735\n",
            "https://repositorio.uchile.cl/handle/2250/187666\n",
            "https://repositorio.uchile.cl/handle/2250/189466\n",
            "https://repositorio.uchile.cl/handle/2250/189390\n",
            "https://repositorio.uchile.cl/handle/2250/189402\n",
            "https://repositorio.uchile.cl/handle/2250/187721\n",
            "https://repositorio.uchile.cl/handle/2250/189385\n",
            "https://repositorio.uchile.cl/handle/2250/189467\n",
            "https://repositorio.uchile.cl/handle/2250/187833\n",
            "https://repositorio.uchile.cl/handle/2250/187831\n",
            "https://repositorio.uchile.cl/handle/2250/187834\n",
            "https://repositorio.uchile.cl/handle/2250/187819\n",
            "https://repositorio.uchile.cl/handle/2250/187846\n",
            "https://repositorio.uchile.cl/handle/2250/189432\n",
            "https://repositorio.uchile.cl/handle/2250/189430\n",
            "https://repositorio.uchile.cl/handle/2250/189433\n",
            "https://repositorio.uchile.cl/handle/2250/189434\n",
            "https://repositorio.uchile.cl/handle/2250/189425\n",
            "https://repositorio.uchile.cl/handle/2250/189431\n",
            "https://repositorio.uchile.cl/handle/2250/189435\n"
          ]
        }
      ]
    },
    {
      "cell_type": "code",
      "source": [
        "for i in lista_tesis:\n",
        "  resp_t = requests.get(i)\n",
        "  soup_t = BeautifulSoup(resp_t.text, \"html.parser\")\n",
        "  try:\n",
        "    a = soup_t.find(class_ = \"simple-item-view-description\").find(itemprop = \"description\")\n",
        "    if a != None:\n",
        "      print(1)\n",
        "  except:\n",
        "    print(0)"
      ],
      "metadata": {
        "colab": {
          "base_uri": "https://localhost:8080/"
        },
        "id": "gSjfxjds_Cx-",
        "outputId": "9bb87917-27f9-49db-9123-ace17e6eb87d"
      },
      "execution_count": null,
      "outputs": [
        {
          "output_type": "stream",
          "name": "stdout",
          "text": [
            "1\n",
            "1\n",
            "1\n",
            "1\n",
            "1\n",
            "1\n",
            "1\n",
            "1\n",
            "1\n",
            "1\n",
            "1\n",
            "1\n",
            "1\n",
            "1\n",
            "0\n",
            "0\n",
            "1\n",
            "1\n",
            "1\n"
          ]
        }
      ]
    },
    {
      "cell_type": "code",
      "source": [
        "resp_t = requests.get(\"https://repositorio.uchile.cl/handle/2250/189428\")\n",
        "#resp_t = requests.get(\"https://repositorio.uchile.cl/handle/2250/189462\")\n",
        "\n",
        "soup_t = BeautifulSoup(resp_t.text, \"html.parser\")\n",
        "\n",
        "b = soup_t.find(class_ = \"simple-item-view-description\")\n",
        "\n",
        "if b != None:\n",
        "  if b.find(itemprop = \"description\") != None:\n",
        "     resumen = str(b.find(itemprop = \"description\").find_all(text=True, recursive=False)[0])\n",
        "  else:\n",
        "    resumen = \"\"\n",
        "print(resumen)\n"
      ],
      "metadata": {
        "colab": {
          "base_uri": "https://localhost:8080/"
        },
        "id": "yJcyWvv9Zwxa",
        "outputId": "41fc8a24-d25c-4285-e4a0-0a0c54d72316"
      },
      "execution_count": null,
      "outputs": [
        {
          "output_type": "stream",
          "name": "stdout",
          "text": [
            "\n"
          ]
        }
      ]
    },
    {
      "cell_type": "code",
      "source": [
        "with open(\"Tesis.csv\", \"w\") as csv_file:\n",
        "    escritor = csv.writer(csv_file, delimiter=\",\")\n",
        "    escritor.writerow([\"Institución\",\"Título\",\"Autor\", \"Grado\", \"Asesor(es)\", \"Año\", \"Resumen\"])\n",
        "\n",
        "for i in lista_tesis:\n",
        "  resp_t = requests.get(i)\n",
        "  soup_t = BeautifulSoup(resp_t.text, \"html.parser\")\n",
        "\n",
        "  titulo = soup_t.find(\"h2\").text\n",
        "  autor = soup_t.find(itemprop = \"author\").text\n",
        "\n",
        "  #Grado\n",
        "  g = soup_t.find(class_=\"simple-item-view-notadetesis\")\n",
        "  if g != None:\n",
        "    grado = g.find_all(\"div\")[1].text\n",
        "  else:\n",
        "    grado = \"\"\n",
        "\n",
        "  #Nombre del asesor(es)\n",
        "  asesor = []\n",
        "  a = soup_t.find_all(class_=\"simple-item-view-authors\", limit = 2)[1]\n",
        "  for i in a.find_all(itemprop=\"author\"):\n",
        "    asesor.append(i.text)\n",
        "  asesor_f = \", \".join(asesor)\n",
        "\n",
        "  año = str(soup_t.find(class_=\"simple-item-view-date\").find_all(text=True, recursive=False)[1])\n",
        "\n",
        "  #Resumen\n",
        "  b = soup_t.find(class_ = \"simple-item-view-description\")\n",
        "  if b != None:\n",
        "    if b.find(itemprop = \"description\") != None:\n",
        "      resumen = str(b.find(itemprop = \"description\").find_all(text=True, recursive=False)[0])\n",
        "    else:\n",
        "      resumen = \"\"\n",
        "\n",
        "  x = [\"Universidad de Chile\", titulo, autor, grado, asesor_f, año, resumen]\n",
        "  with open(\"Tesis.csv\", \"a\") as csv_file:\n",
        "    escritor = csv.writer(csv_file, delimiter=\",\")\n",
        "    escritor.writerow(x)\n"
      ],
      "metadata": {
        "id": "MYnMXeJb456Q"
      },
      "execution_count": null,
      "outputs": []
    },
    {
      "cell_type": "code",
      "source": [
        "import pandas as pd"
      ],
      "metadata": {
        "id": "iTqNGolu6rHF"
      },
      "execution_count": null,
      "outputs": []
    },
    {
      "cell_type": "code",
      "source": [
        "pd = pd.read_csv(\"Tesis.csv\")\n",
        "pd"
      ],
      "metadata": {
        "colab": {
          "base_uri": "https://localhost:8080/",
          "height": 1000
        },
        "id": "KJ6U7fD2Ig_7",
        "outputId": "aac25189-e707-47f4-d5e0-09c03a54e1fa"
      },
      "execution_count": null,
      "outputs": [
        {
          "output_type": "execute_result",
          "data": {
            "text/plain": [
              "             Institución                                             Título  \\\n",
              "0   Universidad de Chile  Efecto del quitosano en la acción parasitaria ...   \n",
              "1   Universidad de Chile  Evaluación de factibilidad técnica, económica ...   \n",
              "2   Universidad de Chile  Control de cargas eléctricas para la reducción...   \n",
              "3   Universidad de Chile  Hacia una teoría general de fiscalización: est...   \n",
              "4   Universidad de Chile          Clasificadores de memes con Deep Learning   \n",
              "5   Universidad de Chile  Sistema de asistencia para personas con discap...   \n",
              "6   Universidad de Chile  Estudio de las propiedades de los líquidos ió...   \n",
              "7   Universidad de Chile  Análisis y prospectivas de posibles tensiones ...   \n",
              "8   Universidad de Chile  Caracterización del efecto de la acetilcolina ...   \n",
              "9   Universidad de Chile  Cambios de las dinámicas de estados cerebrales...   \n",
              "10  Universidad de Chile  Metodologías de proyección de demanda y evalua...   \n",
              "11  Universidad de Chile  Estudio de aplicación de metodología diseño y ...   \n",
              "12  Universidad de Chile  La protección de niños, niñas y adolescentes m...   \n",
              "13  Universidad de Chile  Comercios virtuales sin marca impulsados por C...   \n",
              "14  Universidad de Chile  Árboles y caminos en subgrafos aleatorios de t...   \n",
              "15  Universidad de Chile  Estratigrafía y paleoecología de sedimentos fo...   \n",
              "16  Universidad de Chile  Desarrollo de un modelo predictivo para una ca...   \n",
              "17  Universidad de Chile  Revisión y propuesta de actualización del Regl...   \n",
              "18  Universidad de Chile  Diseño de un plan estratégico para una empresa...   \n",
              "19  Universidad de Chile  Indicador de desigualdad multidimensional en l...   \n",
              "20  Universidad de Chile  Evaluación de eficacia de los mecanismos de pa...   \n",
              "21  Universidad de Chile  Control of the modular multilevel matrix conve...   \n",
              "22  Universidad de Chile  Licencia postnatal en Chile: un análisis de la...   \n",
              "23  Universidad de Chile  Diseño de un plan de negocio inmobiliario para...   \n",
              "24  Universidad de Chile  Análisis hidrometeorológico de eventos extremo...   \n",
              "25  Universidad de Chile  Geomorfología de Isla Navarino (55°S): énfasis...   \n",
              "26  Universidad de Chile  Remoción de compuestos aromáticos clorados pre...   \n",
              "27  Universidad de Chile  Estudio de un modelo de spin-peierls con vibra...   \n",
              "28  Universidad de Chile  Estudio de la ruptura y distorsión de esquele...   \n",
              "29  Universidad de Chile  Estudio espectrofotométrico y electroquímico d...   \n",
              "\n",
              "                                    Autor  \\\n",
              "0    Contreras Contreras, Bruno Sebastián   \n",
              "1      Zepeda Iribarren, Francisco Javier   \n",
              "2           Foix Sánchez, Nibaldo Ignacio   \n",
              "3              Barriga Alarcón, María Paz   \n",
              "4    Jaramillo Andrade, Cristóbal Ignacio   \n",
              "5       Hernández Tapia, Andrea Alejandra   \n",
              "6               Mella Orellana, Andy Alan   \n",
              "7       Faúndez Alarcón, Sergio Sebastián   \n",
              "8       Cuevas Contreras, Fernanda Camila   \n",
              "9           Rodiño Climent, Julio Ignacio   \n",
              "10      Paredes Martínez, Gonzalo Eduardo   \n",
              "11       Viñales Trincado, Javiera Andrea   \n",
              "12     Villena Cifuentes, Constanza Belén   \n",
              "13       Aliaga Valderrama, Pablo Ignacio   \n",
              "14                Cancino Taboada, Alonso   \n",
              "15         Partarrieu Bravo, Diego Martín   \n",
              "16          Araya Rebolledo, Pablo Javier   \n",
              "17        Guaringa González, Karla Andrea   \n",
              "18              Cepeda Arce, Juan Enrique   \n",
              "19              Brito Hasbún, Jorge Elías   \n",
              "20            González Ávila, Carla Belén   \n",
              "21           Urrutia Ortiz, Matías Alonso   \n",
              "22  Castañeda Letelier, Macarena Fernanda   \n",
              "23        León Valencia, Mayela Alejandra   \n",
              "24       Jiménez Orellana, Héctor Ignacio   \n",
              "25             Lohidoy Lee, Carola Amelia   \n",
              "26     Salazar Sandoval, Sebastián Andrés   \n",
              "27                Elgueta Ferrada, Milton   \n",
              "28     González Martínez, María de Carmen   \n",
              "29               Tapia Mejia, Ana Eugenia   \n",
              "\n",
              "                                                Grado  \\\n",
              "0          Memoria para optar al título de Bioquímico   \n",
              "1   Tesis para optar al grado de Magíster en Gesti...   \n",
              "2   Memoria para optar al título de Ingeniero Civi...   \n",
              "3   Tesis para optar al grado académico de Magiste...   \n",
              "4   Memoria para optar al título de Ingeniero Civi...   \n",
              "5   Tesis para optar al grado de Magíster en Cienc...   \n",
              "6   Tesis para optar al grado de Magister en Cienc...   \n",
              "7   Tesis para optar al grado de Magíster en Gesti...   \n",
              "8   Tesis presentada a la Universidad de Chile par...   \n",
              "9   Memoria para optar al título profesional de Bi...   \n",
              "10  Tesis para optar al grado de Doctor en Sistema...   \n",
              "11    Memoria para optar al título de Ingeniera Civil   \n",
              "12  Memoria de prueba para optar al grado de Licen...   \n",
              "13  Memoria para optar al título de Ingeniero Civi...   \n",
              "14  Tesis para optar al grado de Magíster en Cienc...   \n",
              "15  Tesis para optar al grado de Doctor en Ciencia...   \n",
              "16  Memoria para optar al título de Ingeniero Civi...   \n",
              "17  Memoria para optar al título de Ingeniera en A...   \n",
              "18  Tesis para optar al grado de Magíster en Gesti...   \n",
              "19  Tesis para optar al grado de Magíster en Gesti...   \n",
              "20  Memoria para optar al título de Ingeniera Civi...   \n",
              "21  Tesis para optar al grado de Doctor en Ingenie...   \n",
              "22  Tesis para optar al grado de Magíster en Gesti...   \n",
              "23  Tesis para optar al grado de Magíster en Gesti...   \n",
              "24  Tesis para optar al grado de Magíster en Cienc...   \n",
              "25            Memoria para optar al título de Geóloga   \n",
              "26  Tesis para optar al grado de Magister en Cienc...   \n",
              "27                                                NaN   \n",
              "28                                                NaN   \n",
              "29                      Magíster en Ciencias Quimicas   \n",
              "\n",
              "                                           Asesor(es)   Año  \\\n",
              "0   Santiviago Cid, Carlos Alberto, Barra Bucarei,...  2022   \n",
              "1                      Flores Barrera, Ricardo Alonso  2022   \n",
              "2                         Ahumada Sanhueza, Constanza  2022   \n",
              "3                             Moraga Klenner, Claudio  2022   \n",
              "4   Bustos Cárdenas, Benjamín, Saldaña Villa, Magd...  2022   \n",
              "5                   Ruiz del Solar San Martín, Javier  2022   \n",
              "6   Fuentealba Rosas, Patricio, Contreras Ramos, R...  2017   \n",
              "7                            Leyton Navarro, Cristián  2022   \n",
              "8                             Lara Peñaloza, Hernán  2022   \n",
              "9   Paredes Vargas, Alfonso Humberto, El-Deredy, Wael  2022   \n",
              "10                                  Vargas Díaz, Luis  2022   \n",
              "11                        Polanco Carrasco, Alejandro  2022   \n",
              "12                              Moure Pino, Ana María  2022   \n",
              "13                               Díaz Cortés, Eduardo  2022   \n",
              "14                   Stein, Maya, Pavez Signé, Matías  2022   \n",
              "15                              Pinto Lincoñir, Luisa  2022   \n",
              "16                          Puente Chandía, Alejandra  2022   \n",
              "17                   Lemus Mondaca, Roberto Alejandro  2022   \n",
              "18                   Vergara Trincado, Manuel Rodrigo  2022   \n",
              "19                   Sanhueza Riveros, Claudia Yamile  2022   \n",
              "20                    Castro González, Carlos Eduardo  2022   \n",
              "21  Cárdenas Dobson, Jesús, Watson, Alan, Clare, J...  2022   \n",
              "22                             Flores Arenas, Bárbara  2022   \n",
              "23                     Flores Barrera, Ricardo Alonso  2022   \n",
              "24  Montserrat Michelini, Santiago, Lagos Zúñiga, ...  2022   \n",
              "25  Aguilar Martorell, Germán, Poblete Gómez, Fern...  2022   \n",
              "26                       Jara Vergara, Paul Sebastián  2017   \n",
              "27                                   Rossler, Jaime,   1992   \n",
              "28                                  Letelier, Ricardo  2007   \n",
              "29                           Morales Barañao, Alfonso  1992   \n",
              "\n",
              "                                              Resumen  \n",
              "0   El tomate (Solanum lycopersicum) es de gran re...  \n",
              "1   El presente documento tiene por finalidad la e...  \n",
              "2   Ya sea por los planes de reducción de emisione...  \n",
              "3   La presente investigación tiene por objetivo d...  \n",
              "4   Los memes son un tipo de imagen muy particular...  \n",
              "5   En los últimos años se han propuesto y desarro...  \n",
              "6   En este trabajo se presenta un estudio teórico...  \n",
              "7                                                 NaN  \n",
              "8   Es conocido que la secreción de esteroides y e...  \n",
              "9   Los estudios de neuroimaginería han develado e...  \n",
              "10  Esta tesis de doctorado se da en un contexto d...  \n",
              "11  El sector de la construcción contribuye aproxi...  \n",
              "12  En esta investigación, nos enfocaremos en los ...  \n",
              "13  Los productos sin marca, o whitelabel, han for...  \n",
              "14  El presente trabajo define un modelo de subgra...  \n",
              "15  El presente trabajo define un modelo de subgra...  \n",
              "16  El presente trabajo define un modelo de subgra...  \n",
              "17  La prevalencia de alergias alimentarias han au...  \n",
              "18  El presente plan estratégico considera el dise...  \n",
              "19  OECD (2017) señala que Chile muestra los nivel...  \n",
              "20  Se cree que existe una relación constructiva e...  \n",
              "21  El convertidor matricial modular multinivel (M...  \n",
              "22  El convertidor matricial modular multinivel (M...  \n",
              "23  La presente tesis tuvo como objetivo demostrar...  \n",
              "24  En el presente estudio se analizan eventos hid...  \n",
              "25  Los límites de la última glaciación en Patagon...  \n",
              "26  Este trabajo  de Magister consistió en el estu...  \n",
              "27  Se analiza la solución exacta del modelo de Pe...  \n",
              "28  En el estudio de las propiedades electrónicas ...  \n",
              "29  En el estudio de las propiedades electrónicas ...  "
            ],
            "text/html": [
              "\n",
              "  <div id=\"df-dea68270-241b-4df0-80ca-4ccdd41b8b80\">\n",
              "    <div class=\"colab-df-container\">\n",
              "      <div>\n",
              "<style scoped>\n",
              "    .dataframe tbody tr th:only-of-type {\n",
              "        vertical-align: middle;\n",
              "    }\n",
              "\n",
              "    .dataframe tbody tr th {\n",
              "        vertical-align: top;\n",
              "    }\n",
              "\n",
              "    .dataframe thead th {\n",
              "        text-align: right;\n",
              "    }\n",
              "</style>\n",
              "<table border=\"1\" class=\"dataframe\">\n",
              "  <thead>\n",
              "    <tr style=\"text-align: right;\">\n",
              "      <th></th>\n",
              "      <th>Institución</th>\n",
              "      <th>Título</th>\n",
              "      <th>Autor</th>\n",
              "      <th>Grado</th>\n",
              "      <th>Asesor(es)</th>\n",
              "      <th>Año</th>\n",
              "      <th>Resumen</th>\n",
              "    </tr>\n",
              "  </thead>\n",
              "  <tbody>\n",
              "    <tr>\n",
              "      <th>0</th>\n",
              "      <td>Universidad de Chile</td>\n",
              "      <td>Efecto del quitosano en la acción parasitaria ...</td>\n",
              "      <td>Contreras Contreras, Bruno Sebastián</td>\n",
              "      <td>Memoria para optar al título de Bioquímico</td>\n",
              "      <td>Santiviago Cid, Carlos Alberto, Barra Bucarei,...</td>\n",
              "      <td>2022</td>\n",
              "      <td>El tomate (Solanum lycopersicum) es de gran re...</td>\n",
              "    </tr>\n",
              "    <tr>\n",
              "      <th>1</th>\n",
              "      <td>Universidad de Chile</td>\n",
              "      <td>Evaluación de factibilidad técnica, económica ...</td>\n",
              "      <td>Zepeda Iribarren, Francisco Javier</td>\n",
              "      <td>Tesis para optar al grado de Magíster en Gesti...</td>\n",
              "      <td>Flores Barrera, Ricardo Alonso</td>\n",
              "      <td>2022</td>\n",
              "      <td>El presente documento tiene por finalidad la e...</td>\n",
              "    </tr>\n",
              "    <tr>\n",
              "      <th>2</th>\n",
              "      <td>Universidad de Chile</td>\n",
              "      <td>Control de cargas eléctricas para la reducción...</td>\n",
              "      <td>Foix Sánchez, Nibaldo Ignacio</td>\n",
              "      <td>Memoria para optar al título de Ingeniero Civi...</td>\n",
              "      <td>Ahumada Sanhueza, Constanza</td>\n",
              "      <td>2022</td>\n",
              "      <td>Ya sea por los planes de reducción de emisione...</td>\n",
              "    </tr>\n",
              "    <tr>\n",
              "      <th>3</th>\n",
              "      <td>Universidad de Chile</td>\n",
              "      <td>Hacia una teoría general de fiscalización: est...</td>\n",
              "      <td>Barriga Alarcón, María Paz</td>\n",
              "      <td>Tesis para optar al grado académico de Magiste...</td>\n",
              "      <td>Moraga Klenner, Claudio</td>\n",
              "      <td>2022</td>\n",
              "      <td>La presente investigación tiene por objetivo d...</td>\n",
              "    </tr>\n",
              "    <tr>\n",
              "      <th>4</th>\n",
              "      <td>Universidad de Chile</td>\n",
              "      <td>Clasificadores de memes con Deep Learning</td>\n",
              "      <td>Jaramillo Andrade, Cristóbal Ignacio</td>\n",
              "      <td>Memoria para optar al título de Ingeniero Civi...</td>\n",
              "      <td>Bustos Cárdenas, Benjamín, Saldaña Villa, Magd...</td>\n",
              "      <td>2022</td>\n",
              "      <td>Los memes son un tipo de imagen muy particular...</td>\n",
              "    </tr>\n",
              "    <tr>\n",
              "      <th>5</th>\n",
              "      <td>Universidad de Chile</td>\n",
              "      <td>Sistema de asistencia para personas con discap...</td>\n",
              "      <td>Hernández Tapia, Andrea Alejandra</td>\n",
              "      <td>Tesis para optar al grado de Magíster en Cienc...</td>\n",
              "      <td>Ruiz del Solar San Martín, Javier</td>\n",
              "      <td>2022</td>\n",
              "      <td>En los últimos años se han propuesto y desarro...</td>\n",
              "    </tr>\n",
              "    <tr>\n",
              "      <th>6</th>\n",
              "      <td>Universidad de Chile</td>\n",
              "      <td>Estudio de las propiedades de los líquidos ió...</td>\n",
              "      <td>Mella Orellana, Andy Alan</td>\n",
              "      <td>Tesis para optar al grado de Magister en Cienc...</td>\n",
              "      <td>Fuentealba Rosas, Patricio, Contreras Ramos, R...</td>\n",
              "      <td>2017</td>\n",
              "      <td>En este trabajo se presenta un estudio teórico...</td>\n",
              "    </tr>\n",
              "    <tr>\n",
              "      <th>7</th>\n",
              "      <td>Universidad de Chile</td>\n",
              "      <td>Análisis y prospectivas de posibles tensiones ...</td>\n",
              "      <td>Faúndez Alarcón, Sergio Sebastián</td>\n",
              "      <td>Tesis para optar al grado de Magíster en Gesti...</td>\n",
              "      <td>Leyton Navarro, Cristián</td>\n",
              "      <td>2022</td>\n",
              "      <td>NaN</td>\n",
              "    </tr>\n",
              "    <tr>\n",
              "      <th>8</th>\n",
              "      <td>Universidad de Chile</td>\n",
              "      <td>Caracterización del efecto de la acetilcolina ...</td>\n",
              "      <td>Cuevas Contreras, Fernanda Camila</td>\n",
              "      <td>Tesis presentada a la Universidad de Chile par...</td>\n",
              "      <td>Lara Peñaloza, Hernán</td>\n",
              "      <td>2022</td>\n",
              "      <td>Es conocido que la secreción de esteroides y e...</td>\n",
              "    </tr>\n",
              "    <tr>\n",
              "      <th>9</th>\n",
              "      <td>Universidad de Chile</td>\n",
              "      <td>Cambios de las dinámicas de estados cerebrales...</td>\n",
              "      <td>Rodiño Climent, Julio Ignacio</td>\n",
              "      <td>Memoria para optar al título profesional de Bi...</td>\n",
              "      <td>Paredes Vargas, Alfonso Humberto, El-Deredy, Wael</td>\n",
              "      <td>2022</td>\n",
              "      <td>Los estudios de neuroimaginería han develado e...</td>\n",
              "    </tr>\n",
              "    <tr>\n",
              "      <th>10</th>\n",
              "      <td>Universidad de Chile</td>\n",
              "      <td>Metodologías de proyección de demanda y evalua...</td>\n",
              "      <td>Paredes Martínez, Gonzalo Eduardo</td>\n",
              "      <td>Tesis para optar al grado de Doctor en Sistema...</td>\n",
              "      <td>Vargas Díaz, Luis</td>\n",
              "      <td>2022</td>\n",
              "      <td>Esta tesis de doctorado se da en un contexto d...</td>\n",
              "    </tr>\n",
              "    <tr>\n",
              "      <th>11</th>\n",
              "      <td>Universidad de Chile</td>\n",
              "      <td>Estudio de aplicación de metodología diseño y ...</td>\n",
              "      <td>Viñales Trincado, Javiera Andrea</td>\n",
              "      <td>Memoria para optar al título de Ingeniera Civil</td>\n",
              "      <td>Polanco Carrasco, Alejandro</td>\n",
              "      <td>2022</td>\n",
              "      <td>El sector de la construcción contribuye aproxi...</td>\n",
              "    </tr>\n",
              "    <tr>\n",
              "      <th>12</th>\n",
              "      <td>Universidad de Chile</td>\n",
              "      <td>La protección de niños, niñas y adolescentes m...</td>\n",
              "      <td>Villena Cifuentes, Constanza Belén</td>\n",
              "      <td>Memoria de prueba para optar al grado de Licen...</td>\n",
              "      <td>Moure Pino, Ana María</td>\n",
              "      <td>2022</td>\n",
              "      <td>En esta investigación, nos enfocaremos en los ...</td>\n",
              "    </tr>\n",
              "    <tr>\n",
              "      <th>13</th>\n",
              "      <td>Universidad de Chile</td>\n",
              "      <td>Comercios virtuales sin marca impulsados por C...</td>\n",
              "      <td>Aliaga Valderrama, Pablo Ignacio</td>\n",
              "      <td>Memoria para optar al título de Ingeniero Civi...</td>\n",
              "      <td>Díaz Cortés, Eduardo</td>\n",
              "      <td>2022</td>\n",
              "      <td>Los productos sin marca, o whitelabel, han for...</td>\n",
              "    </tr>\n",
              "    <tr>\n",
              "      <th>14</th>\n",
              "      <td>Universidad de Chile</td>\n",
              "      <td>Árboles y caminos en subgrafos aleatorios de t...</td>\n",
              "      <td>Cancino Taboada, Alonso</td>\n",
              "      <td>Tesis para optar al grado de Magíster en Cienc...</td>\n",
              "      <td>Stein, Maya, Pavez Signé, Matías</td>\n",
              "      <td>2022</td>\n",
              "      <td>El presente trabajo define un modelo de subgra...</td>\n",
              "    </tr>\n",
              "    <tr>\n",
              "      <th>15</th>\n",
              "      <td>Universidad de Chile</td>\n",
              "      <td>Estratigrafía y paleoecología de sedimentos fo...</td>\n",
              "      <td>Partarrieu Bravo, Diego Martín</td>\n",
              "      <td>Tesis para optar al grado de Doctor en Ciencia...</td>\n",
              "      <td>Pinto Lincoñir, Luisa</td>\n",
              "      <td>2022</td>\n",
              "      <td>El presente trabajo define un modelo de subgra...</td>\n",
              "    </tr>\n",
              "    <tr>\n",
              "      <th>16</th>\n",
              "      <td>Universidad de Chile</td>\n",
              "      <td>Desarrollo de un modelo predictivo para una ca...</td>\n",
              "      <td>Araya Rebolledo, Pablo Javier</td>\n",
              "      <td>Memoria para optar al título de Ingeniero Civi...</td>\n",
              "      <td>Puente Chandía, Alejandra</td>\n",
              "      <td>2022</td>\n",
              "      <td>El presente trabajo define un modelo de subgra...</td>\n",
              "    </tr>\n",
              "    <tr>\n",
              "      <th>17</th>\n",
              "      <td>Universidad de Chile</td>\n",
              "      <td>Revisión y propuesta de actualización del Regl...</td>\n",
              "      <td>Guaringa González, Karla Andrea</td>\n",
              "      <td>Memoria para optar al título de Ingeniera en A...</td>\n",
              "      <td>Lemus Mondaca, Roberto Alejandro</td>\n",
              "      <td>2022</td>\n",
              "      <td>La prevalencia de alergias alimentarias han au...</td>\n",
              "    </tr>\n",
              "    <tr>\n",
              "      <th>18</th>\n",
              "      <td>Universidad de Chile</td>\n",
              "      <td>Diseño de un plan estratégico para una empresa...</td>\n",
              "      <td>Cepeda Arce, Juan Enrique</td>\n",
              "      <td>Tesis para optar al grado de Magíster en Gesti...</td>\n",
              "      <td>Vergara Trincado, Manuel Rodrigo</td>\n",
              "      <td>2022</td>\n",
              "      <td>El presente plan estratégico considera el dise...</td>\n",
              "    </tr>\n",
              "    <tr>\n",
              "      <th>19</th>\n",
              "      <td>Universidad de Chile</td>\n",
              "      <td>Indicador de desigualdad multidimensional en l...</td>\n",
              "      <td>Brito Hasbún, Jorge Elías</td>\n",
              "      <td>Tesis para optar al grado de Magíster en Gesti...</td>\n",
              "      <td>Sanhueza Riveros, Claudia Yamile</td>\n",
              "      <td>2022</td>\n",
              "      <td>OECD (2017) señala que Chile muestra los nivel...</td>\n",
              "    </tr>\n",
              "    <tr>\n",
              "      <th>20</th>\n",
              "      <td>Universidad de Chile</td>\n",
              "      <td>Evaluación de eficacia de los mecanismos de pa...</td>\n",
              "      <td>González Ávila, Carla Belén</td>\n",
              "      <td>Memoria para optar al título de Ingeniera Civi...</td>\n",
              "      <td>Castro González, Carlos Eduardo</td>\n",
              "      <td>2022</td>\n",
              "      <td>Se cree que existe una relación constructiva e...</td>\n",
              "    </tr>\n",
              "    <tr>\n",
              "      <th>21</th>\n",
              "      <td>Universidad de Chile</td>\n",
              "      <td>Control of the modular multilevel matrix conve...</td>\n",
              "      <td>Urrutia Ortiz, Matías Alonso</td>\n",
              "      <td>Tesis para optar al grado de Doctor en Ingenie...</td>\n",
              "      <td>Cárdenas Dobson, Jesús, Watson, Alan, Clare, J...</td>\n",
              "      <td>2022</td>\n",
              "      <td>El convertidor matricial modular multinivel (M...</td>\n",
              "    </tr>\n",
              "    <tr>\n",
              "      <th>22</th>\n",
              "      <td>Universidad de Chile</td>\n",
              "      <td>Licencia postnatal en Chile: un análisis de la...</td>\n",
              "      <td>Castañeda Letelier, Macarena Fernanda</td>\n",
              "      <td>Tesis para optar al grado de Magíster en Gesti...</td>\n",
              "      <td>Flores Arenas, Bárbara</td>\n",
              "      <td>2022</td>\n",
              "      <td>El convertidor matricial modular multinivel (M...</td>\n",
              "    </tr>\n",
              "    <tr>\n",
              "      <th>23</th>\n",
              "      <td>Universidad de Chile</td>\n",
              "      <td>Diseño de un plan de negocio inmobiliario para...</td>\n",
              "      <td>León Valencia, Mayela Alejandra</td>\n",
              "      <td>Tesis para optar al grado de Magíster en Gesti...</td>\n",
              "      <td>Flores Barrera, Ricardo Alonso</td>\n",
              "      <td>2022</td>\n",
              "      <td>La presente tesis tuvo como objetivo demostrar...</td>\n",
              "    </tr>\n",
              "    <tr>\n",
              "      <th>24</th>\n",
              "      <td>Universidad de Chile</td>\n",
              "      <td>Análisis hidrometeorológico de eventos extremo...</td>\n",
              "      <td>Jiménez Orellana, Héctor Ignacio</td>\n",
              "      <td>Tesis para optar al grado de Magíster en Cienc...</td>\n",
              "      <td>Montserrat Michelini, Santiago, Lagos Zúñiga, ...</td>\n",
              "      <td>2022</td>\n",
              "      <td>En el presente estudio se analizan eventos hid...</td>\n",
              "    </tr>\n",
              "    <tr>\n",
              "      <th>25</th>\n",
              "      <td>Universidad de Chile</td>\n",
              "      <td>Geomorfología de Isla Navarino (55°S): énfasis...</td>\n",
              "      <td>Lohidoy Lee, Carola Amelia</td>\n",
              "      <td>Memoria para optar al título de Geóloga</td>\n",
              "      <td>Aguilar Martorell, Germán, Poblete Gómez, Fern...</td>\n",
              "      <td>2022</td>\n",
              "      <td>Los límites de la última glaciación en Patagon...</td>\n",
              "    </tr>\n",
              "    <tr>\n",
              "      <th>26</th>\n",
              "      <td>Universidad de Chile</td>\n",
              "      <td>Remoción de compuestos aromáticos clorados pre...</td>\n",
              "      <td>Salazar Sandoval, Sebastián Andrés</td>\n",
              "      <td>Tesis para optar al grado de Magister en Cienc...</td>\n",
              "      <td>Jara Vergara, Paul Sebastián</td>\n",
              "      <td>2017</td>\n",
              "      <td>Este trabajo  de Magister consistió en el estu...</td>\n",
              "    </tr>\n",
              "    <tr>\n",
              "      <th>27</th>\n",
              "      <td>Universidad de Chile</td>\n",
              "      <td>Estudio de un modelo de spin-peierls con vibra...</td>\n",
              "      <td>Elgueta Ferrada, Milton</td>\n",
              "      <td>NaN</td>\n",
              "      <td>Rossler, Jaime,</td>\n",
              "      <td>1992</td>\n",
              "      <td>Se analiza la solución exacta del modelo de Pe...</td>\n",
              "    </tr>\n",
              "    <tr>\n",
              "      <th>28</th>\n",
              "      <td>Universidad de Chile</td>\n",
              "      <td>Estudio de la ruptura y distorsión de esquele...</td>\n",
              "      <td>González Martínez, María de Carmen</td>\n",
              "      <td>NaN</td>\n",
              "      <td>Letelier, Ricardo</td>\n",
              "      <td>2007</td>\n",
              "      <td>En el estudio de las propiedades electrónicas ...</td>\n",
              "    </tr>\n",
              "    <tr>\n",
              "      <th>29</th>\n",
              "      <td>Universidad de Chile</td>\n",
              "      <td>Estudio espectrofotométrico y electroquímico d...</td>\n",
              "      <td>Tapia Mejia, Ana Eugenia</td>\n",
              "      <td>Magíster en Ciencias Quimicas</td>\n",
              "      <td>Morales Barañao, Alfonso</td>\n",
              "      <td>1992</td>\n",
              "      <td>En el estudio de las propiedades electrónicas ...</td>\n",
              "    </tr>\n",
              "  </tbody>\n",
              "</table>\n",
              "</div>\n",
              "      <button class=\"colab-df-convert\" onclick=\"convertToInteractive('df-dea68270-241b-4df0-80ca-4ccdd41b8b80')\"\n",
              "              title=\"Convert this dataframe to an interactive table.\"\n",
              "              style=\"display:none;\">\n",
              "        \n",
              "  <svg xmlns=\"http://www.w3.org/2000/svg\" height=\"24px\"viewBox=\"0 0 24 24\"\n",
              "       width=\"24px\">\n",
              "    <path d=\"M0 0h24v24H0V0z\" fill=\"none\"/>\n",
              "    <path d=\"M18.56 5.44l.94 2.06.94-2.06 2.06-.94-2.06-.94-.94-2.06-.94 2.06-2.06.94zm-11 1L8.5 8.5l.94-2.06 2.06-.94-2.06-.94L8.5 2.5l-.94 2.06-2.06.94zm10 10l.94 2.06.94-2.06 2.06-.94-2.06-.94-.94-2.06-.94 2.06-2.06.94z\"/><path d=\"M17.41 7.96l-1.37-1.37c-.4-.4-.92-.59-1.43-.59-.52 0-1.04.2-1.43.59L10.3 9.45l-7.72 7.72c-.78.78-.78 2.05 0 2.83L4 21.41c.39.39.9.59 1.41.59.51 0 1.02-.2 1.41-.59l7.78-7.78 2.81-2.81c.8-.78.8-2.07 0-2.86zM5.41 20L4 18.59l7.72-7.72 1.47 1.35L5.41 20z\"/>\n",
              "  </svg>\n",
              "      </button>\n",
              "      \n",
              "  <style>\n",
              "    .colab-df-container {\n",
              "      display:flex;\n",
              "      flex-wrap:wrap;\n",
              "      gap: 12px;\n",
              "    }\n",
              "\n",
              "    .colab-df-convert {\n",
              "      background-color: #E8F0FE;\n",
              "      border: none;\n",
              "      border-radius: 50%;\n",
              "      cursor: pointer;\n",
              "      display: none;\n",
              "      fill: #1967D2;\n",
              "      height: 32px;\n",
              "      padding: 0 0 0 0;\n",
              "      width: 32px;\n",
              "    }\n",
              "\n",
              "    .colab-df-convert:hover {\n",
              "      background-color: #E2EBFA;\n",
              "      box-shadow: 0px 1px 2px rgba(60, 64, 67, 0.3), 0px 1px 3px 1px rgba(60, 64, 67, 0.15);\n",
              "      fill: #174EA6;\n",
              "    }\n",
              "\n",
              "    [theme=dark] .colab-df-convert {\n",
              "      background-color: #3B4455;\n",
              "      fill: #D2E3FC;\n",
              "    }\n",
              "\n",
              "    [theme=dark] .colab-df-convert:hover {\n",
              "      background-color: #434B5C;\n",
              "      box-shadow: 0px 1px 3px 1px rgba(0, 0, 0, 0.15);\n",
              "      filter: drop-shadow(0px 1px 2px rgba(0, 0, 0, 0.3));\n",
              "      fill: #FFFFFF;\n",
              "    }\n",
              "  </style>\n",
              "\n",
              "      <script>\n",
              "        const buttonEl =\n",
              "          document.querySelector('#df-dea68270-241b-4df0-80ca-4ccdd41b8b80 button.colab-df-convert');\n",
              "        buttonEl.style.display =\n",
              "          google.colab.kernel.accessAllowed ? 'block' : 'none';\n",
              "\n",
              "        async function convertToInteractive(key) {\n",
              "          const element = document.querySelector('#df-dea68270-241b-4df0-80ca-4ccdd41b8b80');\n",
              "          const dataTable =\n",
              "            await google.colab.kernel.invokeFunction('convertToInteractive',\n",
              "                                                     [key], {});\n",
              "          if (!dataTable) return;\n",
              "\n",
              "          const docLinkHtml = 'Like what you see? Visit the ' +\n",
              "            '<a target=\"_blank\" href=https://colab.research.google.com/notebooks/data_table.ipynb>data table notebook</a>'\n",
              "            + ' to learn more about interactive tables.';\n",
              "          element.innerHTML = '';\n",
              "          dataTable['output_type'] = 'display_data';\n",
              "          await google.colab.output.renderOutput(dataTable, element);\n",
              "          const docLink = document.createElement('div');\n",
              "          docLink.innerHTML = docLinkHtml;\n",
              "          element.appendChild(docLink);\n",
              "        }\n",
              "      </script>\n",
              "    </div>\n",
              "  </div>\n",
              "  "
            ]
          },
          "metadata": {},
          "execution_count": 7
        }
      ]
    }
  ]
}