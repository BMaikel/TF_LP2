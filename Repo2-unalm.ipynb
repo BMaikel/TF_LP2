{
 "cells": [
  {
   "cell_type": "code",
   "execution_count": 1,
   "id": "efa9ed2b",
   "metadata": {},
   "outputs": [],
   "source": [
    "import requests\n",
    "from bs4 import BeautifulSoup\n",
    "import pandas  as  pd\n",
    "import matplotlib.pyplot as plt"
   ]
  },
  {
   "cell_type": "code",
   "execution_count": 2,
   "id": "50c32338",
   "metadata": {},
   "outputs": [],
   "source": [
    "url = \"https://repositorio.lamolina.edu.pe/recent-submissions?offset=\"\n",
    "\n",
    "# Realizar una petición HTTP a la URL\n",
    "response = requests.get(url)\n",
    "\n",
    "# Analizar el contenido HTML de la página usando Beautiful Soup\n",
    "soup = BeautifulSoup(response.content, \"html.parser\")\n",
    "\n",
    "# Crea el limite superior del for tomando en cuenta la cantidad de tesis expuestas en  la pagina\n",
    "# insertar int((soup.find(\"p\",{\"class\":\"pagination-info\"})).text[-4:]) en numtesis para extraer todas las tesis\n",
    "numtesis = 60\n",
    "limsup=numtesis/20+1"
   ]
  },
  {
   "cell_type": "code",
   "execution_count": 3,
   "id": "3d37063c",
   "metadata": {},
   "outputs": [],
   "source": [
    "hrefs=[]\n",
    "# Iterar sobre todos los valores de i desde 0 hasta 100\n",
    "for i in range(0, int(limsup)):\n",
    "    # Crear la URL de la página a scrappear\n",
    "    url = \"https://repositorio.lamolina.edu.pe/recent-submissions?offset=\" + str(i*20)\n",
    "\n",
    "    # Realizar una petición HTTP a la URL\n",
    "    response = requests.get(url)\n",
    "\n",
    "    # Analizar el contenido HTML de la página usando Beautiful Soup\n",
    "    soup = BeautifulSoup(response.content, \"html.parser\")\n",
    "\n",
    "    # Extraer todos los enlaces de la página\n",
    "    links = soup.find_all(\"h4\",{\"class\":\"artifact-title\"})\n",
    "\n",
    "\n",
    "    # Iterar sobre todos los enlaces extraídos y mostrarlos por pantalla\n",
    "    for link in links:\n",
    "        hrefs.append(\"https://repositorio.lamolina.edu.pe\"+link.find(\"a\").get(\"href\")+\"?show=full\")"
   ]
  },
  {
   "cell_type": "code",
   "execution_count": 4,
   "id": "c3fa863b",
   "metadata": {},
   "outputs": [],
   "source": [
    "# Se declaran las listas donde se almacenaran los datos\n",
    "institucion=[]\n",
    "titulo=[]\n",
    "autor=[]\n",
    "grado=[]\n",
    "asesor=[]\n",
    "resumen=[]\n",
    "anio=[]\n",
    "disciplina=[]\n",
    "vacio=\"\""
   ]
  },
  {
   "cell_type": "code",
   "execution_count": 5,
   "id": "83b597fc",
   "metadata": {
    "scrolled": false
   },
   "outputs": [
    {
     "ename": "ImportError",
     "evalue": "html5lib not found, please install it",
     "output_type": "error",
     "traceback": [
      "\u001b[1;31m---------------------------------------------------------------------------\u001b[0m",
      "\u001b[1;31mImportError\u001b[0m                               Traceback (most recent call last)",
      "Input \u001b[1;32mIn [5]\u001b[0m, in \u001b[0;36m<cell line: 1>\u001b[1;34m()\u001b[0m\n\u001b[0;32m      8\u001b[0m table \u001b[38;5;241m=\u001b[39m soup\u001b[38;5;241m.\u001b[39mfind(\u001b[38;5;124m\"\u001b[39m\u001b[38;5;124mtable\u001b[39m\u001b[38;5;124m\"\u001b[39m, {\u001b[38;5;124m\"\u001b[39m\u001b[38;5;124mclass\u001b[39m\u001b[38;5;124m\"\u001b[39m: \u001b[38;5;124m\"\u001b[39m\u001b[38;5;124mds-includeSet-table detailtable table table-striped table-hover\u001b[39m\u001b[38;5;124m\"\u001b[39m})\n\u001b[0;32m     10\u001b[0m \u001b[38;5;66;03m# Convertir la tabla en un DataFrame de Pandas\u001b[39;00m\n\u001b[1;32m---> 11\u001b[0m df \u001b[38;5;241m=\u001b[39m \u001b[43mpd\u001b[49m\u001b[38;5;241;43m.\u001b[39;49m\u001b[43mread_html\u001b[49m\u001b[43m(\u001b[49m\u001b[38;5;28;43mstr\u001b[39;49m\u001b[43m(\u001b[49m\u001b[43mtable\u001b[49m\u001b[43m)\u001b[49m\u001b[43m,\u001b[49m\u001b[43mindex_col\u001b[49m\u001b[38;5;241;43m=\u001b[39;49m\u001b[38;5;241;43m0\u001b[39;49m\u001b[43m)\u001b[49m[\u001b[38;5;241m0\u001b[39m]\n\u001b[0;32m     13\u001b[0m \u001b[38;5;66;03m# Nos quedamos con la parte de la tabla que nos importa\u001b[39;00m\n\u001b[0;32m     14\u001b[0m df\u001b[38;5;241m=\u001b[39mdf[:][\u001b[38;5;241m1\u001b[39m]\n",
      "File \u001b[1;32mC:\\ProgramData\\Anaconda3\\lib\\site-packages\\pandas\\util\\_decorators.py:311\u001b[0m, in \u001b[0;36mdeprecate_nonkeyword_arguments.<locals>.decorate.<locals>.wrapper\u001b[1;34m(*args, **kwargs)\u001b[0m\n\u001b[0;32m    305\u001b[0m \u001b[38;5;28;01mif\u001b[39;00m \u001b[38;5;28mlen\u001b[39m(args) \u001b[38;5;241m>\u001b[39m num_allow_args:\n\u001b[0;32m    306\u001b[0m     warnings\u001b[38;5;241m.\u001b[39mwarn(\n\u001b[0;32m    307\u001b[0m         msg\u001b[38;5;241m.\u001b[39mformat(arguments\u001b[38;5;241m=\u001b[39marguments),\n\u001b[0;32m    308\u001b[0m         \u001b[38;5;167;01mFutureWarning\u001b[39;00m,\n\u001b[0;32m    309\u001b[0m         stacklevel\u001b[38;5;241m=\u001b[39mstacklevel,\n\u001b[0;32m    310\u001b[0m     )\n\u001b[1;32m--> 311\u001b[0m \u001b[38;5;28;01mreturn\u001b[39;00m func(\u001b[38;5;241m*\u001b[39margs, \u001b[38;5;241m*\u001b[39m\u001b[38;5;241m*\u001b[39mkwargs)\n",
      "File \u001b[1;32mC:\\ProgramData\\Anaconda3\\lib\\site-packages\\pandas\\io\\html.py:1113\u001b[0m, in \u001b[0;36mread_html\u001b[1;34m(io, match, flavor, header, index_col, skiprows, attrs, parse_dates, thousands, encoding, decimal, converters, na_values, keep_default_na, displayed_only)\u001b[0m\n\u001b[0;32m   1109\u001b[0m validate_header_arg(header)\n\u001b[0;32m   1111\u001b[0m io \u001b[38;5;241m=\u001b[39m stringify_path(io)\n\u001b[1;32m-> 1113\u001b[0m \u001b[38;5;28;01mreturn\u001b[39;00m \u001b[43m_parse\u001b[49m\u001b[43m(\u001b[49m\n\u001b[0;32m   1114\u001b[0m \u001b[43m    \u001b[49m\u001b[43mflavor\u001b[49m\u001b[38;5;241;43m=\u001b[39;49m\u001b[43mflavor\u001b[49m\u001b[43m,\u001b[49m\n\u001b[0;32m   1115\u001b[0m \u001b[43m    \u001b[49m\u001b[43mio\u001b[49m\u001b[38;5;241;43m=\u001b[39;49m\u001b[43mio\u001b[49m\u001b[43m,\u001b[49m\n\u001b[0;32m   1116\u001b[0m \u001b[43m    \u001b[49m\u001b[43mmatch\u001b[49m\u001b[38;5;241;43m=\u001b[39;49m\u001b[43mmatch\u001b[49m\u001b[43m,\u001b[49m\n\u001b[0;32m   1117\u001b[0m \u001b[43m    \u001b[49m\u001b[43mheader\u001b[49m\u001b[38;5;241;43m=\u001b[39;49m\u001b[43mheader\u001b[49m\u001b[43m,\u001b[49m\n\u001b[0;32m   1118\u001b[0m \u001b[43m    \u001b[49m\u001b[43mindex_col\u001b[49m\u001b[38;5;241;43m=\u001b[39;49m\u001b[43mindex_col\u001b[49m\u001b[43m,\u001b[49m\n\u001b[0;32m   1119\u001b[0m \u001b[43m    \u001b[49m\u001b[43mskiprows\u001b[49m\u001b[38;5;241;43m=\u001b[39;49m\u001b[43mskiprows\u001b[49m\u001b[43m,\u001b[49m\n\u001b[0;32m   1120\u001b[0m \u001b[43m    \u001b[49m\u001b[43mparse_dates\u001b[49m\u001b[38;5;241;43m=\u001b[39;49m\u001b[43mparse_dates\u001b[49m\u001b[43m,\u001b[49m\n\u001b[0;32m   1121\u001b[0m \u001b[43m    \u001b[49m\u001b[43mthousands\u001b[49m\u001b[38;5;241;43m=\u001b[39;49m\u001b[43mthousands\u001b[49m\u001b[43m,\u001b[49m\n\u001b[0;32m   1122\u001b[0m \u001b[43m    \u001b[49m\u001b[43mattrs\u001b[49m\u001b[38;5;241;43m=\u001b[39;49m\u001b[43mattrs\u001b[49m\u001b[43m,\u001b[49m\n\u001b[0;32m   1123\u001b[0m \u001b[43m    \u001b[49m\u001b[43mencoding\u001b[49m\u001b[38;5;241;43m=\u001b[39;49m\u001b[43mencoding\u001b[49m\u001b[43m,\u001b[49m\n\u001b[0;32m   1124\u001b[0m \u001b[43m    \u001b[49m\u001b[43mdecimal\u001b[49m\u001b[38;5;241;43m=\u001b[39;49m\u001b[43mdecimal\u001b[49m\u001b[43m,\u001b[49m\n\u001b[0;32m   1125\u001b[0m \u001b[43m    \u001b[49m\u001b[43mconverters\u001b[49m\u001b[38;5;241;43m=\u001b[39;49m\u001b[43mconverters\u001b[49m\u001b[43m,\u001b[49m\n\u001b[0;32m   1126\u001b[0m \u001b[43m    \u001b[49m\u001b[43mna_values\u001b[49m\u001b[38;5;241;43m=\u001b[39;49m\u001b[43mna_values\u001b[49m\u001b[43m,\u001b[49m\n\u001b[0;32m   1127\u001b[0m \u001b[43m    \u001b[49m\u001b[43mkeep_default_na\u001b[49m\u001b[38;5;241;43m=\u001b[39;49m\u001b[43mkeep_default_na\u001b[49m\u001b[43m,\u001b[49m\n\u001b[0;32m   1128\u001b[0m \u001b[43m    \u001b[49m\u001b[43mdisplayed_only\u001b[49m\u001b[38;5;241;43m=\u001b[39;49m\u001b[43mdisplayed_only\u001b[49m\u001b[43m,\u001b[49m\n\u001b[0;32m   1129\u001b[0m \u001b[43m\u001b[49m\u001b[43m)\u001b[49m\n",
      "File \u001b[1;32mC:\\ProgramData\\Anaconda3\\lib\\site-packages\\pandas\\io\\html.py:915\u001b[0m, in \u001b[0;36m_parse\u001b[1;34m(flavor, io, match, attrs, encoding, displayed_only, **kwargs)\u001b[0m\n\u001b[0;32m    913\u001b[0m retained \u001b[38;5;241m=\u001b[39m \u001b[38;5;28;01mNone\u001b[39;00m\n\u001b[0;32m    914\u001b[0m \u001b[38;5;28;01mfor\u001b[39;00m flav \u001b[38;5;129;01min\u001b[39;00m flavor:\n\u001b[1;32m--> 915\u001b[0m     parser \u001b[38;5;241m=\u001b[39m \u001b[43m_parser_dispatch\u001b[49m\u001b[43m(\u001b[49m\u001b[43mflav\u001b[49m\u001b[43m)\u001b[49m\n\u001b[0;32m    916\u001b[0m     p \u001b[38;5;241m=\u001b[39m parser(io, compiled_match, attrs, encoding, displayed_only)\n\u001b[0;32m    918\u001b[0m     \u001b[38;5;28;01mtry\u001b[39;00m:\n",
      "File \u001b[1;32mC:\\ProgramData\\Anaconda3\\lib\\site-packages\\pandas\\io\\html.py:864\u001b[0m, in \u001b[0;36m_parser_dispatch\u001b[1;34m(flavor)\u001b[0m\n\u001b[0;32m    862\u001b[0m \u001b[38;5;28;01mif\u001b[39;00m flavor \u001b[38;5;129;01min\u001b[39;00m (\u001b[38;5;124m\"\u001b[39m\u001b[38;5;124mbs4\u001b[39m\u001b[38;5;124m\"\u001b[39m, \u001b[38;5;124m\"\u001b[39m\u001b[38;5;124mhtml5lib\u001b[39m\u001b[38;5;124m\"\u001b[39m):\n\u001b[0;32m    863\u001b[0m     \u001b[38;5;28;01mif\u001b[39;00m \u001b[38;5;129;01mnot\u001b[39;00m _HAS_HTML5LIB:\n\u001b[1;32m--> 864\u001b[0m         \u001b[38;5;28;01mraise\u001b[39;00m \u001b[38;5;167;01mImportError\u001b[39;00m(\u001b[38;5;124m\"\u001b[39m\u001b[38;5;124mhtml5lib not found, please install it\u001b[39m\u001b[38;5;124m\"\u001b[39m)\n\u001b[0;32m    865\u001b[0m     \u001b[38;5;28;01mif\u001b[39;00m \u001b[38;5;129;01mnot\u001b[39;00m _HAS_BS4:\n\u001b[0;32m    866\u001b[0m         \u001b[38;5;28;01mraise\u001b[39;00m \u001b[38;5;167;01mImportError\u001b[39;00m(\u001b[38;5;124m\"\u001b[39m\u001b[38;5;124mBeautifulSoup4 (bs4) not found, please install it\u001b[39m\u001b[38;5;124m\"\u001b[39m)\n",
      "\u001b[1;31mImportError\u001b[0m: html5lib not found, please install it"
     ]
    }
   ],
   "source": [
    "for i in range(len(hrefs)):\n",
    "    response=requests.get(hrefs[i])\n",
    "    \n",
    "    # Analizar el contenido HTML de la página usando Beautiful Soup\n",
    "    soup = BeautifulSoup(response.content, \"html.parser\")\n",
    "\n",
    "    # Extraer la tabla que deseas\n",
    "    table = soup.find(\"table\", {\"class\": \"ds-includeSet-table detailtable table table-striped table-hover\"})\n",
    "\n",
    "    # Convertir la tabla en un DataFrame de Pandas\n",
    "    df = pd.read_html(str(table),index_col=0)[0]\n",
    "    \n",
    "    # Nos quedamos con la parte de la tabla que nos importa\n",
    "    df=df[:][1]\n",
    "    \n",
    "    # Scrappeo de datos\n",
    "    institucion.append(df.get(\"dc.publisher\", vacio))   \n",
    "    titulo.append(df.get(\"dc.title\", vacio))\n",
    "    anio.append(df.get(\"dc.date.issued\", vacio))\n",
    "    if \"thesis.degree.discipline\" in df:\n",
    "        if type(df[\"thesis.degree.discipline\"])==float:\n",
    "            disciplina.append(vacio)\n",
    "        else:\n",
    "            if isinstance(df[\"thesis.degree.discipline\"], str) :\n",
    "                disciplina.append(df[\"thesis.degree.discipline\"])\n",
    "            else :\n",
    "                disciplina.append(df[\"thesis.degree.discipline\"][:].apply(lambda x: x).tolist())     \n",
    "    else:\n",
    "        disciplina.append(vacio)\n",
    "    if \"dc.type\" in df:\n",
    "        if type(df[\"dc.type\"])==float:\n",
    "            grado.append(vacio)\n",
    "        else:\n",
    "            if isinstance(df[\"dc.type\"], str) :\n",
    "                grado.append(df[\"dc.type\"])\n",
    "            else :\n",
    "                grado.append(df[\"dc.type\"][:].apply(lambda x: x).tolist())     \n",
    "    else:\n",
    "        grado.append(vacio)\n",
    "    if \"dc.contributor.author\" in df:\n",
    "        if type(df[\"dc.contributor.author\"])==float:\n",
    "            autor.append(vacio)\n",
    "        else:\n",
    "            if isinstance(df[\"dc.contributor.author\"], str) :\n",
    "                autor.append(df[\"dc.contributor.author\"])\n",
    "            else :\n",
    "                autor.append(df[\"dc.contributor.author\"][:].apply(lambda x: x).tolist())     \n",
    "    else:\n",
    "        autor.append(vacio)\n",
    "        \n",
    "    if \"dc.contributor.advisor\" in df:\n",
    "        if type(df[\"dc.contributor.advisor\"])==float :\n",
    "            asesor.append(vacio)\n",
    "        else:\n",
    "            if isinstance(df[\"dc.contributor.advisor\"], str) :\n",
    "                asesor.append(df[\"dc.contributor.advisor\"]) \n",
    "            else :\n",
    "                asesor.append(df[\"dc.contributor.advisor\"].apply(lambda x: x).tolist())\n",
    "    else:\n",
    "        asesor.append(vacio)\n",
    "    \n",
    "    if \"dc.description.abstract\" in df:\n",
    "        if type(df[\"dc.description.abstract\"])==float :\n",
    "            resumen.append(vacio)\n",
    "        else:\n",
    "            if isinstance(df[\"dc.description.abstract\"], str):\n",
    "                resumen.append(df[\"dc.description.abstract\"])\n",
    "            else:\n",
    "                resumen.append(df[\"dc.description.abstract\"][0])\n",
    "    else:\n",
    "        resumen.append(vacio)"
   ]
  },
  {
   "cell_type": "code",
   "execution_count": 6,
   "id": "6b89fb4b",
   "metadata": {},
   "outputs": [],
   "source": [
    "# Para solo quedarnos con el año en caso se haya ingresado la fecha completa\n",
    "anio = [str(x)[:4] for x in anio]\n",
    "\n",
    "# Para que donde se tenga una lista de asesores se coloque un string con ambos asesores con un espacio de por medio\n",
    "for i, elemento in enumerate(asesor):\n",
    "    if isinstance(elemento, list):\n",
    "        asesor[i] = \"\\n\".join(elemento)\n",
    "\n",
    "# Para que donde se tenga una lista de autores se coloque un string con ambos autores con un espacio de por medio\n",
    "for i, elemento in enumerate(autor):\n",
    "    if isinstance(elemento, list):\n",
    "        autor[i] = \"\\n\".join(elemento)\n",
    "        \n",
    "# Para reemplazar los grados que salen en la web por un formato mas legible\n",
    "dicgrado={'info:eu-repo/semantics/bachelorThesis':\"Bachillerato\",\n",
    "          'info:eu-repo/semantics/doctoralThesis':\"Doctorado\",\n",
    "          'info:eu-repo/semantics/masterThesis':\"Maestria\",\n",
    "          'T_D_Bélgica':\"Doctorado\",\n",
    "          'T_D_Manejo Forestal':\"Doctorado\",\n",
    "          'T_M_Manejo Forestal':\"Maestria\",\n",
    "          'info:eu-repo/semantics/article':\"Articulo\",\n",
    "          'info:eu-repo/semantics/book':\"Libro\",\n",
    "          'info:eu-repo/semantics/bookPart':\"Libro\",\n",
    "          'info:eu-repo/semantics/conferenceObject':\"Conferencia\"}\n",
    "for i, valor in enumerate(grado):\n",
    "    if valor in dicgrado:\n",
    "        grado[i] = dicgrado[valor]"
   ]
  },
  {
   "cell_type": "code",
   "execution_count": 7,
   "id": "5cac9f9d",
   "metadata": {},
   "outputs": [],
   "source": [
    "datospreexportar = pd.DataFrame(list(zip(anio,institucion,titulo,autor,grado,asesor,resumen,disciplina)),columns =[\"Año\",\"Institución\",\"Titulo\",\"Autor\",\"Grado\",\"Asesor\",\"Resumen\",\"Disciplina\"])"
   ]
  },
  {
   "cell_type": "code",
   "execution_count": 8,
   "id": "678df31a",
   "metadata": {},
   "outputs": [],
   "source": [
    "datosexportar=datospreexportar[datospreexportar[\"Disciplina\"].str.contains(\"Estadística|Informática\", case=False)]"
   ]
  },
  {
   "cell_type": "code",
   "execution_count": 9,
   "id": "b2c2f066",
   "metadata": {},
   "outputs": [],
   "source": [
    "datosexportar.to_csv(\"repositorio_agraria_tesis.csv\", sep=',')"
   ]
  },
  {
   "cell_type": "code",
   "execution_count": 10,
   "id": "b4302fe0",
   "metadata": {
    "scrolled": true
   },
   "outputs": [
    {
     "data": {
      "text/html": [
       "<div>\n",
       "<style scoped>\n",
       "    .dataframe tbody tr th:only-of-type {\n",
       "        vertical-align: middle;\n",
       "    }\n",
       "\n",
       "    .dataframe tbody tr th {\n",
       "        vertical-align: top;\n",
       "    }\n",
       "\n",
       "    .dataframe thead th {\n",
       "        text-align: right;\n",
       "    }\n",
       "</style>\n",
       "<table border=\"1\" class=\"dataframe\">\n",
       "  <thead>\n",
       "    <tr style=\"text-align: right;\">\n",
       "      <th></th>\n",
       "      <th>Año</th>\n",
       "      <th>Institución</th>\n",
       "      <th>Titulo</th>\n",
       "      <th>Autor</th>\n",
       "      <th>Grado</th>\n",
       "      <th>Asesor</th>\n",
       "      <th>Resumen</th>\n",
       "      <th>Disciplina</th>\n",
       "    </tr>\n",
       "  </thead>\n",
       "  <tbody>\n",
       "  </tbody>\n",
       "</table>\n",
       "</div>"
      ],
      "text/plain": [
       "Empty DataFrame\n",
       "Columns: [Año, Institución, Titulo, Autor, Grado, Asesor, Resumen, Disciplina]\n",
       "Index: []"
      ]
     },
     "execution_count": 10,
     "metadata": {},
     "output_type": "execute_result"
    }
   ],
   "source": [
    "datosexportar"
   ]
  },
  {
   "cell_type": "markdown",
   "id": "659710c6",
   "metadata": {},
   "source": [
    "# Graficos"
   ]
  },
  {
   "cell_type": "code",
   "execution_count": 11,
   "id": "af3fb27b",
   "metadata": {
    "scrolled": true
   },
   "outputs": [
    {
     "data": {
      "image/png": "[encoded data removed]",
      "text/plain": [
       "<Figure size 720x576 with 1 Axes>"
      ]
     },
     "metadata": {
      "needs_background": "light"
     },
     "output_type": "display_data"
    }
   ],
   "source": [
    "countanios = datosexportar['Año'].value_counts()\n",
    "# Obtener las etiquetas (años) y los valores (cantidades) de la serie de conteos\n",
    "etiquetas = countanios.index \n",
    "valores = countanios.values\n",
    "\n",
    "# Crear una figura de 10x8 pulgadas\n",
    "plt.figure(figsize=(10, 8))\n",
    "\n",
    "# Crear el gráfico de barras\n",
    "plt.bar(etiquetas, valores)\n",
    "\n",
    "# Mostrar el gráfico\n",
    "plt.show()"
   ]
  },
  {
   "cell_type": "code",
   "execution_count": 12,
   "id": "5db1920e",
   "metadata": {},
   "outputs": [
    {
     "data": {
      "image/png": "[encoded data removed]",
      "text/plain": [
       "<Figure size 720x576 with 1 Axes>"
      ]
     },
     "metadata": {
      "needs_background": "light"
     },
     "output_type": "display_data"
    }
   ],
   "source": [
    "countgrados = datosexportar['Grado'].value_counts()\n",
    "# Obtener las etiquetas (años) y los valores (cantidades) de la serie de conteos\n",
    "etiquetas = countgrados.index \n",
    "valores = countgrados.values\n",
    "\n",
    "# Crear una figura de 10x8 pulgadas\n",
    "plt.figure(figsize=(10, 8))\n",
    "\n",
    "# Crear el gráfico de barras\n",
    "plt.bar(etiquetas, valores)\n",
    "\n",
    "# Mostrar el gráfico\n",
    "plt.show()"
   ]
  },
  {
   "cell_type": "code",
   "execution_count": null,
   "id": "b73d4239",
   "metadata": {},
   "outputs": [],
   "source": []
  }
 ],
 "metadata": {
  "kernelspec": {
   "display_name": "Python 3 (ipykernel)",
   "language": "python",
   "name": "python3"
  },
  "language_info": {
   "codemirror_mode": {
    "name": "ipython",
    "version": 3
   },
   "file_extension": ".py",
   "mimetype": "text/x-python",
   "name": "python",
   "nbconvert_exporter": "python",
   "pygments_lexer": "ipython3",
   "version": "3.9.12"
  }
 },
 "nbformat": 4,
 "nbformat_minor": 5
}
