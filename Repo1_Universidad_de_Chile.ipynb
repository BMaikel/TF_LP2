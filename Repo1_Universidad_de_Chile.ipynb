{
  "nbformat": 4,
  "nbformat_minor": 0,
  "metadata": {
    "colab": {
      "provenance": [],
      "collapsed_sections": [
        "VfEQUQ7g6veA"
      ]
    },
    "kernelspec": {
      "name": "python3",
      "display_name": "Python 3"
    },
    "language_info": {
      "name": "python"
    }
  },
  "cells": [
    {
      "cell_type": "markdown",
      "source": [
        "# ENLACES DE LAS TESIS Y OBTENIENDO INFORMACIÓN DE UNA SOLA"
      ],
      "metadata": {
        "id": "UuBE0QQSyHJ3"
      }
    },
    {
      "cell_type": "markdown",
      "source": [
        "## Tesis disponibles en la página 1"
      ],
      "metadata": {
        "id": "x61ZZvpE9AnX"
      }
    },
    {
      "cell_type": "code",
      "source": [
        "import requests\n",
        "from bs4 import BeautifulSoup"
      ],
      "metadata": {
        "id": "-I3WpCFryq_X"
      },
      "execution_count": 1,
      "outputs": []
    },
    {
      "cell_type": "code",
      "execution_count": null,
      "metadata": {
        "id": "bt8z2Wy5pDAI"
      },
      "outputs": [],
      "source": [
        "#Universidad de Chile\n",
        "website = \"https://repositorio.uchile.cl\"\n",
        "url = \"https://repositorio.uchile.cl/discover?rpp=10&etal=0&group_by=none&page=1&filtertype_0=type&filter_relational_operator_0=equals&filter_0=Tesis\" #url tesis"
      ]
    },
    {
      "cell_type": "code",
      "source": [
        "resp = requests.get(url)\n",
        "soup = BeautifulSoup(resp.text, \"html.parser\")"
      ],
      "metadata": {
        "id": "O64iDgTyyqfx"
      },
      "execution_count": null,
      "outputs": []
    },
    {
      "cell_type": "code",
      "source": [
        "tesis = soup.find_all(class_=\"dosUch\")"
      ],
      "metadata": {
        "id": "acdHIr8kzhLd"
      },
      "execution_count": null,
      "outputs": []
    },
    {
      "cell_type": "code",
      "source": [
        "lista_tesis = []\n",
        "for i in tesis:\n",
        "  lista_tesis.append(website + f\"{i.find('a').get('href')}\")\n",
        "\n",
        "print(lista_tesis)"
      ],
      "metadata": {
        "colab": {
          "base_uri": "https://localhost:8080/"
        },
        "id": "HO6pYOap1Cus",
        "outputId": "58d14e19-d545-4973-9f73-3c2744edc149"
      },
      "execution_count": null,
      "outputs": [
        {
          "output_type": "stream",
          "name": "stdout",
          "text": [
            "['https://repositorio.uchile.cl/handle/2250/189462', 'https://repositorio.uchile.cl/handle/2250/189459', 'https://repositorio.uchile.cl/handle/2250/189460', 'https://repositorio.uchile.cl/handle/2250/189461', 'https://repositorio.uchile.cl/handle/2250/189426', 'https://repositorio.uchile.cl/handle/2250/189424', 'https://repositorio.uchile.cl/handle/2250/189427', 'https://repositorio.uchile.cl/handle/2250/189428', 'https://repositorio.uchile.cl/handle/2250/189465', 'https://repositorio.uchile.cl/handle/2250/189463']\n"
          ]
        }
      ]
    },
    {
      "cell_type": "markdown",
      "source": [
        "## Información de una sola tesis"
      ],
      "metadata": {
        "id": "VfEQUQ7g6veA"
      }
    },
    {
      "cell_type": "code",
      "source": [
        "url_tesis = \"https://repositorio.uchile.cl/handle/2250/189462\""
      ],
      "metadata": {
        "id": "5dsO1uqF60v3"
      },
      "execution_count": 2,
      "outputs": []
    },
    {
      "cell_type": "code",
      "source": [
        "resp = requests.get(url_tesis)\n",
        "soup = BeautifulSoup(resp.text, \"html.parser\")"
      ],
      "metadata": {
        "id": "wDBV0euT7i06"
      },
      "execution_count": 3,
      "outputs": []
    },
    {
      "cell_type": "code",
      "source": [
        "#Insitución\n",
        "\"Universidad de Chile\"\n",
        "#Título tesis\n",
        "print(soup.find(\"h2\").text)"
      ],
      "metadata": {
        "colab": {
          "base_uri": "https://localhost:8080/"
        },
        "id": "vW0s7o2P7ozq",
        "outputId": "e3a0a258-0393-4aeb-f9fd-7287dd50480e"
      },
      "execution_count": 7,
      "outputs": [
        {
          "output_type": "stream",
          "name": "stdout",
          "text": [
            "Efecto del quitosano en la acción parasitaria de cepas nativas de hongos nematófagos endófitos frente al nematodo cebo Steinernema australe\n"
          ]
        }
      ]
    },
    {
      "cell_type": "code",
      "source": [
        "#Nombre del tesista\n",
        "print(soup.find(itemprop = \"author\").text)"
      ],
      "metadata": {
        "colab": {
          "base_uri": "https://localhost:8080/"
        },
        "id": "TUroASKh8QoV",
        "outputId": "3d8be4c8-e0cd-4773-ef01-39546c1d2476"
      },
      "execution_count": 8,
      "outputs": [
        {
          "output_type": "stream",
          "name": "stdout",
          "text": [
            "Contreras Contreras, Bruno Sebastián\n"
          ]
        }
      ]
    },
    {
      "cell_type": "code",
      "source": [
        "#Grado\n",
        "a = soup.find(class_=\"simple-item-view-notadetesis\").find_all(\"div\")[1].text\n",
        "print(a)"
      ],
      "metadata": {
        "colab": {
          "base_uri": "https://localhost:8080/"
        },
        "id": "ttDzjDr_8-Uo",
        "outputId": "19445375-eebe-4542-a71d-4120359413d3"
      },
      "execution_count": 9,
      "outputs": [
        {
          "output_type": "stream",
          "name": "stdout",
          "text": [
            "Memoria para optar al título de Bioquímico\n"
          ]
        }
      ]
    },
    {
      "cell_type": "code",
      "source": [
        "#Nombre del asesor(es)\n",
        "a = soup.find_all(class_=\"simple-item-view-authors\", limit = 2)[1]\n",
        "for i in a.find_all(itemprop=\"author\"):\n",
        "  print(i.text)"
      ],
      "metadata": {
        "colab": {
          "base_uri": "https://localhost:8080/"
        },
        "id": "BSm4gJ1nBHbo",
        "outputId": "503b24a6-d196-4bda-bb49-8ed3b78d0aa4"
      },
      "execution_count": 10,
      "outputs": [
        {
          "output_type": "stream",
          "name": "stdout",
          "text": [
            "Santiviago Cid, Carlos Alberto\n",
            "Barra Bucarei, Lorena\n"
          ]
        }
      ]
    },
    {
      "cell_type": "code",
      "source": [
        "b = []\n",
        "for i in a.find_all(itemprop=\"author\"):\n",
        "  b.append(i.text)\n",
        "\n",
        "\", \".join(b)"
      ],
      "metadata": {
        "colab": {
          "base_uri": "https://localhost:8080/",
          "height": 36
        },
        "id": "AulPkU2c7uWY",
        "outputId": "06ca25aa-eb8e-4cca-9c2a-c75dac2656f8"
      },
      "execution_count": 11,
      "outputs": [
        {
          "output_type": "execute_result",
          "data": {
            "text/plain": [
              "'Santiviago Cid, Carlos Alberto, Barra Bucarei, Lorena'"
            ],
            "application/vnd.google.colaboratory.intrinsic+json": {
              "type": "string"
            }
          },
          "metadata": {},
          "execution_count": 11
        }
      ]
    },
    {
      "cell_type": "code",
      "source": [
        "#Resumen\n",
        "a = str(soup.find(class_ = \"simple-item-view-description\").find(itemprop = \"description\").find_all(text=True, recursive=False)[0])\n",
        "print(type(a))\n",
        "print(a)"
      ],
      "metadata": {
        "colab": {
          "base_uri": "https://localhost:8080/"
        },
        "id": "1Y5ZN2ZyD7JG",
        "outputId": "92276d10-a956-4bec-8437-8b0deebebc4b"
      },
      "execution_count": 4,
      "outputs": [
        {
          "output_type": "stream",
          "name": "stdout",
          "text": [
            "<class 'str'>\n",
            "El tomate (Solanum lycopersicum) es de gran relevancia a nivel global, debido a su aporte nutricional y ser buena fuente de antioxidantes. Es una de las hortalizas más cultivadas en Chile y en el mundo. No obstante, sus cultivos son susceptibles a diversas enfermedades causadas por agentes fitopatógenos. Dentro de éstos, los nematodos fitopatógenos (NFs) son uno de los patógenos más frecuentes y nocivos para este tipo de cultivos, provocando grandes pérdidas económicas a nivel internacional. Existen diferentes métodos de control para este tipo de patógenos, siendo el control químico el más utilizado y efectivo en el corto plazo; sin embargo, su uso excesivo produce un efecto negativo para el medioambiente, la salud de las personas y la sostenibilidad de los sistemas productivos. En este contexto, el uso de depredadores naturales de NFs, como los hongos nematófagos (HNs), surge como alternativa sostenible. En la naturaleza, muchos de estos HNs actúan como endófitos, colonizando la planta hospedera y otorgándole beneficios como la estimulación del crecimiento y protección frente a patógenos, entre otros. Sin embargo, la efectividad de los formulados usados en terreno suele disminuir con el tiempo. Por otro lado, existen compuestos biodegradables y de baja toxicidad como el quitosano, un polímero derivado del procesamiento de deshechos de la industria pesquera (Ej. caparazón de crustáceos), que puede aumentar el parasitismo de los HNs frente a NFs.\r\n",
            "En el Laboratorio de Bioprocesos de Instituto de Investigaciones Agropecuarias (INIA) Centro Regional Quilamapu, se han aislado distintas cepas nativas de HNs con potencial endófito, algunas de ellas masificadas para la formulación de productos comerciales de uso agrícola. De esta manera, el objetivo de esta investigación fue identificar a nivel de especie cinco cepas nematófagas de los géneros Beauveria, Metarhizium, Paecilomyces, Metapochonia y Trichoderma (una de cada género), determinar la colonización endófita de estos hongos en tomate y evaluar el efecto del quitosano en el crecimiento fúngico y en la actividad parasitaria de las cepas contra “nematodos cebo”. Para este fin, se identificaron a nivel de especie mediante un análisis de secuencia multi-locus (MLSA), seguido de un ensayo de colonización endófita en tomate y observando su crecimiento fúngico en presencia de quitosano in vitro. Se realizó un ensayo de parasitismo in vitro frente al nematodo cebo Steinernema australe en presencia de tres concentraciones distintas de quitosano (7,5 x 102 ppm; 1,5 x 103 ppm y 2,25 x 103 ppm). Los resultados obtenidos indicaron que las cepas nematófagas estudiadas pertenecen a las especies Beauveria peruviensis, Metarhizium brunneum, Paecilomyces carneus y Metapochonia rubescens. La cepa de Trichoderma no pudo ser identificada a nivel de especie, por lo que se requiere del análisis de más regiones marcadoras para afirmalo con certeza. P. carneus, M. rubescens, Trichoderma sp. presentaron capacidad de colonización endófitica en tomate, en contraste B. peruviensis y M. brunneum no presentaron colonización endofítica. En cuanto al crecimiento en quitosano, todas las especies mostraron tolerancia a las distintas concentraciones de quitosano aplicadas tras 15 días de incubación. De las cepas analizadas, B. peruviensis y Trichoderma sp. presentaron un aumento actividad nematófaga, la que se incrementó en presencia de 1,5 x 103 ppm y 2,25 x 103 ppm de quitosano en el caso de Beauveria y 2,25 x 103 ppm en Trichoderma sp., en comparación a los tratamientos en ausencia de este polímero.\r\n",
            "Estos resultados mostraron que todas las cepas estudiadas son tolerantes a distintas concentraciones de quitosano y que éste incrementa la actividad parasitaria de B. peruviensis y Trichoderma sp. La presente Memoria de Título es el primer reporte sobre el efecto del quitosano en el parasitismo de hongos nematófagos endófitos nativos sobre el nematodo cebo S. australe, sobre la capacidad de colonización endofítica de las especies P. carneus y M. rubescens, y sobre la capacidad nematófaga de B. peruviensis\n"
          ]
        }
      ]
    },
    {
      "cell_type": "code",
      "source": [
        "#Año\n",
        "a = str(soup.find(class_=\"simple-item-view-date\").find_all(text=True, recursive=False)[1])\n",
        "a"
      ],
      "metadata": {
        "colab": {
          "base_uri": "https://localhost:8080/",
          "height": 36
        },
        "id": "fQuMD97mE9SN",
        "outputId": "a1288cc7-c290-49f3-b316-7457b908f200"
      },
      "execution_count": 5,
      "outputs": [
        {
          "output_type": "execute_result",
          "data": {
            "text/plain": [
              "'2022'"
            ],
            "application/vnd.google.colaboratory.intrinsic+json": {
              "type": "string"
            }
          },
          "metadata": {},
          "execution_count": 5
        }
      ]
    },
    {
      "cell_type": "markdown",
      "source": [
        "# MUCHOS ENLANCES, TODAS LAS TESIS"
      ],
      "metadata": {
        "id": "Vmghz1xR4DKj"
      }
    },
    {
      "cell_type": "markdown",
      "source": [
        "## Eligiendo la cantidad de tesis:\n",
        "Cada página contiene el enlace a 10 tesis."
      ],
      "metadata": {
        "id": "OHKn0c9z-j_o"
      }
    },
    {
      "cell_type": "code",
      "source": [
        "import csv"
      ],
      "metadata": {
        "id": "6OtHr-G8_RJz"
      },
      "execution_count": 15,
      "outputs": []
    },
    {
      "cell_type": "code",
      "source": [
        "website = \"https://repositorio.uchile.cl\"\n",
        "n = 5 #Número de páginas a scrapear\n",
        "lista_tesis = []\n",
        "for i in range(1,n+1):\n",
        "  url = f\"https://repositorio.uchile.cl/discover?rpp=10&etal=0&group_by=none&page={i}&filtertype_0=type&filter_relational_operator_0=equals&filter_0=Tesis\"\n",
        "  resp = requests.get(url)\n",
        "  soup = BeautifulSoup(resp.text, \"html.parser\")\n",
        "  tesis = soup.find_all(class_=\"dosUch\")\n",
        "  for i in tesis:\n",
        "    lista_tesis.append(website + f\"{i.find('a').get('href')}\")"
      ],
      "metadata": {
        "id": "CFZB6SFL4FVF"
      },
      "execution_count": 19,
      "outputs": []
    },
    {
      "cell_type": "code",
      "source": [
        "print(lista_tesis)"
      ],
      "metadata": {
        "colab": {
          "base_uri": "https://localhost:8080/"
        },
        "id": "Eq2He5jsBT-I",
        "outputId": "67f8438c-bfda-4c24-b274-418b36081a88"
      },
      "execution_count": 14,
      "outputs": [
        {
          "output_type": "stream",
          "name": "stdout",
          "text": [
            "['https://repositorio.uchile.cl/handle/2250/189462', 'https://repositorio.uchile.cl/handle/2250/189459', 'https://repositorio.uchile.cl/handle/2250/189460', 'https://repositorio.uchile.cl/handle/2250/189461', 'https://repositorio.uchile.cl/handle/2250/189426', 'https://repositorio.uchile.cl/handle/2250/189424', 'https://repositorio.uchile.cl/handle/2250/189427', 'https://repositorio.uchile.cl/handle/2250/189428', 'https://repositorio.uchile.cl/handle/2250/189465', 'https://repositorio.uchile.cl/handle/2250/189463', 'https://repositorio.uchile.cl/handle/2250/187735', 'https://repositorio.uchile.cl/handle/2250/187666', 'https://repositorio.uchile.cl/handle/2250/189466', 'https://repositorio.uchile.cl/handle/2250/189390', 'https://repositorio.uchile.cl/handle/2250/189402', 'https://repositorio.uchile.cl/handle/2250/187721', 'https://repositorio.uchile.cl/handle/2250/189385', 'https://repositorio.uchile.cl/handle/2250/189467', 'https://repositorio.uchile.cl/handle/2250/187833', 'https://repositorio.uchile.cl/handle/2250/187831', 'https://repositorio.uchile.cl/handle/2250/187834', 'https://repositorio.uchile.cl/handle/2250/187819', 'https://repositorio.uchile.cl/handle/2250/187846', 'https://repositorio.uchile.cl/handle/2250/189432', 'https://repositorio.uchile.cl/handle/2250/189430', 'https://repositorio.uchile.cl/handle/2250/189433', 'https://repositorio.uchile.cl/handle/2250/189434', 'https://repositorio.uchile.cl/handle/2250/189425', 'https://repositorio.uchile.cl/handle/2250/189431', 'https://repositorio.uchile.cl/handle/2250/189435']\n"
          ]
        }
      ]
    },
    {
      "cell_type": "code",
      "source": [
        "with open(\"Tesis.csv\", \"w\") as csv_file:\n",
        "    escritor = csv.writer(csv_file, delimiter=\",\")\n",
        "    escritor.writerow([\"Institución\",\"Título\",\"Autor\", \"Grado\", \"Asesor(es)\", \"Año\", \"Resumen\"])\n",
        "\n",
        "for i in lista_tesis:\n",
        "  resp_t = requests.get(i)\n",
        "  soup_t = BeautifulSoup(resp_t.text, \"html.parser\")\n",
        "\n",
        "  #Título\n",
        "  try:\n",
        "    titulo = soup_t.find(\"h2\").text\n",
        "  except:\n",
        "    titulo = \"\"\n",
        "\n",
        "  #Autor\n",
        "  try:\n",
        "    autor = soup_t.find(itemprop = \"author\").text\n",
        "  except:\n",
        "    autor = \"\"\n",
        "\n",
        "  #Grado\n",
        "  try:\n",
        "    g = soup_t.find(class_=\"simple-item-view-notadetesis\")\n",
        "    if g != None:\n",
        "      grado = g.find_all(\"div\")[1].text\n",
        "    else:\n",
        "      h = soup_t.find_all(class_=\"simple-item-view-description\")[1]\n",
        "      if h != None:\n",
        "        grado = h.find_all(\"div\")[1].text\n",
        "      else:\n",
        "        grado = \"\"\n",
        "  except:\n",
        "    grado = \"\"\n",
        "\n",
        "  #Nombre del asesor(es)\n",
        "  try:\n",
        "    asesor = []\n",
        "    a = soup_t.find_all(class_=\"simple-item-view-authors\", limit = 2)[1]\n",
        "    for i in a.find_all(itemprop=\"author\"):\n",
        "      asesor.append(i.text)\n",
        "    asesor_f = \", \".join(asesor)\n",
        "  except:\n",
        "    asesor = []\n",
        "\n",
        "  #Año\n",
        "  try:\n",
        "    año = str(soup_t.find(class_=\"simple-item-view-date\").find_all(text=True, recursive=False)[1])\n",
        "  except:\n",
        "    año = \"\"\n",
        "\n",
        "  #Resumen\n",
        "  try:\n",
        "    b = soup_t.find(class_ = \"simple-item-view-description\")\n",
        "    if b != None:\n",
        "      if b.find(itemprop = \"description\") != None:\n",
        "        resumen = str(b.find(itemprop = \"description\").find_all(text=True, recursive=False)[0])\n",
        "      else:\n",
        "        resumen = \"\"\n",
        "  except:\n",
        "    resumen = \"\"\n",
        "\n",
        "  x = [\"Universidad de Chile\", titulo, autor, grado, asesor_f, año, resumen]\n",
        "  with open(\"Tesis.csv\", \"a\") as csv_file:\n",
        "    escritor = csv.writer(csv_file, delimiter=\",\")\n",
        "    escritor.writerow(x)"
      ],
      "metadata": {
        "id": "MYnMXeJb456Q"
      },
      "execution_count": 39,
      "outputs": []
    },
    {
      "cell_type": "markdown",
      "source": [
        "## Visualizando lo obtenido"
      ],
      "metadata": {
        "id": "ETG5vpWcApjh"
      }
    },
    {
      "cell_type": "code",
      "source": [
        "import pandas as pd"
      ],
      "metadata": {
        "id": "iTqNGolu6rHF"
      },
      "execution_count": 40,
      "outputs": []
    },
    {
      "cell_type": "code",
      "source": [
        "pd = pd.read_csv(\"Tesis.csv\")\n",
        "pd"
      ],
      "metadata": {
        "colab": {
          "base_uri": "https://localhost:8080/",
          "height": 1000
        },
        "id": "KJ6U7fD2Ig_7",
        "outputId": "fb4aa295-0d4a-4e6d-aee5-9671115c1a75"
      },
      "execution_count": 41,
      "outputs": [
        {
          "output_type": "execute_result",
          "data": {
            "text/plain": [
              "             Institución                                             Título  \\\n",
              "0   Universidad de Chile  Efecto del quitosano en la acción parasitaria ...   \n",
              "1   Universidad de Chile  Evaluación de factibilidad técnica, económica ...   \n",
              "2   Universidad de Chile  Control de cargas eléctricas para la reducción...   \n",
              "3   Universidad de Chile  Hacia una teoría general de fiscalización: est...   \n",
              "4   Universidad de Chile          Clasificadores de memes con Deep Learning   \n",
              "5   Universidad de Chile  Sistema de asistencia para personas con discap...   \n",
              "6   Universidad de Chile  Estudio de las propiedades de los líquidos ió...   \n",
              "7   Universidad de Chile  Análisis y prospectivas de posibles tensiones ...   \n",
              "8   Universidad de Chile  Caracterización del efecto de la acetilcolina ...   \n",
              "9   Universidad de Chile  Cambios de las dinámicas de estados cerebrales...   \n",
              "10  Universidad de Chile  Metodologías de proyección de demanda y evalua...   \n",
              "11  Universidad de Chile  Estudio de aplicación de metodología diseño y ...   \n",
              "12  Universidad de Chile  La protección de niños, niñas y adolescentes m...   \n",
              "13  Universidad de Chile  Comercios virtuales sin marca impulsados por C...   \n",
              "14  Universidad de Chile  Árboles y caminos en subgrafos aleatorios de t...   \n",
              "15  Universidad de Chile  Estratigrafía y paleoecología de sedimentos fo...   \n",
              "16  Universidad de Chile  Desarrollo de un modelo predictivo para una ca...   \n",
              "17  Universidad de Chile  Revisión y propuesta de actualización del Regl...   \n",
              "18  Universidad de Chile  Diseño de un plan estratégico para una empresa...   \n",
              "19  Universidad de Chile  Indicador de desigualdad multidimensional en l...   \n",
              "20  Universidad de Chile  Evaluación de eficacia de los mecanismos de pa...   \n",
              "21  Universidad de Chile  Control of the modular multilevel matrix conve...   \n",
              "22  Universidad de Chile  Licencia postnatal en Chile: un análisis de la...   \n",
              "23  Universidad de Chile  Diseño de un plan de negocio inmobiliario para...   \n",
              "24  Universidad de Chile  Análisis hidrometeorológico de eventos extremo...   \n",
              "25  Universidad de Chile  Geomorfología de Isla Navarino (55°S): énfasis...   \n",
              "26  Universidad de Chile  Remoción de compuestos aromáticos clorados pre...   \n",
              "27  Universidad de Chile  Estudio de un modelo de spin-peierls con vibra...   \n",
              "28  Universidad de Chile  Estudio de la ruptura y distorsión de esquele...   \n",
              "29  Universidad de Chile  Estudio espectrofotométrico y electroquímico d...   \n",
              "30  Universidad de Chile  Análisis comparativo de la cinética e isoterma...   \n",
              "31  Universidad de Chile  Síntesis, propiedades estructurales y electro...   \n",
              "32  Universidad de Chile  Evaluación de factibilidad técnica y económica...   \n",
              "33  Universidad de Chile  Formulación de una estrategia de gestión de ta...   \n",
              "34  Universidad de Chile  Impacto del uso de estrategias de resolución b...   \n",
              "35  Universidad de Chile  A hierarchy between distributed communication ...   \n",
              "36  Universidad de Chile  Efecto de la hidrofobicidad sobre la nucleacio...   \n",
              "37  Universidad de Chile  Fabricación y caracterización estructural y me...   \n",
              "38  Universidad de Chile  Desarrollo de un servicio de predicción de pre...   \n",
              "39  Universidad de Chile  Inserción de los sistemas de almacenamiento en...   \n",
              "40  Universidad de Chile  Dépsidos  y depsidonas de líquenes antártic...   \n",
              "41  Universidad de Chile  Propiedades luminiscentes de hidroxi-y metoxi-...   \n",
              "42  Universidad de Chile  Metabolitos de algunas poríferas del litoral ...   \n",
              "43  Universidad de Chile  Identificación de compuestos cuticulares media...   \n",
              "44  Universidad de Chile  Evaluación de factibilidad estratégica, técnic...   \n",
              "45  Universidad de Chile  Rediseño de proceso de gestión de la informaci...   \n",
              "46  Universidad de Chile  Desarrollo de un algoritmo paralelo en GPU par...   \n",
              "47  Universidad de Chile  Comparación de técnicas de control predictivo ...   \n",
              "48  Universidad de Chile  Caracterización de Band Gaps fonónicos en pane...   \n",
              "49  Universidad de Chile  Modelo de negocios para una plataforma tecnoló...   \n",
              "\n",
              "                                     Autor  \\\n",
              "0     Contreras Contreras, Bruno Sebastián   \n",
              "1       Zepeda Iribarren, Francisco Javier   \n",
              "2            Foix Sánchez, Nibaldo Ignacio   \n",
              "3               Barriga Alarcón, María Paz   \n",
              "4     Jaramillo Andrade, Cristóbal Ignacio   \n",
              "5        Hernández Tapia, Andrea Alejandra   \n",
              "6                Mella Orellana, Andy Alan   \n",
              "7        Faúndez Alarcón, Sergio Sebastián   \n",
              "8        Cuevas Contreras, Fernanda Camila   \n",
              "9            Rodiño Climent, Julio Ignacio   \n",
              "10       Paredes Martínez, Gonzalo Eduardo   \n",
              "11        Viñales Trincado, Javiera Andrea   \n",
              "12      Villena Cifuentes, Constanza Belén   \n",
              "13        Aliaga Valderrama, Pablo Ignacio   \n",
              "14                 Cancino Taboada, Alonso   \n",
              "15          Partarrieu Bravo, Diego Martín   \n",
              "16           Araya Rebolledo, Pablo Javier   \n",
              "17         Guaringa González, Karla Andrea   \n",
              "18               Cepeda Arce, Juan Enrique   \n",
              "19               Brito Hasbún, Jorge Elías   \n",
              "20             González Ávila, Carla Belén   \n",
              "21            Urrutia Ortiz, Matías Alonso   \n",
              "22   Castañeda Letelier, Macarena Fernanda   \n",
              "23         León Valencia, Mayela Alejandra   \n",
              "24        Jiménez Orellana, Héctor Ignacio   \n",
              "25              Lohidoy Lee, Carola Amelia   \n",
              "26      Salazar Sandoval, Sebastián Andrés   \n",
              "27                 Elgueta Ferrada, Milton   \n",
              "28      González Martínez, María de Carmen   \n",
              "29                Tapia Mejia, Ana Eugenia   \n",
              "30  Castro Salas, Constanza María de Jesús   \n",
              "31              Vargas Marin, Juan Alfonso   \n",
              "32          Montero Abarca, Claudio Andrés   \n",
              "33         Manríquez Piérola, Kay Michelle   \n",
              "34        Ortega Hernández, Gabriel Fabián   \n",
              "35              Paredes Haz, Pablo Vicente   \n",
              "36            Salazar Quintana, Itilier T.   \n",
              "37        Quintana Pizarro, Javier Alberto   \n",
              "38                     Reyes Feris, Alonso   \n",
              "39          Riquelme Echeverría, Max Dilan   \n",
              "40        Salgado Valdés, Francisco Javier   \n",
              "41           Vargas Cortes, Victor Alberto   \n",
              "42    Vásquez Martínez, María de la Luz A.   \n",
              "43     Delgado Latorre, Cristopher Gustavo   \n",
              "44         Zavala Hidalgo, Patricio Andrés   \n",
              "45           Sobarzo Barra, Felipe Orlando   \n",
              "46      Sepúlveda Huenchuleo, Miguel Ángel   \n",
              "47          Valenzuela Nilo, Diego Alfonso   \n",
              "48       Valenzuela Núñez, Esteban Rodolfo   \n",
              "49       Serrano Baltierra, Javier Esteban   \n",
              "\n",
              "                                                Grado  \\\n",
              "0          Memoria para optar al título de Bioquímico   \n",
              "1   Tesis para optar al grado de Magíster en Gesti...   \n",
              "2   Memoria para optar al título de Ingeniero Civi...   \n",
              "3   Tesis para optar al grado académico de Magiste...   \n",
              "4   Memoria para optar al título de Ingeniero Civi...   \n",
              "5   Tesis para optar al grado de Magíster en Cienc...   \n",
              "6   Tesis para optar al grado de Magister en Cienc...   \n",
              "7   Tesis para optar al grado de Magíster en Gesti...   \n",
              "8   Tesis presentada a la Universidad de Chile par...   \n",
              "9   Memoria para optar al título profesional de Bi...   \n",
              "10  Tesis para optar al grado de Doctor en Sistema...   \n",
              "11    Memoria para optar al título de Ingeniera Civil   \n",
              "12  Memoria de prueba para optar al grado de Licen...   \n",
              "13  Memoria para optar al título de Ingeniero Civi...   \n",
              "14  Tesis para optar al grado de Magíster en Cienc...   \n",
              "15  Tesis para optar al grado de Doctor en Ciencia...   \n",
              "16  Memoria para optar al título de Ingeniero Civi...   \n",
              "17  Memoria para optar al título de Ingeniera en A...   \n",
              "18  Tesis para optar al grado de Magíster en Gesti...   \n",
              "19  Tesis para optar al grado de Magíster en Gesti...   \n",
              "20  Memoria para optar al título de Ingeniera Civi...   \n",
              "21  Tesis para optar al grado de Doctor en Ingenie...   \n",
              "22  Tesis para optar al grado de Magíster en Gesti...   \n",
              "23  Tesis para optar al grado de Magíster en Gesti...   \n",
              "24  Tesis para optar al grado de Magíster en Cienc...   \n",
              "25            Memoria para optar al título de Geóloga   \n",
              "26  Tesis para optar al grado de Magister en Cienc...   \n",
              "27                                                NaN   \n",
              "28                                                NaN   \n",
              "29                      Magíster en Ciencias Quimicas   \n",
              "30  Seminario de Título entregado para optar al Tí...   \n",
              "31                      Magíster en Ciencias Quimicas   \n",
              "32  Tesis para optar al grado de Magíster en Gesti...   \n",
              "33  Memoria para optar al título de Ingeniera Civi...   \n",
              "34  Memoria para optar al título de Ingeniero Civi...   \n",
              "35  Tesis para optar al grado de Magíster en Cienc...   \n",
              "36  Tesis para optar al grado de Magister en Cienc...   \n",
              "37  Memoria para optar al título de Ingeniero Civi...   \n",
              "38  Memoria para optar al título de Ingeniero Civi...   \n",
              "39  Memoria para optar al título de Ingeniero Civi...   \n",
              "40  Tesis para optar al grado de Magister en Cienc...   \n",
              "41                                                NaN   \n",
              "42  Tesis para optar al grado de Magister en Cienc...   \n",
              "43                       Título de Químico Ambiental.   \n",
              "44  Tesis para optar al grado de Magíster en Gesti...   \n",
              "45  Memoria para optar al título de Ingeniero Civi...   \n",
              "46  Memoria para optar al título de Ingeniero Civi...   \n",
              "47  Memoria para optar al título de Ingeniero Civi...   \n",
              "48  Memoria para optar al título de Ingeniero Civi...   \n",
              "49  Memoria para optar al título de Ingeniero Civi...   \n",
              "\n",
              "                                           Asesor(es)   Año  \\\n",
              "0   Santiviago Cid, Carlos Alberto, Barra Bucarei,...  2022   \n",
              "1                      Flores Barrera, Ricardo Alonso  2022   \n",
              "2                         Ahumada Sanhueza, Constanza  2022   \n",
              "3                             Moraga Klenner, Claudio  2022   \n",
              "4   Bustos Cárdenas, Benjamín, Saldaña Villa, Magd...  2022   \n",
              "5                   Ruiz del Solar San Martín, Javier  2022   \n",
              "6   Fuentealba Rosas, Patricio, Contreras Ramos, R...  2017   \n",
              "7                            Leyton Navarro, Cristián  2022   \n",
              "8                             Lara Peñaloza, Hernán  2022   \n",
              "9   Paredes Vargas, Alfonso Humberto, El-Deredy, Wael  2022   \n",
              "10                                  Vargas Díaz, Luis  2022   \n",
              "11                        Polanco Carrasco, Alejandro  2022   \n",
              "12                              Moure Pino, Ana María  2022   \n",
              "13                               Díaz Cortés, Eduardo  2022   \n",
              "14                   Stein, Maya, Pavez Signé, Matías  2022   \n",
              "15                              Pinto Lincoñir, Luisa  2022   \n",
              "16                          Puente Chandía, Alejandra  2022   \n",
              "17                   Lemus Mondaca, Roberto Alejandro  2022   \n",
              "18                   Vergara Trincado, Manuel Rodrigo  2022   \n",
              "19                   Sanhueza Riveros, Claudia Yamile  2022   \n",
              "20                    Castro González, Carlos Eduardo  2022   \n",
              "21  Cárdenas Dobson, Jesús, Watson, Alan, Clare, J...  2022   \n",
              "22                             Flores Arenas, Bárbara  2022   \n",
              "23                     Flores Barrera, Ricardo Alonso  2022   \n",
              "24  Montserrat Michelini, Santiago, Lagos Zúñiga, ...  2022   \n",
              "25  Aguilar Martorell, Germán, Poblete Gómez, Fern...  2022   \n",
              "26                       Jara Vergara, Paul Sebastián  2017   \n",
              "27                                   Rossler, Jaime,   1992   \n",
              "28                                  Letelier, Ricardo  2007   \n",
              "29                           Morales Barañao, Alfonso  1992   \n",
              "30  Nacaratte Guajardo, Fallon Ana, Manzano Davila...  2022   \n",
              "31                    Costamagna Martra, Juan Alberto  1985   \n",
              "32                     Flores Barrera, Ricardo Alonso  2022   \n",
              "33                               Zúñiga Castro, Jaime  2022   \n",
              "34                Lions, Séverin, Dartnell Roy, Pablo  2022   \n",
              "35  Rapaport Zimermann, Iván, Montealegre Barba, P...  2022   \n",
              "36                            Sepúlveda Araneda, Luis  1982   \n",
              "37                              Akbarifakhrabadi, Ali  2022   \n",
              "38                            Hevia Angulo, Alejandro  2022   \n",
              "39                            Torres Ávila, Rigoberto  2022   \n",
              "40  Areche Medina, Carlos Alberto, Tiznado V., Wil...  2016   \n",
              "41  Morales Segura, Raúl Gerardo Eusebio, Traverso...  1985   \n",
              "42                             San Martin B., Aurelio  1989   \n",
              "43  Aguilera Olivares, Daniel., Niemeyer Marich, H...  2018   \n",
              "44                     Flores Barrera, Ricardo Alonso  2022   \n",
              "45                           Romero Godoy, Juan Pablo  2022   \n",
              "46      Hitschfeld Kahler, Nancy, Huijse Heise, Pablo  2022   \n",
              "47                               Rivera Abarca, Marco  2022   \n",
              "48                           Meruane Naranjo, Viviana  2022   \n",
              "49                             Calisto Leiva, Ignacio  2022   \n",
              "\n",
              "                                              Resumen  \n",
              "0   El tomate (Solanum lycopersicum) es de gran re...  \n",
              "1   El presente documento tiene por finalidad la e...  \n",
              "2   Ya sea por los planes de reducción de emisione...  \n",
              "3   La presente investigación tiene por objetivo d...  \n",
              "4   Los memes son un tipo de imagen muy particular...  \n",
              "5   En los últimos años se han propuesto y desarro...  \n",
              "6   En este trabajo se presenta un estudio teórico...  \n",
              "7                                                 NaN  \n",
              "8   Es conocido que la secreción de esteroides y e...  \n",
              "9   Los estudios de neuroimaginería han develado e...  \n",
              "10  Esta tesis de doctorado se da en un contexto d...  \n",
              "11  El sector de la construcción contribuye aproxi...  \n",
              "12  En esta investigación, nos enfocaremos en los ...  \n",
              "13  Los productos sin marca, o whitelabel, han for...  \n",
              "14  El presente trabajo define un modelo de subgra...  \n",
              "15  El presente trabajo define un modelo de subgra...  \n",
              "16  El presente trabajo define un modelo de subgra...  \n",
              "17  La prevalencia de alergias alimentarias han au...  \n",
              "18  El presente plan estratégico considera el dise...  \n",
              "19  OECD (2017) señala que Chile muestra los nivel...  \n",
              "20  Se cree que existe una relación constructiva e...  \n",
              "21  El convertidor matricial modular multinivel (M...  \n",
              "22  El convertidor matricial modular multinivel (M...  \n",
              "23  La presente tesis tuvo como objetivo demostrar...  \n",
              "24  En el presente estudio se analizan eventos hid...  \n",
              "25  Los límites de la última glaciación en Patagon...  \n",
              "26  Este trabajo  de Magister consistió en el estu...  \n",
              "27  Se analiza la solución exacta del modelo de Pe...  \n",
              "28  En el estudio de las propiedades electrónicas ...  \n",
              "29  En el estudio de las propiedades electrónicas ...  \n",
              "30  Este trabajo tuvo como objetivo el estudio de ...  \n",
              "31  Dos tipos de ligantes y sus respectivos comple...  \n",
              "32  El presente estudio tuvo como objetivo determi...  \n",
              "33  Este proyecto de título abarca la formulación ...  \n",
              "34  La distribución de las opciones correctas en l...  \n",
              "35  En esta tesis, enmarcada en computación distri...  \n",
              "36  En esta tesis, enmarcada en computación distri...  \n",
              "37  Con el objetivo de desarrollar dispositivos ef...  \n",
              "38  El mercado inmobiliario es uno de los mercados...  \n",
              "39  Durante las últimas décadas, los avances en lo...  \n",
              "40  Durante las últimas décadas, los avances en lo...  \n",
              "41                                                NaN  \n",
              "42                                                NaN  \n",
              "43  En insectos eusociales, el reconocimiento y la...  \n",
              "44  El presente estudio de tesis tuvo por finalida...  \n",
              "45  El área de Seguridad y Salud Ocupacional de la...  \n",
              "46  El broker astronómico ALeRCE usa un clasificad...  \n",
              "47  La electrónica de potencia es una de las clave...  \n",
              "48  El creciente desarrollo de la manufactura adit...  \n",
              "49  En el presente modelo de negocios se sigue la ...  "
            ],
            "text/html": [
              "\n",
              "  <div id=\"df-14a9fde2-5404-4878-81fc-ae2fac5d5fd6\">\n",
              "    <div class=\"colab-df-container\">\n",
              "      <div>\n",
              "<style scoped>\n",
              "    .dataframe tbody tr th:only-of-type {\n",
              "        vertical-align: middle;\n",
              "    }\n",
              "\n",
              "    .dataframe tbody tr th {\n",
              "        vertical-align: top;\n",
              "    }\n",
              "\n",
              "    .dataframe thead th {\n",
              "        text-align: right;\n",
              "    }\n",
              "</style>\n",
              "<table border=\"1\" class=\"dataframe\">\n",
              "  <thead>\n",
              "    <tr style=\"text-align: right;\">\n",
              "      <th></th>\n",
              "      <th>Institución</th>\n",
              "      <th>Título</th>\n",
              "      <th>Autor</th>\n",
              "      <th>Grado</th>\n",
              "      <th>Asesor(es)</th>\n",
              "      <th>Año</th>\n",
              "      <th>Resumen</th>\n",
              "    </tr>\n",
              "  </thead>\n",
              "  <tbody>\n",
              "    <tr>\n",
              "      <th>0</th>\n",
              "      <td>Universidad de Chile</td>\n",
              "      <td>Efecto del quitosano en la acción parasitaria ...</td>\n",
              "      <td>Contreras Contreras, Bruno Sebastián</td>\n",
              "      <td>Memoria para optar al título de Bioquímico</td>\n",
              "      <td>Santiviago Cid, Carlos Alberto, Barra Bucarei,...</td>\n",
              "      <td>2022</td>\n",
              "      <td>El tomate (Solanum lycopersicum) es de gran re...</td>\n",
              "    </tr>\n",
              "    <tr>\n",
              "      <th>1</th>\n",
              "      <td>Universidad de Chile</td>\n",
              "      <td>Evaluación de factibilidad técnica, económica ...</td>\n",
              "      <td>Zepeda Iribarren, Francisco Javier</td>\n",
              "      <td>Tesis para optar al grado de Magíster en Gesti...</td>\n",
              "      <td>Flores Barrera, Ricardo Alonso</td>\n",
              "      <td>2022</td>\n",
              "      <td>El presente documento tiene por finalidad la e...</td>\n",
              "    </tr>\n",
              "    <tr>\n",
              "      <th>2</th>\n",
              "      <td>Universidad de Chile</td>\n",
              "      <td>Control de cargas eléctricas para la reducción...</td>\n",
              "      <td>Foix Sánchez, Nibaldo Ignacio</td>\n",
              "      <td>Memoria para optar al título de Ingeniero Civi...</td>\n",
              "      <td>Ahumada Sanhueza, Constanza</td>\n",
              "      <td>2022</td>\n",
              "      <td>Ya sea por los planes de reducción de emisione...</td>\n",
              "    </tr>\n",
              "    <tr>\n",
              "      <th>3</th>\n",
              "      <td>Universidad de Chile</td>\n",
              "      <td>Hacia una teoría general de fiscalización: est...</td>\n",
              "      <td>Barriga Alarcón, María Paz</td>\n",
              "      <td>Tesis para optar al grado académico de Magiste...</td>\n",
              "      <td>Moraga Klenner, Claudio</td>\n",
              "      <td>2022</td>\n",
              "      <td>La presente investigación tiene por objetivo d...</td>\n",
              "    </tr>\n",
              "    <tr>\n",
              "      <th>4</th>\n",
              "      <td>Universidad de Chile</td>\n",
              "      <td>Clasificadores de memes con Deep Learning</td>\n",
              "      <td>Jaramillo Andrade, Cristóbal Ignacio</td>\n",
              "      <td>Memoria para optar al título de Ingeniero Civi...</td>\n",
              "      <td>Bustos Cárdenas, Benjamín, Saldaña Villa, Magd...</td>\n",
              "      <td>2022</td>\n",
              "      <td>Los memes son un tipo de imagen muy particular...</td>\n",
              "    </tr>\n",
              "    <tr>\n",
              "      <th>5</th>\n",
              "      <td>Universidad de Chile</td>\n",
              "      <td>Sistema de asistencia para personas con discap...</td>\n",
              "      <td>Hernández Tapia, Andrea Alejandra</td>\n",
              "      <td>Tesis para optar al grado de Magíster en Cienc...</td>\n",
              "      <td>Ruiz del Solar San Martín, Javier</td>\n",
              "      <td>2022</td>\n",
              "      <td>En los últimos años se han propuesto y desarro...</td>\n",
              "    </tr>\n",
              "    <tr>\n",
              "      <th>6</th>\n",
              "      <td>Universidad de Chile</td>\n",
              "      <td>Estudio de las propiedades de los líquidos ió...</td>\n",
              "      <td>Mella Orellana, Andy Alan</td>\n",
              "      <td>Tesis para optar al grado de Magister en Cienc...</td>\n",
              "      <td>Fuentealba Rosas, Patricio, Contreras Ramos, R...</td>\n",
              "      <td>2017</td>\n",
              "      <td>En este trabajo se presenta un estudio teórico...</td>\n",
              "    </tr>\n",
              "    <tr>\n",
              "      <th>7</th>\n",
              "      <td>Universidad de Chile</td>\n",
              "      <td>Análisis y prospectivas de posibles tensiones ...</td>\n",
              "      <td>Faúndez Alarcón, Sergio Sebastián</td>\n",
              "      <td>Tesis para optar al grado de Magíster en Gesti...</td>\n",
              "      <td>Leyton Navarro, Cristián</td>\n",
              "      <td>2022</td>\n",
              "      <td>NaN</td>\n",
              "    </tr>\n",
              "    <tr>\n",
              "      <th>8</th>\n",
              "      <td>Universidad de Chile</td>\n",
              "      <td>Caracterización del efecto de la acetilcolina ...</td>\n",
              "      <td>Cuevas Contreras, Fernanda Camila</td>\n",
              "      <td>Tesis presentada a la Universidad de Chile par...</td>\n",
              "      <td>Lara Peñaloza, Hernán</td>\n",
              "      <td>2022</td>\n",
              "      <td>Es conocido que la secreción de esteroides y e...</td>\n",
              "    </tr>\n",
              "    <tr>\n",
              "      <th>9</th>\n",
              "      <td>Universidad de Chile</td>\n",
              "      <td>Cambios de las dinámicas de estados cerebrales...</td>\n",
              "      <td>Rodiño Climent, Julio Ignacio</td>\n",
              "      <td>Memoria para optar al título profesional de Bi...</td>\n",
              "      <td>Paredes Vargas, Alfonso Humberto, El-Deredy, Wael</td>\n",
              "      <td>2022</td>\n",
              "      <td>Los estudios de neuroimaginería han develado e...</td>\n",
              "    </tr>\n",
              "    <tr>\n",
              "      <th>10</th>\n",
              "      <td>Universidad de Chile</td>\n",
              "      <td>Metodologías de proyección de demanda y evalua...</td>\n",
              "      <td>Paredes Martínez, Gonzalo Eduardo</td>\n",
              "      <td>Tesis para optar al grado de Doctor en Sistema...</td>\n",
              "      <td>Vargas Díaz, Luis</td>\n",
              "      <td>2022</td>\n",
              "      <td>Esta tesis de doctorado se da en un contexto d...</td>\n",
              "    </tr>\n",
              "    <tr>\n",
              "      <th>11</th>\n",
              "      <td>Universidad de Chile</td>\n",
              "      <td>Estudio de aplicación de metodología diseño y ...</td>\n",
              "      <td>Viñales Trincado, Javiera Andrea</td>\n",
              "      <td>Memoria para optar al título de Ingeniera Civil</td>\n",
              "      <td>Polanco Carrasco, Alejandro</td>\n",
              "      <td>2022</td>\n",
              "      <td>El sector de la construcción contribuye aproxi...</td>\n",
              "    </tr>\n",
              "    <tr>\n",
              "      <th>12</th>\n",
              "      <td>Universidad de Chile</td>\n",
              "      <td>La protección de niños, niñas y adolescentes m...</td>\n",
              "      <td>Villena Cifuentes, Constanza Belén</td>\n",
              "      <td>Memoria de prueba para optar al grado de Licen...</td>\n",
              "      <td>Moure Pino, Ana María</td>\n",
              "      <td>2022</td>\n",
              "      <td>En esta investigación, nos enfocaremos en los ...</td>\n",
              "    </tr>\n",
              "    <tr>\n",
              "      <th>13</th>\n",
              "      <td>Universidad de Chile</td>\n",
              "      <td>Comercios virtuales sin marca impulsados por C...</td>\n",
              "      <td>Aliaga Valderrama, Pablo Ignacio</td>\n",
              "      <td>Memoria para optar al título de Ingeniero Civi...</td>\n",
              "      <td>Díaz Cortés, Eduardo</td>\n",
              "      <td>2022</td>\n",
              "      <td>Los productos sin marca, o whitelabel, han for...</td>\n",
              "    </tr>\n",
              "    <tr>\n",
              "      <th>14</th>\n",
              "      <td>Universidad de Chile</td>\n",
              "      <td>Árboles y caminos en subgrafos aleatorios de t...</td>\n",
              "      <td>Cancino Taboada, Alonso</td>\n",
              "      <td>Tesis para optar al grado de Magíster en Cienc...</td>\n",
              "      <td>Stein, Maya, Pavez Signé, Matías</td>\n",
              "      <td>2022</td>\n",
              "      <td>El presente trabajo define un modelo de subgra...</td>\n",
              "    </tr>\n",
              "    <tr>\n",
              "      <th>15</th>\n",
              "      <td>Universidad de Chile</td>\n",
              "      <td>Estratigrafía y paleoecología de sedimentos fo...</td>\n",
              "      <td>Partarrieu Bravo, Diego Martín</td>\n",
              "      <td>Tesis para optar al grado de Doctor en Ciencia...</td>\n",
              "      <td>Pinto Lincoñir, Luisa</td>\n",
              "      <td>2022</td>\n",
              "      <td>El presente trabajo define un modelo de subgra...</td>\n",
              "    </tr>\n",
              "    <tr>\n",
              "      <th>16</th>\n",
              "      <td>Universidad de Chile</td>\n",
              "      <td>Desarrollo de un modelo predictivo para una ca...</td>\n",
              "      <td>Araya Rebolledo, Pablo Javier</td>\n",
              "      <td>Memoria para optar al título de Ingeniero Civi...</td>\n",
              "      <td>Puente Chandía, Alejandra</td>\n",
              "      <td>2022</td>\n",
              "      <td>El presente trabajo define un modelo de subgra...</td>\n",
              "    </tr>\n",
              "    <tr>\n",
              "      <th>17</th>\n",
              "      <td>Universidad de Chile</td>\n",
              "      <td>Revisión y propuesta de actualización del Regl...</td>\n",
              "      <td>Guaringa González, Karla Andrea</td>\n",
              "      <td>Memoria para optar al título de Ingeniera en A...</td>\n",
              "      <td>Lemus Mondaca, Roberto Alejandro</td>\n",
              "      <td>2022</td>\n",
              "      <td>La prevalencia de alergias alimentarias han au...</td>\n",
              "    </tr>\n",
              "    <tr>\n",
              "      <th>18</th>\n",
              "      <td>Universidad de Chile</td>\n",
              "      <td>Diseño de un plan estratégico para una empresa...</td>\n",
              "      <td>Cepeda Arce, Juan Enrique</td>\n",
              "      <td>Tesis para optar al grado de Magíster en Gesti...</td>\n",
              "      <td>Vergara Trincado, Manuel Rodrigo</td>\n",
              "      <td>2022</td>\n",
              "      <td>El presente plan estratégico considera el dise...</td>\n",
              "    </tr>\n",
              "    <tr>\n",
              "      <th>19</th>\n",
              "      <td>Universidad de Chile</td>\n",
              "      <td>Indicador de desigualdad multidimensional en l...</td>\n",
              "      <td>Brito Hasbún, Jorge Elías</td>\n",
              "      <td>Tesis para optar al grado de Magíster en Gesti...</td>\n",
              "      <td>Sanhueza Riveros, Claudia Yamile</td>\n",
              "      <td>2022</td>\n",
              "      <td>OECD (2017) señala que Chile muestra los nivel...</td>\n",
              "    </tr>\n",
              "    <tr>\n",
              "      <th>20</th>\n",
              "      <td>Universidad de Chile</td>\n",
              "      <td>Evaluación de eficacia de los mecanismos de pa...</td>\n",
              "      <td>González Ávila, Carla Belén</td>\n",
              "      <td>Memoria para optar al título de Ingeniera Civi...</td>\n",
              "      <td>Castro González, Carlos Eduardo</td>\n",
              "      <td>2022</td>\n",
              "      <td>Se cree que existe una relación constructiva e...</td>\n",
              "    </tr>\n",
              "    <tr>\n",
              "      <th>21</th>\n",
              "      <td>Universidad de Chile</td>\n",
              "      <td>Control of the modular multilevel matrix conve...</td>\n",
              "      <td>Urrutia Ortiz, Matías Alonso</td>\n",
              "      <td>Tesis para optar al grado de Doctor en Ingenie...</td>\n",
              "      <td>Cárdenas Dobson, Jesús, Watson, Alan, Clare, J...</td>\n",
              "      <td>2022</td>\n",
              "      <td>El convertidor matricial modular multinivel (M...</td>\n",
              "    </tr>\n",
              "    <tr>\n",
              "      <th>22</th>\n",
              "      <td>Universidad de Chile</td>\n",
              "      <td>Licencia postnatal en Chile: un análisis de la...</td>\n",
              "      <td>Castañeda Letelier, Macarena Fernanda</td>\n",
              "      <td>Tesis para optar al grado de Magíster en Gesti...</td>\n",
              "      <td>Flores Arenas, Bárbara</td>\n",
              "      <td>2022</td>\n",
              "      <td>El convertidor matricial modular multinivel (M...</td>\n",
              "    </tr>\n",
              "    <tr>\n",
              "      <th>23</th>\n",
              "      <td>Universidad de Chile</td>\n",
              "      <td>Diseño de un plan de negocio inmobiliario para...</td>\n",
              "      <td>León Valencia, Mayela Alejandra</td>\n",
              "      <td>Tesis para optar al grado de Magíster en Gesti...</td>\n",
              "      <td>Flores Barrera, Ricardo Alonso</td>\n",
              "      <td>2022</td>\n",
              "      <td>La presente tesis tuvo como objetivo demostrar...</td>\n",
              "    </tr>\n",
              "    <tr>\n",
              "      <th>24</th>\n",
              "      <td>Universidad de Chile</td>\n",
              "      <td>Análisis hidrometeorológico de eventos extremo...</td>\n",
              "      <td>Jiménez Orellana, Héctor Ignacio</td>\n",
              "      <td>Tesis para optar al grado de Magíster en Cienc...</td>\n",
              "      <td>Montserrat Michelini, Santiago, Lagos Zúñiga, ...</td>\n",
              "      <td>2022</td>\n",
              "      <td>En el presente estudio se analizan eventos hid...</td>\n",
              "    </tr>\n",
              "    <tr>\n",
              "      <th>25</th>\n",
              "      <td>Universidad de Chile</td>\n",
              "      <td>Geomorfología de Isla Navarino (55°S): énfasis...</td>\n",
              "      <td>Lohidoy Lee, Carola Amelia</td>\n",
              "      <td>Memoria para optar al título de Geóloga</td>\n",
              "      <td>Aguilar Martorell, Germán, Poblete Gómez, Fern...</td>\n",
              "      <td>2022</td>\n",
              "      <td>Los límites de la última glaciación en Patagon...</td>\n",
              "    </tr>\n",
              "    <tr>\n",
              "      <th>26</th>\n",
              "      <td>Universidad de Chile</td>\n",
              "      <td>Remoción de compuestos aromáticos clorados pre...</td>\n",
              "      <td>Salazar Sandoval, Sebastián Andrés</td>\n",
              "      <td>Tesis para optar al grado de Magister en Cienc...</td>\n",
              "      <td>Jara Vergara, Paul Sebastián</td>\n",
              "      <td>2017</td>\n",
              "      <td>Este trabajo  de Magister consistió en el estu...</td>\n",
              "    </tr>\n",
              "    <tr>\n",
              "      <th>27</th>\n",
              "      <td>Universidad de Chile</td>\n",
              "      <td>Estudio de un modelo de spin-peierls con vibra...</td>\n",
              "      <td>Elgueta Ferrada, Milton</td>\n",
              "      <td>NaN</td>\n",
              "      <td>Rossler, Jaime,</td>\n",
              "      <td>1992</td>\n",
              "      <td>Se analiza la solución exacta del modelo de Pe...</td>\n",
              "    </tr>\n",
              "    <tr>\n",
              "      <th>28</th>\n",
              "      <td>Universidad de Chile</td>\n",
              "      <td>Estudio de la ruptura y distorsión de esquele...</td>\n",
              "      <td>González Martínez, María de Carmen</td>\n",
              "      <td>NaN</td>\n",
              "      <td>Letelier, Ricardo</td>\n",
              "      <td>2007</td>\n",
              "      <td>En el estudio de las propiedades electrónicas ...</td>\n",
              "    </tr>\n",
              "    <tr>\n",
              "      <th>29</th>\n",
              "      <td>Universidad de Chile</td>\n",
              "      <td>Estudio espectrofotométrico y electroquímico d...</td>\n",
              "      <td>Tapia Mejia, Ana Eugenia</td>\n",
              "      <td>Magíster en Ciencias Quimicas</td>\n",
              "      <td>Morales Barañao, Alfonso</td>\n",
              "      <td>1992</td>\n",
              "      <td>En el estudio de las propiedades electrónicas ...</td>\n",
              "    </tr>\n",
              "    <tr>\n",
              "      <th>30</th>\n",
              "      <td>Universidad de Chile</td>\n",
              "      <td>Análisis comparativo de la cinética e isoterma...</td>\n",
              "      <td>Castro Salas, Constanza María de Jesús</td>\n",
              "      <td>Seminario de Título entregado para optar al Tí...</td>\n",
              "      <td>Nacaratte Guajardo, Fallon Ana, Manzano Davila...</td>\n",
              "      <td>2022</td>\n",
              "      <td>Este trabajo tuvo como objetivo el estudio de ...</td>\n",
              "    </tr>\n",
              "    <tr>\n",
              "      <th>31</th>\n",
              "      <td>Universidad de Chile</td>\n",
              "      <td>Síntesis, propiedades estructurales y electro...</td>\n",
              "      <td>Vargas Marin, Juan Alfonso</td>\n",
              "      <td>Magíster en Ciencias Quimicas</td>\n",
              "      <td>Costamagna Martra, Juan Alberto</td>\n",
              "      <td>1985</td>\n",
              "      <td>Dos tipos de ligantes y sus respectivos comple...</td>\n",
              "    </tr>\n",
              "    <tr>\n",
              "      <th>32</th>\n",
              "      <td>Universidad de Chile</td>\n",
              "      <td>Evaluación de factibilidad técnica y económica...</td>\n",
              "      <td>Montero Abarca, Claudio Andrés</td>\n",
              "      <td>Tesis para optar al grado de Magíster en Gesti...</td>\n",
              "      <td>Flores Barrera, Ricardo Alonso</td>\n",
              "      <td>2022</td>\n",
              "      <td>El presente estudio tuvo como objetivo determi...</td>\n",
              "    </tr>\n",
              "    <tr>\n",
              "      <th>33</th>\n",
              "      <td>Universidad de Chile</td>\n",
              "      <td>Formulación de una estrategia de gestión de ta...</td>\n",
              "      <td>Manríquez Piérola, Kay Michelle</td>\n",
              "      <td>Memoria para optar al título de Ingeniera Civi...</td>\n",
              "      <td>Zúñiga Castro, Jaime</td>\n",
              "      <td>2022</td>\n",
              "      <td>Este proyecto de título abarca la formulación ...</td>\n",
              "    </tr>\n",
              "    <tr>\n",
              "      <th>34</th>\n",
              "      <td>Universidad de Chile</td>\n",
              "      <td>Impacto del uso de estrategias de resolución b...</td>\n",
              "      <td>Ortega Hernández, Gabriel Fabián</td>\n",
              "      <td>Memoria para optar al título de Ingeniero Civi...</td>\n",
              "      <td>Lions, Séverin, Dartnell Roy, Pablo</td>\n",
              "      <td>2022</td>\n",
              "      <td>La distribución de las opciones correctas en l...</td>\n",
              "    </tr>\n",
              "    <tr>\n",
              "      <th>35</th>\n",
              "      <td>Universidad de Chile</td>\n",
              "      <td>A hierarchy between distributed communication ...</td>\n",
              "      <td>Paredes Haz, Pablo Vicente</td>\n",
              "      <td>Tesis para optar al grado de Magíster en Cienc...</td>\n",
              "      <td>Rapaport Zimermann, Iván, Montealegre Barba, P...</td>\n",
              "      <td>2022</td>\n",
              "      <td>En esta tesis, enmarcada en computación distri...</td>\n",
              "    </tr>\n",
              "    <tr>\n",
              "      <th>36</th>\n",
              "      <td>Universidad de Chile</td>\n",
              "      <td>Efecto de la hidrofobicidad sobre la nucleacio...</td>\n",
              "      <td>Salazar Quintana, Itilier T.</td>\n",
              "      <td>Tesis para optar al grado de Magister en Cienc...</td>\n",
              "      <td>Sepúlveda Araneda, Luis</td>\n",
              "      <td>1982</td>\n",
              "      <td>En esta tesis, enmarcada en computación distri...</td>\n",
              "    </tr>\n",
              "    <tr>\n",
              "      <th>37</th>\n",
              "      <td>Universidad de Chile</td>\n",
              "      <td>Fabricación y caracterización estructural y me...</td>\n",
              "      <td>Quintana Pizarro, Javier Alberto</td>\n",
              "      <td>Memoria para optar al título de Ingeniero Civi...</td>\n",
              "      <td>Akbarifakhrabadi, Ali</td>\n",
              "      <td>2022</td>\n",
              "      <td>Con el objetivo de desarrollar dispositivos ef...</td>\n",
              "    </tr>\n",
              "    <tr>\n",
              "      <th>38</th>\n",
              "      <td>Universidad de Chile</td>\n",
              "      <td>Desarrollo de un servicio de predicción de pre...</td>\n",
              "      <td>Reyes Feris, Alonso</td>\n",
              "      <td>Memoria para optar al título de Ingeniero Civi...</td>\n",
              "      <td>Hevia Angulo, Alejandro</td>\n",
              "      <td>2022</td>\n",
              "      <td>El mercado inmobiliario es uno de los mercados...</td>\n",
              "    </tr>\n",
              "    <tr>\n",
              "      <th>39</th>\n",
              "      <td>Universidad de Chile</td>\n",
              "      <td>Inserción de los sistemas de almacenamiento en...</td>\n",
              "      <td>Riquelme Echeverría, Max Dilan</td>\n",
              "      <td>Memoria para optar al título de Ingeniero Civi...</td>\n",
              "      <td>Torres Ávila, Rigoberto</td>\n",
              "      <td>2022</td>\n",
              "      <td>Durante las últimas décadas, los avances en lo...</td>\n",
              "    </tr>\n",
              "    <tr>\n",
              "      <th>40</th>\n",
              "      <td>Universidad de Chile</td>\n",
              "      <td>Dépsidos  y depsidonas de líquenes antártic...</td>\n",
              "      <td>Salgado Valdés, Francisco Javier</td>\n",
              "      <td>Tesis para optar al grado de Magister en Cienc...</td>\n",
              "      <td>Areche Medina, Carlos Alberto, Tiznado V., Wil...</td>\n",
              "      <td>2016</td>\n",
              "      <td>Durante las últimas décadas, los avances en lo...</td>\n",
              "    </tr>\n",
              "    <tr>\n",
              "      <th>41</th>\n",
              "      <td>Universidad de Chile</td>\n",
              "      <td>Propiedades luminiscentes de hidroxi-y metoxi-...</td>\n",
              "      <td>Vargas Cortes, Victor Alberto</td>\n",
              "      <td>NaN</td>\n",
              "      <td>Morales Segura, Raúl Gerardo Eusebio, Traverso...</td>\n",
              "      <td>1985</td>\n",
              "      <td>NaN</td>\n",
              "    </tr>\n",
              "    <tr>\n",
              "      <th>42</th>\n",
              "      <td>Universidad de Chile</td>\n",
              "      <td>Metabolitos de algunas poríferas del litoral ...</td>\n",
              "      <td>Vásquez Martínez, María de la Luz A.</td>\n",
              "      <td>Tesis para optar al grado de Magister en Cienc...</td>\n",
              "      <td>San Martin B., Aurelio</td>\n",
              "      <td>1989</td>\n",
              "      <td>NaN</td>\n",
              "    </tr>\n",
              "    <tr>\n",
              "      <th>43</th>\n",
              "      <td>Universidad de Chile</td>\n",
              "      <td>Identificación de compuestos cuticulares media...</td>\n",
              "      <td>Delgado Latorre, Cristopher Gustavo</td>\n",
              "      <td>Título de Químico Ambiental.</td>\n",
              "      <td>Aguilera Olivares, Daniel., Niemeyer Marich, H...</td>\n",
              "      <td>2018</td>\n",
              "      <td>En insectos eusociales, el reconocimiento y la...</td>\n",
              "    </tr>\n",
              "    <tr>\n",
              "      <th>44</th>\n",
              "      <td>Universidad de Chile</td>\n",
              "      <td>Evaluación de factibilidad estratégica, técnic...</td>\n",
              "      <td>Zavala Hidalgo, Patricio Andrés</td>\n",
              "      <td>Tesis para optar al grado de Magíster en Gesti...</td>\n",
              "      <td>Flores Barrera, Ricardo Alonso</td>\n",
              "      <td>2022</td>\n",
              "      <td>El presente estudio de tesis tuvo por finalida...</td>\n",
              "    </tr>\n",
              "    <tr>\n",
              "      <th>45</th>\n",
              "      <td>Universidad de Chile</td>\n",
              "      <td>Rediseño de proceso de gestión de la informaci...</td>\n",
              "      <td>Sobarzo Barra, Felipe Orlando</td>\n",
              "      <td>Memoria para optar al título de Ingeniero Civi...</td>\n",
              "      <td>Romero Godoy, Juan Pablo</td>\n",
              "      <td>2022</td>\n",
              "      <td>El área de Seguridad y Salud Ocupacional de la...</td>\n",
              "    </tr>\n",
              "    <tr>\n",
              "      <th>46</th>\n",
              "      <td>Universidad de Chile</td>\n",
              "      <td>Desarrollo de un algoritmo paralelo en GPU par...</td>\n",
              "      <td>Sepúlveda Huenchuleo, Miguel Ángel</td>\n",
              "      <td>Memoria para optar al título de Ingeniero Civi...</td>\n",
              "      <td>Hitschfeld Kahler, Nancy, Huijse Heise, Pablo</td>\n",
              "      <td>2022</td>\n",
              "      <td>El broker astronómico ALeRCE usa un clasificad...</td>\n",
              "    </tr>\n",
              "    <tr>\n",
              "      <th>47</th>\n",
              "      <td>Universidad de Chile</td>\n",
              "      <td>Comparación de técnicas de control predictivo ...</td>\n",
              "      <td>Valenzuela Nilo, Diego Alfonso</td>\n",
              "      <td>Memoria para optar al título de Ingeniero Civi...</td>\n",
              "      <td>Rivera Abarca, Marco</td>\n",
              "      <td>2022</td>\n",
              "      <td>La electrónica de potencia es una de las clave...</td>\n",
              "    </tr>\n",
              "    <tr>\n",
              "      <th>48</th>\n",
              "      <td>Universidad de Chile</td>\n",
              "      <td>Caracterización de Band Gaps fonónicos en pane...</td>\n",
              "      <td>Valenzuela Núñez, Esteban Rodolfo</td>\n",
              "      <td>Memoria para optar al título de Ingeniero Civi...</td>\n",
              "      <td>Meruane Naranjo, Viviana</td>\n",
              "      <td>2022</td>\n",
              "      <td>El creciente desarrollo de la manufactura adit...</td>\n",
              "    </tr>\n",
              "    <tr>\n",
              "      <th>49</th>\n",
              "      <td>Universidad de Chile</td>\n",
              "      <td>Modelo de negocios para una plataforma tecnoló...</td>\n",
              "      <td>Serrano Baltierra, Javier Esteban</td>\n",
              "      <td>Memoria para optar al título de Ingeniero Civi...</td>\n",
              "      <td>Calisto Leiva, Ignacio</td>\n",
              "      <td>2022</td>\n",
              "      <td>En el presente modelo de negocios se sigue la ...</td>\n",
              "    </tr>\n",
              "  </tbody>\n",
              "</table>\n",
              "</div>\n",
              "      <button class=\"colab-df-convert\" onclick=\"convertToInteractive('df-14a9fde2-5404-4878-81fc-ae2fac5d5fd6')\"\n",
              "              title=\"Convert this dataframe to an interactive table.\"\n",
              "              style=\"display:none;\">\n",
              "        \n",
              "  <svg xmlns=\"http://www.w3.org/2000/svg\" height=\"24px\"viewBox=\"0 0 24 24\"\n",
              "       width=\"24px\">\n",
              "    <path d=\"M0 0h24v24H0V0z\" fill=\"none\"/>\n",
              "    <path d=\"M18.56 5.44l.94 2.06.94-2.06 2.06-.94-2.06-.94-.94-2.06-.94 2.06-2.06.94zm-11 1L8.5 8.5l.94-2.06 2.06-.94-2.06-.94L8.5 2.5l-.94 2.06-2.06.94zm10 10l.94 2.06.94-2.06 2.06-.94-2.06-.94-.94-2.06-.94 2.06-2.06.94z\"/><path d=\"M17.41 7.96l-1.37-1.37c-.4-.4-.92-.59-1.43-.59-.52 0-1.04.2-1.43.59L10.3 9.45l-7.72 7.72c-.78.78-.78 2.05 0 2.83L4 21.41c.39.39.9.59 1.41.59.51 0 1.02-.2 1.41-.59l7.78-7.78 2.81-2.81c.8-.78.8-2.07 0-2.86zM5.41 20L4 18.59l7.72-7.72 1.47 1.35L5.41 20z\"/>\n",
              "  </svg>\n",
              "      </button>\n",
              "      \n",
              "  <style>\n",
              "    .colab-df-container {\n",
              "      display:flex;\n",
              "      flex-wrap:wrap;\n",
              "      gap: 12px;\n",
              "    }\n",
              "\n",
              "    .colab-df-convert {\n",
              "      background-color: #E8F0FE;\n",
              "      border: none;\n",
              "      border-radius: 50%;\n",
              "      cursor: pointer;\n",
              "      display: none;\n",
              "      fill: #1967D2;\n",
              "      height: 32px;\n",
              "      padding: 0 0 0 0;\n",
              "      width: 32px;\n",
              "    }\n",
              "\n",
              "    .colab-df-convert:hover {\n",
              "      background-color: #E2EBFA;\n",
              "      box-shadow: 0px 1px 2px rgba(60, 64, 67, 0.3), 0px 1px 3px 1px rgba(60, 64, 67, 0.15);\n",
              "      fill: #174EA6;\n",
              "    }\n",
              "\n",
              "    [theme=dark] .colab-df-convert {\n",
              "      background-color: #3B4455;\n",
              "      fill: #D2E3FC;\n",
              "    }\n",
              "\n",
              "    [theme=dark] .colab-df-convert:hover {\n",
              "      background-color: #434B5C;\n",
              "      box-shadow: 0px 1px 3px 1px rgba(0, 0, 0, 0.15);\n",
              "      filter: drop-shadow(0px 1px 2px rgba(0, 0, 0, 0.3));\n",
              "      fill: #FFFFFF;\n",
              "    }\n",
              "  </style>\n",
              "\n",
              "      <script>\n",
              "        const buttonEl =\n",
              "          document.querySelector('#df-14a9fde2-5404-4878-81fc-ae2fac5d5fd6 button.colab-df-convert');\n",
              "        buttonEl.style.display =\n",
              "          google.colab.kernel.accessAllowed ? 'block' : 'none';\n",
              "\n",
              "        async function convertToInteractive(key) {\n",
              "          const element = document.querySelector('#df-14a9fde2-5404-4878-81fc-ae2fac5d5fd6');\n",
              "          const dataTable =\n",
              "            await google.colab.kernel.invokeFunction('convertToInteractive',\n",
              "                                                     [key], {});\n",
              "          if (!dataTable) return;\n",
              "\n",
              "          const docLinkHtml = 'Like what you see? Visit the ' +\n",
              "            '<a target=\"_blank\" href=https://colab.research.google.com/notebooks/data_table.ipynb>data table notebook</a>'\n",
              "            + ' to learn more about interactive tables.';\n",
              "          element.innerHTML = '';\n",
              "          dataTable['output_type'] = 'display_data';\n",
              "          await google.colab.output.renderOutput(dataTable, element);\n",
              "          const docLink = document.createElement('div');\n",
              "          docLink.innerHTML = docLinkHtml;\n",
              "          element.appendChild(docLink);\n",
              "        }\n",
              "      </script>\n",
              "    </div>\n",
              "  </div>\n",
              "  "
            ]
          },
          "metadata": {},
          "execution_count": 41
        }
      ]
    },
    {
      "cell_type": "markdown",
      "source": [
        "---"
      ],
      "metadata": {
        "id": "2nLs3QqE--C4"
      }
    },
    {
      "cell_type": "markdown",
      "source": [
        "# ADICIONAL"
      ],
      "metadata": {
        "id": "XfFiZunw-_eo"
      }
    },
    {
      "cell_type": "markdown",
      "source": [
        "### Verificando que páginas no tienen una descripción."
      ],
      "metadata": {
        "id": "qj75X_AbCI1a"
      }
    },
    {
      "cell_type": "code",
      "source": [
        "for i in lista_tesis:\n",
        "  resp_t = requests.get(i)\n",
        "  soup_t = BeautifulSoup(resp_t.text, \"html.parser\")\n",
        "  try:\n",
        "    a = soup_t.find(class_ = \"simple-item-view-description\").find(itemprop = \"description\")\n",
        "    if a != None:\n",
        "      print(1)\n",
        "    else:\n",
        "      print(0)\n",
        "  except:\n",
        "    print(0)"
      ],
      "metadata": {
        "id": "TGsy_2qT-9e-"
      },
      "execution_count": null,
      "outputs": []
    },
    {
      "cell_type": "markdown",
      "source": [
        "### Intentando obtener la descripción solo en español."
      ],
      "metadata": {
        "id": "332GavQ3C9Sv"
      }
    },
    {
      "cell_type": "code",
      "source": [
        "resp_t = requests.get(\"https://repositorio.uchile.cl/handle/2250/189462\")\n",
        "#resp_t = requests.get(\"https://repositorio.uchile.cl/handle/2250/189462\")\n",
        "\n",
        "soup_t = BeautifulSoup(resp_t.text, \"html.parser\")\n",
        "\n",
        "b = soup_t.find(class_ = \"simple-item-view-description\")\n",
        "\n",
        "if b != None:\n",
        "  if b.find(itemprop = \"description\") != None:\n",
        "     resumen = str(b.find(itemprop = \"description\").find_all(text=True, recursive=False)[0])\n",
        "  else:\n",
        "    resumen = \"\"\n",
        "print(resumen)"
      ],
      "metadata": {
        "colab": {
          "base_uri": "https://localhost:8080/"
        },
        "id": "ARAfTodv-9w4",
        "outputId": "84400781-892c-4f26-b4eb-1042a1ef9265"
      },
      "execution_count": 27,
      "outputs": [
        {
          "output_type": "stream",
          "name": "stdout",
          "text": [
            "El tomate (Solanum lycopersicum) es de gran relevancia a nivel global, debido a su aporte nutricional y ser buena fuente de antioxidantes. Es una de las hortalizas más cultivadas en Chile y en el mundo. No obstante, sus cultivos son susceptibles a diversas enfermedades causadas por agentes fitopatógenos. Dentro de éstos, los nematodos fitopatógenos (NFs) son uno de los patógenos más frecuentes y nocivos para este tipo de cultivos, provocando grandes pérdidas económicas a nivel internacional. Existen diferentes métodos de control para este tipo de patógenos, siendo el control químico el más utilizado y efectivo en el corto plazo; sin embargo, su uso excesivo produce un efecto negativo para el medioambiente, la salud de las personas y la sostenibilidad de los sistemas productivos. En este contexto, el uso de depredadores naturales de NFs, como los hongos nematófagos (HNs), surge como alternativa sostenible. En la naturaleza, muchos de estos HNs actúan como endófitos, colonizando la planta hospedera y otorgándole beneficios como la estimulación del crecimiento y protección frente a patógenos, entre otros. Sin embargo, la efectividad de los formulados usados en terreno suele disminuir con el tiempo. Por otro lado, existen compuestos biodegradables y de baja toxicidad como el quitosano, un polímero derivado del procesamiento de deshechos de la industria pesquera (Ej. caparazón de crustáceos), que puede aumentar el parasitismo de los HNs frente a NFs.\r\n",
            "En el Laboratorio de Bioprocesos de Instituto de Investigaciones Agropecuarias (INIA) Centro Regional Quilamapu, se han aislado distintas cepas nativas de HNs con potencial endófito, algunas de ellas masificadas para la formulación de productos comerciales de uso agrícola. De esta manera, el objetivo de esta investigación fue identificar a nivel de especie cinco cepas nematófagas de los géneros Beauveria, Metarhizium, Paecilomyces, Metapochonia y Trichoderma (una de cada género), determinar la colonización endófita de estos hongos en tomate y evaluar el efecto del quitosano en el crecimiento fúngico y en la actividad parasitaria de las cepas contra “nematodos cebo”. Para este fin, se identificaron a nivel de especie mediante un análisis de secuencia multi-locus (MLSA), seguido de un ensayo de colonización endófita en tomate y observando su crecimiento fúngico en presencia de quitosano in vitro. Se realizó un ensayo de parasitismo in vitro frente al nematodo cebo Steinernema australe en presencia de tres concentraciones distintas de quitosano (7,5 x 102 ppm; 1,5 x 103 ppm y 2,25 x 103 ppm). Los resultados obtenidos indicaron que las cepas nematófagas estudiadas pertenecen a las especies Beauveria peruviensis, Metarhizium brunneum, Paecilomyces carneus y Metapochonia rubescens. La cepa de Trichoderma no pudo ser identificada a nivel de especie, por lo que se requiere del análisis de más regiones marcadoras para afirmalo con certeza. P. carneus, M. rubescens, Trichoderma sp. presentaron capacidad de colonización endófitica en tomate, en contraste B. peruviensis y M. brunneum no presentaron colonización endofítica. En cuanto al crecimiento en quitosano, todas las especies mostraron tolerancia a las distintas concentraciones de quitosano aplicadas tras 15 días de incubación. De las cepas analizadas, B. peruviensis y Trichoderma sp. presentaron un aumento actividad nematófaga, la que se incrementó en presencia de 1,5 x 103 ppm y 2,25 x 103 ppm de quitosano en el caso de Beauveria y 2,25 x 103 ppm en Trichoderma sp., en comparación a los tratamientos en ausencia de este polímero.\r\n",
            "Estos resultados mostraron que todas las cepas estudiadas son tolerantes a distintas concentraciones de quitosano y que éste incrementa la actividad parasitaria de B. peruviensis y Trichoderma sp. La presente Memoria de Título es el primer reporte sobre el efecto del quitosano en el parasitismo de hongos nematófagos endófitos nativos sobre el nematodo cebo S. australe, sobre la capacidad de colonización endofítica de las especies P. carneus y M. rubescens, y sobre la capacidad nematófaga de B. peruviensis\n"
          ]
        }
      ]
    },
    {
      "cell_type": "markdown",
      "source": [
        "### Verificando la toma de grados para algunas tesis\n",
        "Me doy cuenta que algunas páginas de las tesis, como la 44, no tienen la misma estructura que las demás. Así que procedemos a agregar esa consideración al código final."
      ],
      "metadata": {
        "id": "NgrB3-FaDa3N"
      }
    },
    {
      "cell_type": "code",
      "source": [
        "resp_t = requests.get(\"https://repositorio.uchile.cl/handle/2250/148976\")\n",
        "soup_t = BeautifulSoup(resp_t.text, \"html.parser\")\n",
        "g = soup_t.find(class_=\"simple-item-view-notadetesis\")\n",
        "h = soup_t.find_all(class_=\"simple-item-view-description\")[1]\n",
        "if g != None:\n",
        "  grado = g.find_all(\"div\")[1].text\n",
        "elif h != None:\n",
        "  grado = h.find_all(\"div\")[1].text\n",
        "print(grado)"
      ],
      "metadata": {
        "colab": {
          "base_uri": "https://localhost:8080/"
        },
        "id": "mVHmiBCRDWHe",
        "outputId": "899ed20e-9972-4b8f-cf49-c753f45ce161"
      },
      "execution_count": 35,
      "outputs": [
        {
          "output_type": "stream",
          "name": "stdout",
          "text": [
            "Título de Químico Ambiental.\n"
          ]
        }
      ]
    }
  ]
}