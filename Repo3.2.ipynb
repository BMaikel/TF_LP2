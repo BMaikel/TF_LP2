{
 "cells": [
  {
   "cell_type": "code",
   "execution_count": 181,
   "id": "aa3f4d0f",
   "metadata": {},
   "outputs": [],
   "source": [
    "#Usando las bibliotecas para poder conectarse a la web y extraer información\n",
    "import urllib.request, urllib.parse, urllib.error\n",
    "from bs4 import BeautifulSoup\n",
    "import pandas as pd\n"
   ]
  },
  {
   "cell_type": "code",
   "execution_count": 174,
   "id": "2f17519a",
   "metadata": {},
   "outputs": [],
   "source": [
    "#Comportamiento para 1 repositorio\n",
    "html = urllib.request.urlopen(\"https://tesis.pucp.edu.pe/repositorio/handle/20.500.12404/5810?show=full\").read()\n",
    "soup = BeautifulSoup(html, 'html.parser')\n"
   ]
  },
  {
   "cell_type": "code",
   "execution_count": 175,
   "id": "d099826f",
   "metadata": {},
   "outputs": [],
   "source": [
    "#Extrayendo datos de la tabla de la tesis \n",
    "tabla1 = soup.find_all(\"td\", class_=\"word-break\")\n",
    "\n",
    "\n",
    "\n"
   ]
  },
  {
   "cell_type": "code",
   "execution_count": 176,
   "id": "a4e23a72",
   "metadata": {},
   "outputs": [],
   "source": [
    "#Extrayendo información y guardando información\n",
    "lista=[]\n",
    "lista.append([tabla1[10].text,tabla1[17].text,tabla1[1].text,tabla1[20].text,tabla1[0].text,tabla1[7].text,str(tabla1[2].text)[0:4]])\n"
   ]
  },
  {
   "cell_type": "code",
   "execution_count": 185,
   "id": "7e64458c",
   "metadata": {},
   "outputs": [
    {
     "data": {
      "text/html": [
       "<div>\n",
       "<style scoped>\n",
       "    .dataframe tbody tr th:only-of-type {\n",
       "        vertical-align: middle;\n",
       "    }\n",
       "\n",
       "    .dataframe tbody tr th {\n",
       "        vertical-align: top;\n",
       "    }\n",
       "\n",
       "    .dataframe thead th {\n",
       "        text-align: right;\n",
       "    }\n",
       "</style>\n",
       "<table border=\"1\" class=\"dataframe\">\n",
       "  <thead>\n",
       "    <tr style=\"text-align: right;\">\n",
       "      <th></th>\n",
       "      <th>Universidad</th>\n",
       "      <th>Título</th>\n",
       "      <th>Tesista</th>\n",
       "      <th>Grado</th>\n",
       "      <th>Asesor</th>\n",
       "      <th>Resumen</th>\n",
       "      <th>Año</th>\n",
       "    </tr>\n",
       "  </thead>\n",
       "  <tbody>\n",
       "    <tr>\n",
       "      <th>0</th>\n",
       "      <td>Pontificia Universidad Católica del Perú</td>\n",
       "      <td>El deber de independencia e imparcialidad.</td>\n",
       "      <td>Quispe Salsavilca, David</td>\n",
       "      <td>Doctorado</td>\n",
       "      <td>Gonzales Mantilla, Gorki</td>\n",
       "      <td>El presente trabajo es un estudio de comprensi...</td>\n",
       "      <td>2015</td>\n",
       "    </tr>\n",
       "  </tbody>\n",
       "</table>\n",
       "</div>"
      ],
      "text/plain": [
       "                                Universidad  \\\n",
       "0  Pontificia Universidad Católica del Perú   \n",
       "\n",
       "                                       Título                   Tesista  \\\n",
       "0  El deber de independencia e imparcialidad.  Quispe Salsavilca, David   \n",
       "\n",
       "       Grado                    Asesor  \\\n",
       "0  Doctorado  Gonzales Mantilla, Gorki   \n",
       "\n",
       "                                             Resumen   Año  \n",
       "0  El presente trabajo es un estudio de comprensi...  2015  "
      ]
     },
     "execution_count": 185,
     "metadata": {},
     "output_type": "execute_result"
    }
   ],
   "source": [
    "df=pd.DataFrame(lista)\n",
    "df.columns=[\"Universidad\",\"Título\",\"Tesista\",\"Grado\",\"Asesor\",\"Resumen\",\"Año\"]\n",
    "df"
   ]
  },
  {
   "cell_type": "code",
   "execution_count": null,
   "id": "c2d75fe7",
   "metadata": {},
   "outputs": [],
   "source": []
  }
 ],
 "metadata": {
  "kernelspec": {
   "display_name": "Python 3 (ipykernel)",
   "language": "python",
   "name": "python3"
  },
  "language_info": {
   "codemirror_mode": {
    "name": "ipython",
    "version": 3
   },
   "file_extension": ".py",
   "mimetype": "text/x-python",
   "name": "python",
   "nbconvert_exporter": "python",
   "pygments_lexer": "ipython3",
   "version": "3.9.12"
  }
 },
 "nbformat": 4,
 "nbformat_minor": 5
}
