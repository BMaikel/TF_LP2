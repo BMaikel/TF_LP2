{
 "cells": [
  {
   "cell_type": "code",
   "execution_count": 1,
   "id": "c0a84197",
   "metadata": {},
   "outputs": [],
   "source": [
    "#Importamos las bibliotecas a utilizar\n",
    "#para conectarnos a la URL, scrapear, usar pandas y realizar gráficos básicos\n",
    "import urllib.request, urllib.parse, urllib.error\n",
    "from bs4 import BeautifulSoup\n",
    "import pandas as pd \n",
    "import matplotlib.pyplot as plt\n"
   ]
  },
  {
   "cell_type": "code",
   "execution_count": null,
   "id": "990ceb8f",
   "metadata": {
    "scrolled": true
   },
   "outputs": [
    {
     "name": "stdout",
     "output_type": "stream",
     "text": [
      "se define\n",
      "1:totalidad, 2:Mitad, 3:Tercera, 4:Cuarta, parte de la cantida de tesis para el repositorio\n",
      "Escriba el numero por favor:1\n"
     ]
    }
   ],
   "source": [
    "#Crea una lista vacía que servirá para juntar los datos como tìtulos, autor, año , etc\n",
    "lista=[]\n",
    "#Conexión con la URL\n",
    "html = urllib.request.urlopen(\"https://tesis.pucp.edu.pe/repositorio/discover\")\n",
    "#Creación de sopa para mejor scrapeo ya que lo ordena de una mejor manera\n",
    "soup = BeautifulSoup(html, 'html.parser')\n",
    "#Se selecciona de la página web, la cantidad de tesis total\n",
    "max= int(str(soup.find(\"p\", class_=\"pagination-info\").text)[26:31])\n",
    "#Crea una lista \"cuantos\" para que de forma interactiva, pueda extraer una proporción o totalidad del repositorio\n",
    "cuantos=[max, max//2 ,max//3 , max//4]\n",
    "#Se le hace saber al ejecutador que significa los numeros \"1,2,3,4\" para que pueda extraer el repositorio relacionado a la proporción\n",
    "print(\"se define\")\n",
    "print(\"1:totalidad, 2:Mitad, 3:Tercera, 4:Cuarta, parte de la cantida de tesis para el repositorio\")\n",
    "rango= int(input(\"Escriba el numero por favor:\"))\n",
    "#Una vez escogido el nùmero, se procede a escoger de la lista \"cuantos\" cuánto será la proporción escogida a scrapear\n",
    "if rango ==1:\n",
    "      rango= cuantos[0]\n",
    "if rango ==2:\n",
    "      rango= cuantos[1]\n",
    "if rango ==3:\n",
    "      rango=cuantos[2]\n",
    "if rango ==4:\n",
    "      rango=cuantos[3]\n",
    "#Creamos un loop para que podamos scrapear para cada página particular del repositorio\n",
    "for m in range(rango):\n",
    "    #Try indica que intentará scrapear si es que existe esa pàgina, caso contrario que continue buscando\n",
    "    try :\n",
    "        #Conectará la pagina que empieza desde el repositorio 0 hasta el repositorio máximo encontrado usando formart\n",
    "        html = urllib.request.urlopen(\"https://tesis.pucp.edu.pe/repositorio/handle/20.500.12404/{}?show=full\".format(m)).read()\n",
    "        soup = BeautifulSoup(html, 'html.parser')\n",
    "        #Creamos dos tablas que guardaran las descripciones de la tesis en particular\n",
    "        tabla1= soup.find_all(\"tr\", class_=\"ds-table-row odd\")\n",
    "        tabla2= soup.find_all(\"tr\", class_=\"ds-table-row even\")\n",
    "        #Condicionamos que sino existe tal tabla entonces continue\n",
    "        if len(tabla1) !=0:\n",
    "            #Crear un loop para buscar cada atributo en particular\n",
    "            #Se desea guardar cada atributo para luego respetar un orden que se quiera mostrar, como en cada repositorio la tabla\n",
    "            #no siempre es el mismo orden, entonces si cumple la condición del texto deseado que guarde, caso contrario, continua\n",
    "            for n in range(len(tabla1)):\n",
    "                if str(tabla1[n].find().text) == \"dc.publisher\":\n",
    "                    a1=(tabla1[n].find(\"td\", class_=\"word-break\").text)\n",
    "                if str(tabla1[n].find().text) == \"dc.title\":\n",
    "                    a2=(tabla1[n].find(\"td\", class_=\"word-break\").text)\n",
    "                if str(tabla1[n].find().text) == \"dc.contributor.author\":\n",
    "                    a3=(tabla1[n].find(\"td\", class_=\"word-break\").text)\n",
    "                if str(tabla1[n].find().text) == \"thesis.degree.level\" :\n",
    "                    a4=(tabla1[n].find(\"td\", class_=\"word-break\").text)       \n",
    "                if str(tabla1[n].find().text) == \"dc.contributor.advisor\" :\n",
    "                    a5=(tabla1[n].find(\"td\", class_=\"word-break\").text)        \n",
    "                if str(tabla1[n].find().text) == \"dc.description.abstract\" :\n",
    "                    a6=(tabla1[n].find(\"td\", class_=\"word-break\").text)       \n",
    "                if str(tabla1[n].find().text) == \"dc.date.created\" :\n",
    "                    a7=(tabla1[n].find(\"td\", class_=\"word-break\").text) \n",
    "                if str(tabla1[n].find().text) == \"thesis.degree.discipline\" :\n",
    "                    a8=str(tabla1[n].find(\"td\", class_=\"word-break\").text)\n",
    "\n",
    "                else:\n",
    "                    continue     \n",
    "            for n in range(len(tabla2)):\n",
    "                if str(tabla2[n].find().text) == \"dc.publisher\" :\n",
    "                    a1=(tabla2[n].find(\"td\", class_=\"word-break\").text)        \n",
    "                if str(tabla2[n].find().text) == \"dc.title\" :\n",
    "                    a2=(tabla2[n].find(\"td\", class_=\"word-break\").text)        \n",
    "                if str(tabla2[n].find().text) == \"dc.contributor.author\" :\n",
    "                    a3=(tabla2[n].find(\"td\", class_=\"word-break\").text)       \n",
    "                if str(tabla2[n].find().text) == \"thesis.degree.level\" :\n",
    "                    a4=(tabla2[n].find(\"td\", class_=\"word-break\").text)       \n",
    "                if str(tabla2[n].find().text) == \"dc.contributor.advisor\" :\n",
    "                    a5=(tabla2[n].find(\"td\", class_=\"word-break\").text)        \n",
    "                if str(tabla2[n].find().text) == \"dc.description.abstract\" :\n",
    "                    a6=(tabla2[n].find(\"td\", class_=\"word-break\").text)     \n",
    "                if str(tabla2[n].find().text) == \"dc.date.created\" :\n",
    "                    a7=(tabla2[n].find(\"td\", class_=\"word-break\").text)\n",
    "                if str(tabla2[n].find().text) == \"thesis.degree.discipline\" :\n",
    "                    a8=str(tabla2[n].find(\"td\", class_=\"word-break\").text)\n",
    "                else:\n",
    "                    continue\n",
    "            #Una vez obtenido todos los atributos para cada tesis, guarde en la lista vacía \"lista\"\n",
    "            lista.append([a1,a2,a3,a4,a5,a6,a7,a8])            \n",
    "        else:\n",
    "            continue\n",
    "    except:\n",
    "        continue"
   ]
  },
  {
   "cell_type": "code",
   "execution_count": null,
   "id": "d02008ed",
   "metadata": {},
   "outputs": [],
   "source": [
    "#Transformamos la lista en data frame\n",
    "df=pd.DataFrame(lista)\n",
    "#Creamos las cabeceras para el nuevo DataFrame\n",
    "df.columns=[\"Universidad\",\"Título\",\"Tesista\",\"Grado\",\"Asesor\",\"Resumen\",\"Año\",\"Disciplina\"]\n",
    "#Filtramos el data frame para los 2 casos de : Disciplina estadìstica y las relacionadas a ella\n",
    "df2=df[df.Disciplina.str.contains(\"Estadística\", case=False)]\n",
    "df3=df[df.Disciplina.str.contains(\"Estadística|Ciencia de datos|Ingeniería Informática|Ciencias de la Información\", case=False)]"
   ]
  },
  {
   "cell_type": "code",
   "execution_count": null,
   "id": "2ee29e3a",
   "metadata": {},
   "outputs": [],
   "source": [
    "#Generamos los dos archivos csv, que se guardaran en su directorio de trabajo\n",
    "df2.to_csv(\"datos_catolica1.csv\", encoding=\"utf-8\" , sep='\\t'  )\n",
    "df3.to_csv(\"datos_catolica2.csv\", encoding=\"utf-8\" , sep='\\t'  )"
   ]
  },
  {
   "cell_type": "code",
   "execution_count": null,
   "id": "e10dcb2c",
   "metadata": {},
   "outputs": [],
   "source": [
    "df3"
   ]
  },
  {
   "cell_type": "code",
   "execution_count": null,
   "id": "c77def57",
   "metadata": {},
   "outputs": [],
   "source": [
    "#Se mide los DataFrame para el caso general y los particulares, para ser usados en las medidas estadìsticas de proporción\n",
    "len(df)\n",
    "len(df2)\n",
    "len(df3)"
   ]
  },
  {
   "cell_type": "code",
   "execution_count": null,
   "id": "7da73421",
   "metadata": {},
   "outputs": [],
   "source": [
    "#Medida estadística de proporción, para el caso de la disciplina de estadìstica\n",
    "prop_estadis= len(df2)/len(df)\n",
    "m1=round(prop_estadis,3)\n",
    "m1"
   ]
  },
  {
   "cell_type": "code",
   "execution_count": null,
   "id": "cdfe2e8c",
   "metadata": {},
   "outputs": [],
   "source": [
    "#Medida estadística de proporción, para el caso de las disciplinas relacionadas a estadìstica\n",
    "prop_relaci= len(df3)/len(df)\n",
    "m2=round(prop_relaci, 3)\n",
    "m2\n"
   ]
  },
  {
   "cell_type": "code",
   "execution_count": null,
   "id": "02f4cf24",
   "metadata": {},
   "outputs": [],
   "source": [
    "#Medida estadísitca de proporcion, para cada año de publicación para la disciplina de estadística\n",
    "m3 = df2[[\"Título\",\"Año\"]].groupby([\"Año\"]).count()\n",
    "m3"
   ]
  },
  {
   "cell_type": "code",
   "execution_count": null,
   "id": "5e95ded3",
   "metadata": {},
   "outputs": [],
   "source": [
    "#Medida estadísitca de proporcion, para cada año de publicación para la disciplinas relacionada a estadística\n",
    "m4 = df3[[\"Título\",\"Año\"]].groupby([\"Año\"]).count()\n",
    "m4"
   ]
  },
  {
   "cell_type": "code",
   "execution_count": null,
   "id": "5e1d0440",
   "metadata": {},
   "outputs": [],
   "source": [
    "#Grafico para las publicaciones por cada año para la disciplina de estadística\n",
    "countanios = df2['Año'].value_counts()\n",
    "# Obtener las etiquetas (años) y los valores (cantidades) de la serie de conteos\n",
    "etiquetas = countanios.index \n",
    "valores = countanios.values\n",
    "\n",
    "# Crear una figura de 10x8 pulgadas\n",
    "plt.figure(figsize=(10, 8))\n",
    "\n",
    "# Crear el gráfico de barras\n",
    "plt.bar(etiquetas, valores)\n",
    "\n",
    "# Rotar las etiquetas del eje x a vertical\n",
    "plt.xticks(rotation=0)\n",
    "\n",
    "# Mostrar el gráfico\n",
    "plt.show()"
   ]
  },
  {
   "cell_type": "code",
   "execution_count": null,
   "id": "0b31e3a6",
   "metadata": {},
   "outputs": [],
   "source": [
    "#Grafico para las publicaciones por cada año para las disciplina relacionadas a la estadística\n",
    "countanios = df3['Año'].value_counts()\n",
    "# Obtener las etiquetas (años) y los valores (cantidades) de la serie de conteos\n",
    "etiquetas = countanios.index \n",
    "valores = countanios.values\n",
    "\n",
    "# Crear una figura de 10x8 pulgadas\n",
    "plt.figure(figsize=(10, 8))\n",
    "\n",
    "# Crear el gráfico de barras\n",
    "plt.bar(etiquetas, valores)\n",
    "\n",
    "# Rotar las etiquetas del eje x a vertical\n",
    "plt.xticks(rotation=0)\n",
    "\n",
    "# Mostrar el gráfico\n",
    "plt.show()"
   ]
  },
  {
   "cell_type": "code",
   "execution_count": null,
   "id": "cb06d13e",
   "metadata": {},
   "outputs": [],
   "source": [
    "#Medidas descriptivas estadìsticas para el caso de publicaciones de la disciplina de estadìstica\n",
    "m3.describe()\n"
   ]
  },
  {
   "cell_type": "code",
   "execution_count": null,
   "id": "eae0f2ac",
   "metadata": {},
   "outputs": [],
   "source": [
    "#Medidas descriptivas estadìsticas para el caso de publicaciones relacionadas a la disciplina de estadìstica\n",
    "m4.describe()"
   ]
  },
  {
   "cell_type": "code",
   "execution_count": null,
   "id": "51cebf45",
   "metadata": {},
   "outputs": [],
   "source": [
    "#Frecuencia para grados de tesis, para el caso solamente de la disciplina de estadística\n",
    "m5 = df2[[\"Título\",\"Grado\"]].groupby([\"Grado\"]).count()\n",
    "m5"
   ]
  },
  {
   "cell_type": "code",
   "execution_count": null,
   "id": "df006dea",
   "metadata": {},
   "outputs": [],
   "source": [
    "#Frecuencia para grados de tesis, para el caso de las disciplinas relacionadas a la carrera de estadística\n",
    "m6 = df3[[\"Título\",\"Grado\"]].groupby([\"Grado\"]).count()\n",
    "m6"
   ]
  }
 ],
 "metadata": {
  "kernelspec": {
   "display_name": "Python 3 (ipykernel)",
   "language": "python",
   "name": "python3"
  },
  "language_info": {
   "codemirror_mode": {
    "name": "ipython",
    "version": 3
   },
   "file_extension": ".py",
   "mimetype": "text/x-python",
   "name": "python",
   "nbconvert_exporter": "python",
   "pygments_lexer": "ipython3",
   "version": "3.9.12"
  }
 },
 "nbformat": 4,
 "nbformat_minor": 5
}
