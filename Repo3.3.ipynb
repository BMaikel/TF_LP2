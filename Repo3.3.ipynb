{
 "cells": [
  {
   "cell_type": "code",
   "execution_count": 351,
   "id": "b4d6f039",
   "metadata": {},
   "outputs": [],
   "source": [
    "#Usando las bibliotecas para poder conectarse a la web y extraer información\n",
    "import urllib.request, urllib.parse, urllib.error\n",
    "from bs4 import BeautifulSoup\n",
    "import pandas as pd\n"
   ]
  },
  {
   "cell_type": "code",
   "execution_count": 352,
   "id": "2e7e98c1",
   "metadata": {},
   "outputs": [],
   "source": [
    "lista=[]\n",
    "html = urllib.request.urlopen(\"https://tesis.pucp.edu.pe/repositorio/handle/20.500.12404/5800?show=full\").read()\n",
    "soup = BeautifulSoup(html, 'html.parser')\n",
    "tabla1= soup.find_all(\"tr\", class_=\"ds-table-row odd\")\n",
    "tabla2= soup.find_all(\"tr\", class_=\"ds-table-row even\")\n",
    "\n"
   ]
  },
  {
   "cell_type": "code",
   "execution_count": 353,
   "id": "08fefb84",
   "metadata": {},
   "outputs": [],
   "source": [
    "for n in range(len(tabla1)):\n",
    "    if str(tabla1[n].find().text) == \"dc.publisher\" :\n",
    "        a1=(tabla1[n].find(\"td\", class_=\"word-break\").text)\n",
    "        \n",
    "    if str(tabla1[n].find().text) == \"dc.title\" :\n",
    "        a2=(tabla1[n].find(\"td\", class_=\"word-break\").text)\n",
    "        \n",
    "    if str(tabla1[n].find().text) == \"dc.contributor.author\" :\n",
    "        a3=(tabla1[n].find(\"td\", class_=\"word-break\").text)\n",
    "        \n",
    "    if str(tabla1[n].find().text) == \"thesis.degree.level\" :\n",
    "        a4=(tabla1[n].find(\"td\", class_=\"word-break\").text)\n",
    "        \n",
    "    if str(tabla1[n].find().text) == \"dc.contributor.advisor\" :\n",
    "        a5=(tabla1[n].find(\"td\", class_=\"word-break\").text) \n",
    "        \n",
    "    if str(tabla1[n].find().text) == \"dc.description.abstract\" :\n",
    "        a6=(tabla1[n].find(\"td\", class_=\"word-break\").text)\n",
    "        \n",
    "    if str(tabla1[n].find().text) == \"dc.date.created\" :\n",
    "        a7=(tabla1[n].find(\"td\", class_=\"word-break\").text) \n",
    "    \n",
    "    else: \n",
    "        continue\n",
    "    \n",
    "\n",
    "\n",
    "\n",
    "    \n",
    "    \n"
   ]
  },
  {
   "cell_type": "code",
   "execution_count": 354,
   "id": "d00816dc",
   "metadata": {},
   "outputs": [],
   "source": [
    "for n in range(len(tabla2)):\n",
    "    if str(tabla2[n].find().text) == \"dc.publisher\" :\n",
    "        a1=(tabla2[n].find(\"td\", class_=\"word-break\").text)\n",
    "        \n",
    "    if str(tabla2[n].find().text) == \"dc.title\" :\n",
    "        a2=(tabla2[n].find(\"td\", class_=\"word-break\").text)\n",
    "        \n",
    "    if str(tabla2[n].find().text) == \"dc.contributor.author\" :\n",
    "        a3=(tabla2[n].find(\"td\", class_=\"word-break\").text)\n",
    "        \n",
    "    if str(tabla2[n].find().text) == \"thesis.degree.level\" :\n",
    "        a4=(tabla2[n].find(\"td\", class_=\"word-break\").text)\n",
    "        \n",
    "    if str(tabla2[n].find().text) == \"dc.contributor.advisor\" :\n",
    "        a5=(tabla2[n].find(\"td\", class_=\"word-break\").text) \n",
    "        \n",
    "    if str(tabla2[n].find().text) == \"dc.description.abstract\" :\n",
    "        a6=(tabla2[n].find(\"td\", class_=\"word-break\").text)\n",
    "        \n",
    "    if str(tabla2[n].find().text) == \"dc.date.created\" :\n",
    "        a7=(tabla2[n].find(\"td\", class_=\"word-break\").text) \n",
    "    \n",
    "    else: \n",
    "        continue"
   ]
  },
  {
   "cell_type": "code",
   "execution_count": 355,
   "id": "5e54db70",
   "metadata": {},
   "outputs": [],
   "source": [
    "lista.append([a1,a2,a3,a4,a5,a6,a7])"
   ]
  },
  {
   "cell_type": "code",
   "execution_count": 356,
   "id": "f4983344",
   "metadata": {},
   "outputs": [
    {
     "data": {
      "text/plain": [
       "[['Pontificia Universidad Católica del Perú',\n",
       "  'Evaluación de la gestión educativa del centro de educación técnico productivo Madre Admirable.',\n",
       "  'Vílchez Choquehuayta, Gissela Magaly',\n",
       "  'Maestría',\n",
       "  'Francke Ballvé, Marfil Cristina',\n",
       "  'La presente tesis tuvo como objetivo evaluar la calidad de la gestión\\neducativa del Centro de Educación Técnico Productivo (CETPRO) Madre\\nAdmirable. Para ello se tomó en cuenta “la matriz de evaluación para la\\nacreditación de la calidad de la gestión educativa” del Instituto Peruano de\\nEvaluación, Acreditación y Certificación de la Calidad de la Educación\\nBásica (IPEBA). El enfoque de la investigación fue cualitativo. Para el\\nrecojo de la información se entrevistó a los directivos y docentes del\\nCETPRO, desarrolló grupos focales con los estudiantes y revisaron los\\ndocumentos de la institución. Luego estos datos se analizaron y discutieron.\\nSe encontró que una de las mayores fortalezas del CETPRO son sus\\nrecursos humanos. Ellos tienen experiencia en temas de inserción laboral\\njuvenil y comparten los valores de la institución. Además, las expectativas\\nde los estudiantes se orientan a seguir estudios superiores universitarios.\\nPor otro lado, el CETPRO Madre Admirable no tiene vínculos con el sector\\nproductivo y no recibe información ni asesoramiento sobre las necesidades\\nde capacitación de dicho sector. Los docentes son especialistas en sus\\náreas de trabajo, pero aún necesitan fortalecer algunas capacidades. Los\\nequipos son subvencionados por el mismo centro educativo y la mayoría\\nse encuentra en buenas condiciones. Finalmente, el CETPRO no tiene un\\nsistema de evaluación para generar planes de mejora.\\nUna de las principales conclusiones de esta investigación hace referencia\\na que la mejora de la calidad de la gestión educativa de los CETPRO\\ndepende, en buena medida, del apoyo técnico y financiero del Estado, a\\ntravés del Municipio o Unidades de Gestión Educativa Locales (UGEL); y\\ndel trabajo coordinado de los ministerios implicados. La tesis termina\\nproponiendo recomendaciones a la política de Educación Técnico\\nProductiva, a las instituciones locales, y al CETPRO Madre Admirable.',\n",
       "  '2014']]"
      ]
     },
     "execution_count": 356,
     "metadata": {},
     "output_type": "execute_result"
    }
   ],
   "source": [
    "lista"
   ]
  },
  {
   "cell_type": "code",
   "execution_count": null,
   "id": "44cc5c54",
   "metadata": {},
   "outputs": [],
   "source": []
  },
  {
   "cell_type": "code",
   "execution_count": null,
   "id": "c568e5a2",
   "metadata": {},
   "outputs": [],
   "source": []
  }
 ],
 "metadata": {
  "kernelspec": {
   "display_name": "Python 3 (ipykernel)",
   "language": "python",
   "name": "python3"
  },
  "language_info": {
   "codemirror_mode": {
    "name": "ipython",
    "version": 3
   },
   "file_extension": ".py",
   "mimetype": "text/x-python",
   "name": "python",
   "nbconvert_exporter": "python",
   "pygments_lexer": "ipython3",
   "version": "3.9.12"
  }
 },
 "nbformat": 4,
 "nbformat_minor": 5
}
