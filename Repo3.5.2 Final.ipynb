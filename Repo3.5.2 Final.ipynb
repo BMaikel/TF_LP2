{
 "cells": [
  {
   "cell_type": "code",
   "execution_count": 1,
   "id": "5c8d7da4",
   "metadata": {},
   "outputs": [],
   "source": [
    "#Importamos las bibliotecas a utilizar\n",
    "#para conectarnos a la URL, scrapear, usar pandas y realizar gráficos básicos\n",
    "import urllib.request, urllib.parse, urllib.error\n",
    "from bs4 import BeautifulSoup\n",
    "import pandas as pd \n",
    "import matplotlib.pyplot as plt\n"
   ]
  },
  {
   "cell_type": "code",
   "execution_count": 2,
   "id": "719039d8",
   "metadata": {
    "scrolled": true
   },
   "outputs": [
    {
     "name": "stdout",
     "output_type": "stream",
     "text": [
      "se define\n",
      "1:totalidad, 2:Mitad, 3:Tercera, 4:Cuarta, parte de la cantida de tesis para el repositorio\n",
      "Escriba el numero por favor:1\n"
     ]
    }
   ],
   "source": [
    "#Crea una lista vacía que servirá para juntar los datos como tìtulos, autor, año , etc\n",
    "lista=[]\n",
    "#Conexión con la URL\n",
    "html = urllib.request.urlopen(\"https://tesis.pucp.edu.pe/repositorio/discover\")\n",
    "#Creación de sopa para mejor scrapeo ya que lo ordena de una mejor manera\n",
    "soup = BeautifulSoup(html, 'html.parser')\n",
    "#Se selecciona de la página web, la cantidad de tesis total\n",
    "max= int(str(soup.find(\"p\", class_=\"pagination-info\").text)[26:31])\n",
    "#Crea una lista \"cuantos\" para que de forma interactiva, pueda extraer una proporción o totalidad del repositorio\n",
    "cuantos=[max, max//2 ,max//3 , max//4]\n",
    "#Se le hace saber al ejecutador que significa los numeros \"1,2,3,4\" para que pueda extraer el repositorio relacionado a la proporción\n",
    "print(\"se define\")\n",
    "print(\"1:totalidad, 2:Mitad, 3:Tercera, 4:Cuarta, parte de la cantida de tesis para el repositorio\")\n",
    "rango= int(input(\"Escriba el numero por favor:\"))\n",
    "#Una vez escogido el nùmero, se procede a escoger de la lista \"cuantos\" cuánto será la proporción escogida a scrapear\n",
    "if rango ==1:\n",
    "      rango= cuantos[0]\n",
    "if rango ==2:\n",
    "      rango= cuantos[1]\n",
    "if rango ==3:\n",
    "      rango=cuantos[2]\n",
    "if rango ==4:\n",
    "      rango=cuantos[3]\n",
    "#Creamos un loop para que podamos scrapear para cada página particular del repositorio\n",
    "for m in range(rango):\n",
    "    #Try indica que intentará scrapear si es que existe esa pàgina, caso contrario que continue buscando\n",
    "    try :\n",
    "        #Conectará la pagina que empieza desde el repositorio 0 hasta el repositorio máximo encontrado usando formart\n",
    "        html = urllib.request.urlopen(\"https://tesis.pucp.edu.pe/repositorio/handle/20.500.12404/{}?show=full\".format(m)).read()\n",
    "        soup = BeautifulSoup(html, 'html.parser')\n",
    "        #Creamos dos tablas que guardaran las descripciones de la tesis en particular\n",
    "        tabla1= soup.find_all(\"tr\", class_=\"ds-table-row odd\")\n",
    "        tabla2= soup.find_all(\"tr\", class_=\"ds-table-row even\")\n",
    "        #Condicionamos que sino existe tal tabla entonces continue\n",
    "        if len(tabla1) !=0:\n",
    "            #Crear un loop para buscar cada atributo en particular\n",
    "            #Se desea guardar cada atributo para luego respetar un orden que se quiera mostrar, como en cada repositorio la tabla\n",
    "            #no siempre es el mismo orden, entonces si cumple la condición del texto deseado que guarde, caso contrario, continua\n",
    "            for n in range(len(tabla1)):\n",
    "                if str(tabla1[n].find().text) == \"dc.publisher\":\n",
    "                    a1=(tabla1[n].find(\"td\", class_=\"word-break\").text)\n",
    "                if str(tabla1[n].find().text) == \"dc.title\":\n",
    "                    a2=(tabla1[n].find(\"td\", class_=\"word-break\").text)\n",
    "                if str(tabla1[n].find().text) == \"dc.contributor.author\":\n",
    "                    a3=(tabla1[n].find(\"td\", class_=\"word-break\").text)\n",
    "                if str(tabla1[n].find().text) == \"thesis.degree.level\" :\n",
    "                    a4=(tabla1[n].find(\"td\", class_=\"word-break\").text)       \n",
    "                if str(tabla1[n].find().text) == \"dc.contributor.advisor\" :\n",
    "                    a5=(tabla1[n].find(\"td\", class_=\"word-break\").text)        \n",
    "                if str(tabla1[n].find().text) == \"dc.description.abstract\" :\n",
    "                    a6=(tabla1[n].find(\"td\", class_=\"word-break\").text)       \n",
    "                if str(tabla1[n].find().text) == \"dc.date.created\" :\n",
    "                    a7=(tabla1[n].find(\"td\", class_=\"word-break\").text) \n",
    "                if str(tabla1[n].find().text) == \"thesis.degree.discipline\" :\n",
    "                    a8=str(tabla1[n].find(\"td\", class_=\"word-break\").text)\n",
    "\n",
    "                else:\n",
    "                    continue     \n",
    "            for n in range(len(tabla2)):\n",
    "                if str(tabla2[n].find().text) == \"dc.publisher\" :\n",
    "                    a1=(tabla2[n].find(\"td\", class_=\"word-break\").text)        \n",
    "                if str(tabla2[n].find().text) == \"dc.title\" :\n",
    "                    a2=(tabla2[n].find(\"td\", class_=\"word-break\").text)        \n",
    "                if str(tabla2[n].find().text) == \"dc.contributor.author\" :\n",
    "                    a3=(tabla2[n].find(\"td\", class_=\"word-break\").text)       \n",
    "                if str(tabla2[n].find().text) == \"thesis.degree.level\" :\n",
    "                    a4=(tabla2[n].find(\"td\", class_=\"word-break\").text)       \n",
    "                if str(tabla2[n].find().text) == \"dc.contributor.advisor\" :\n",
    "                    a5=(tabla2[n].find(\"td\", class_=\"word-break\").text)        \n",
    "                if str(tabla2[n].find().text) == \"dc.description.abstract\" :\n",
    "                    a6=(tabla2[n].find(\"td\", class_=\"word-break\").text)     \n",
    "                if str(tabla2[n].find().text) == \"dc.date.created\" :\n",
    "                    a7=(tabla2[n].find(\"td\", class_=\"word-break\").text)\n",
    "                if str(tabla2[n].find().text) == \"thesis.degree.discipline\" :\n",
    "                    a8=str(tabla2[n].find(\"td\", class_=\"word-break\").text)\n",
    "                else:\n",
    "                    continue\n",
    "            #Una vez obtenido todos los atributos para cada tesis, guarde en la lista vacía \"lista\"\n",
    "            lista.append([a1,a2,a3,a4,a5,a6,a7,a8])            \n",
    "        else:\n",
    "            continue\n",
    "    except:\n",
    "        continue"
   ]
  },
  {
   "cell_type": "code",
   "execution_count": 3,
   "id": "83ab86d8",
   "metadata": {},
   "outputs": [],
   "source": [
    "#Transformamos la lista en data frame\n",
    "df=pd.DataFrame(lista)\n",
    "#Creamos las cabeceras para el nuevo DataFrame\n",
    "df.columns=[\"Universidad\",\"Título\",\"Tesista\",\"Grado\",\"Asesor\",\"Resumen\",\"Año\",\"Disciplina\"]\n",
    "#Filtramos el data frame para los 2 casos de : Disciplina estadìstica y las relacionadas a ella\n",
    "df2=df[df.Disciplina.str.contains(\"Estadística\", case=False)]\n",
    "df3=df[df.Disciplina.str.contains(\"Estadística|Ciencia de datos|Ingeniería Informática|Ciencias de la Información\", case=False)]"
   ]
  },
  {
   "cell_type": "code",
   "execution_count": 4,
   "id": "321ac915",
   "metadata": {},
   "outputs": [],
   "source": [
    "#Generamos los dos archivos csv, que se guardaran en su directorio de trabajo\n",
    "df2.to_csv(\"datos_catolica1.csv\", encoding=\"utf-8\" , sep='\\t'  )\n",
    "df3.to_csv(\"datos_catolica2.csv\", encoding=\"utf-8\" , sep='\\t'  )"
   ]
  },
  {
   "cell_type": "code",
   "execution_count": null,
   "id": "a592df88",
   "metadata": {},
   "outputs": [],
   "source": [
    "#Se mide los DataFrame para el caso general y los particulares, para ser usados en las medidas estadìsticas de proporción\n",
    "len(df)\n",
    "len(df2)\n",
    "len(df3)"
   ]
  },
  {
   "cell_type": "code",
   "execution_count": 6,
   "id": "83db04ae",
   "metadata": {},
   "outputs": [
    {
     "data": {
      "text/plain": [
       "0.003"
      ]
     },
     "execution_count": 6,
     "metadata": {},
     "output_type": "execute_result"
    }
   ],
   "source": [
    "#Medida estadística de proporción, para el caso de la disciplina de estadìstica\n",
    "prop_estadis= len(df2)/len(df)\n",
    "m1=round(prop_estadis,3)\n",
    "m1"
   ]
  },
  {
   "cell_type": "code",
   "execution_count": 7,
   "id": "0bcb2f90",
   "metadata": {},
   "outputs": [
    {
     "data": {
      "text/plain": [
       "0.026"
      ]
     },
     "execution_count": 7,
     "metadata": {},
     "output_type": "execute_result"
    }
   ],
   "source": [
    "#Medida estadística de proporción, para el caso de las disciplinas relacionadas a estadìstica\n",
    "prop_relaci= len(df3)/len(df)\n",
    "m2=round(prop_relaci, 3)\n",
    "m2\n"
   ]
  },
  {
   "cell_type": "code",
   "execution_count": 8,
   "id": "b51e8137",
   "metadata": {},
   "outputs": [
    {
     "data": {
      "text/html": [
       "<div>\n",
       "<style scoped>\n",
       "    .dataframe tbody tr th:only-of-type {\n",
       "        vertical-align: middle;\n",
       "    }\n",
       "\n",
       "    .dataframe tbody tr th {\n",
       "        vertical-align: top;\n",
       "    }\n",
       "\n",
       "    .dataframe thead th {\n",
       "        text-align: right;\n",
       "    }\n",
       "</style>\n",
       "<table border=\"1\" class=\"dataframe\">\n",
       "  <thead>\n",
       "    <tr style=\"text-align: right;\">\n",
       "      <th></th>\n",
       "      <th>Título</th>\n",
       "    </tr>\n",
       "    <tr>\n",
       "      <th>Año</th>\n",
       "      <th></th>\n",
       "    </tr>\n",
       "  </thead>\n",
       "  <tbody>\n",
       "    <tr>\n",
       "      <th>2010</th>\n",
       "      <td>2</td>\n",
       "    </tr>\n",
       "    <tr>\n",
       "      <th>2012</th>\n",
       "      <td>6</td>\n",
       "    </tr>\n",
       "    <tr>\n",
       "      <th>2013</th>\n",
       "      <td>5</td>\n",
       "    </tr>\n",
       "    <tr>\n",
       "      <th>2014</th>\n",
       "      <td>1</td>\n",
       "    </tr>\n",
       "    <tr>\n",
       "      <th>2015</th>\n",
       "      <td>5</td>\n",
       "    </tr>\n",
       "    <tr>\n",
       "      <th>2016</th>\n",
       "      <td>3</td>\n",
       "    </tr>\n",
       "    <tr>\n",
       "      <th>2017</th>\n",
       "      <td>3</td>\n",
       "    </tr>\n",
       "    <tr>\n",
       "      <th>2018</th>\n",
       "      <td>12</td>\n",
       "    </tr>\n",
       "    <tr>\n",
       "      <th>2019</th>\n",
       "      <td>4</td>\n",
       "    </tr>\n",
       "    <tr>\n",
       "      <th>2020</th>\n",
       "      <td>10</td>\n",
       "    </tr>\n",
       "    <tr>\n",
       "      <th>2021</th>\n",
       "      <td>4</td>\n",
       "    </tr>\n",
       "  </tbody>\n",
       "</table>\n",
       "</div>"
      ],
      "text/plain": [
       "      Título\n",
       "Año         \n",
       "2010       2\n",
       "2012       6\n",
       "2013       5\n",
       "2014       1\n",
       "2015       5\n",
       "2016       3\n",
       "2017       3\n",
       "2018      12\n",
       "2019       4\n",
       "2020      10\n",
       "2021       4"
      ]
     },
     "execution_count": 8,
     "metadata": {},
     "output_type": "execute_result"
    }
   ],
   "source": [
    "#Medida estadísitca de proporcion, para cada año de publicación para la disciplina de estadística\n",
    "m3 = df2[[\"Título\",\"Año\"]].groupby([\"Año\"]).count()\n",
    "m3"
   ]
  },
  {
   "cell_type": "code",
   "execution_count": 9,
   "id": "54274b79",
   "metadata": {},
   "outputs": [
    {
     "data": {
      "text/html": [
       "<div>\n",
       "<style scoped>\n",
       "    .dataframe tbody tr th:only-of-type {\n",
       "        vertical-align: middle;\n",
       "    }\n",
       "\n",
       "    .dataframe tbody tr th {\n",
       "        vertical-align: top;\n",
       "    }\n",
       "\n",
       "    .dataframe thead th {\n",
       "        text-align: right;\n",
       "    }\n",
       "</style>\n",
       "<table border=\"1\" class=\"dataframe\">\n",
       "  <thead>\n",
       "    <tr style=\"text-align: right;\">\n",
       "      <th></th>\n",
       "      <th>Título</th>\n",
       "    </tr>\n",
       "    <tr>\n",
       "      <th>Año</th>\n",
       "      <th></th>\n",
       "    </tr>\n",
       "  </thead>\n",
       "  <tbody>\n",
       "    <tr>\n",
       "      <th>2003</th>\n",
       "      <td>1</td>\n",
       "    </tr>\n",
       "    <tr>\n",
       "      <th>2004</th>\n",
       "      <td>3</td>\n",
       "    </tr>\n",
       "    <tr>\n",
       "      <th>2005</th>\n",
       "      <td>2</td>\n",
       "    </tr>\n",
       "    <tr>\n",
       "      <th>2006</th>\n",
       "      <td>7</td>\n",
       "    </tr>\n",
       "    <tr>\n",
       "      <th>2007</th>\n",
       "      <td>13</td>\n",
       "    </tr>\n",
       "    <tr>\n",
       "      <th>2008</th>\n",
       "      <td>17</td>\n",
       "    </tr>\n",
       "    <tr>\n",
       "      <th>2009</th>\n",
       "      <td>17</td>\n",
       "    </tr>\n",
       "    <tr>\n",
       "      <th>2010</th>\n",
       "      <td>19</td>\n",
       "    </tr>\n",
       "    <tr>\n",
       "      <th>2011</th>\n",
       "      <td>16</td>\n",
       "    </tr>\n",
       "    <tr>\n",
       "      <th>2012</th>\n",
       "      <td>23</td>\n",
       "    </tr>\n",
       "    <tr>\n",
       "      <th>2013</th>\n",
       "      <td>48</td>\n",
       "    </tr>\n",
       "    <tr>\n",
       "      <th>2014</th>\n",
       "      <td>40</td>\n",
       "    </tr>\n",
       "    <tr>\n",
       "      <th>2015</th>\n",
       "      <td>68</td>\n",
       "    </tr>\n",
       "    <tr>\n",
       "      <th>2016</th>\n",
       "      <td>21</td>\n",
       "    </tr>\n",
       "    <tr>\n",
       "      <th>2017</th>\n",
       "      <td>17</td>\n",
       "    </tr>\n",
       "    <tr>\n",
       "      <th>2018</th>\n",
       "      <td>35</td>\n",
       "    </tr>\n",
       "    <tr>\n",
       "      <th>2019</th>\n",
       "      <td>28</td>\n",
       "    </tr>\n",
       "    <tr>\n",
       "      <th>2020</th>\n",
       "      <td>46</td>\n",
       "    </tr>\n",
       "    <tr>\n",
       "      <th>2021</th>\n",
       "      <td>19</td>\n",
       "    </tr>\n",
       "  </tbody>\n",
       "</table>\n",
       "</div>"
      ],
      "text/plain": [
       "      Título\n",
       "Año         \n",
       "2003       1\n",
       "2004       3\n",
       "2005       2\n",
       "2006       7\n",
       "2007      13\n",
       "2008      17\n",
       "2009      17\n",
       "2010      19\n",
       "2011      16\n",
       "2012      23\n",
       "2013      48\n",
       "2014      40\n",
       "2015      68\n",
       "2016      21\n",
       "2017      17\n",
       "2018      35\n",
       "2019      28\n",
       "2020      46\n",
       "2021      19"
      ]
     },
     "execution_count": 9,
     "metadata": {},
     "output_type": "execute_result"
    }
   ],
   "source": [
    "#Medida estadísitca de proporcion, para cada año de publicación para la disciplinas relacionada a estadística\n",
    "m4 = df3[[\"Título\",\"Año\"]].groupby([\"Año\"]).count()\n",
    "m4"
   ]
  },
  {
   "cell_type": "code",
   "execution_count": 10,
   "id": "9f38a23c",
   "metadata": {},
   "outputs": [
    {
     "data": {
      "image/png": "[encoded data removed]",
      "text/plain": [
       "<Figure size 720x576 with 1 Axes>"
      ]
     },
     "metadata": {
      "needs_background": "light"
     },
     "output_type": "display_data"
    }
   ],
   "source": [
    "#Grafico para las publicaciones por cada año para la disciplina de estadística\n",
    "countanios = df2['Año'].value_counts()\n",
    "# Obtener las etiquetas (años) y los valores (cantidades) de la serie de conteos\n",
    "etiquetas = countanios.index \n",
    "valores = countanios.values\n",
    "\n",
    "# Crear una figura de 10x8 pulgadas\n",
    "plt.figure(figsize=(10, 8))\n",
    "\n",
    "# Crear el gráfico de barras\n",
    "plt.bar(etiquetas, valores)\n",
    "\n",
    "# Rotar las etiquetas del eje x a vertical\n",
    "plt.xticks(rotation=0)\n",
    "\n",
    "# Mostrar el gráfico\n",
    "plt.show()"
   ]
  },
  {
   "cell_type": "code",
   "execution_count": 11,
   "id": "bdeeb6d6",
   "metadata": {},
   "outputs": [
    {
     "data": {
      "image/png": "[encoded data removed]",
      "text/plain": [
       "<Figure size 720x576 with 1 Axes>"
      ]
     },
     "metadata": {
      "needs_background": "light"
     },
     "output_type": "display_data"
    }
   ],
   "source": [
    "#Grafico para las publicaciones por cada año para las disciplina relacionadas a la estadística\n",
    "countanios = df3['Año'].value_counts()\n",
    "# Obtener las etiquetas (años) y los valores (cantidades) de la serie de conteos\n",
    "etiquetas = countanios.index \n",
    "valores = countanios.values\n",
    "\n",
    "# Crear una figura de 10x8 pulgadas\n",
    "plt.figure(figsize=(10, 8))\n",
    "\n",
    "# Crear el gráfico de barras\n",
    "plt.bar(etiquetas, valores)\n",
    "\n",
    "# Rotar las etiquetas del eje x a vertical\n",
    "plt.xticks(rotation=0)\n",
    "\n",
    "# Mostrar el gráfico\n",
    "plt.show()"
   ]
  },
  {
   "cell_type": "code",
   "execution_count": 12,
   "id": "479b322c",
   "metadata": {},
   "outputs": [
    {
     "data": {
      "text/html": [
       "<div>\n",
       "<style scoped>\n",
       "    .dataframe tbody tr th:only-of-type {\n",
       "        vertical-align: middle;\n",
       "    }\n",
       "\n",
       "    .dataframe tbody tr th {\n",
       "        vertical-align: top;\n",
       "    }\n",
       "\n",
       "    .dataframe thead th {\n",
       "        text-align: right;\n",
       "    }\n",
       "</style>\n",
       "<table border=\"1\" class=\"dataframe\">\n",
       "  <thead>\n",
       "    <tr style=\"text-align: right;\">\n",
       "      <th></th>\n",
       "      <th>Título</th>\n",
       "    </tr>\n",
       "  </thead>\n",
       "  <tbody>\n",
       "    <tr>\n",
       "      <th>count</th>\n",
       "      <td>11.000000</td>\n",
       "    </tr>\n",
       "    <tr>\n",
       "      <th>mean</th>\n",
       "      <td>5.000000</td>\n",
       "    </tr>\n",
       "    <tr>\n",
       "      <th>std</th>\n",
       "      <td>3.316625</td>\n",
       "    </tr>\n",
       "    <tr>\n",
       "      <th>min</th>\n",
       "      <td>1.000000</td>\n",
       "    </tr>\n",
       "    <tr>\n",
       "      <th>25%</th>\n",
       "      <td>3.000000</td>\n",
       "    </tr>\n",
       "    <tr>\n",
       "      <th>50%</th>\n",
       "      <td>4.000000</td>\n",
       "    </tr>\n",
       "    <tr>\n",
       "      <th>75%</th>\n",
       "      <td>5.500000</td>\n",
       "    </tr>\n",
       "    <tr>\n",
       "      <th>max</th>\n",
       "      <td>12.000000</td>\n",
       "    </tr>\n",
       "  </tbody>\n",
       "</table>\n",
       "</div>"
      ],
      "text/plain": [
       "          Título\n",
       "count  11.000000\n",
       "mean    5.000000\n",
       "std     3.316625\n",
       "min     1.000000\n",
       "25%     3.000000\n",
       "50%     4.000000\n",
       "75%     5.500000\n",
       "max    12.000000"
      ]
     },
     "execution_count": 12,
     "metadata": {},
     "output_type": "execute_result"
    }
   ],
   "source": [
    "#Medidas descriptivas estadìsticas para el caso de publicaciones de la disciplina de estadìstica\n",
    "m3.describe()\n"
   ]
  },
  {
   "cell_type": "code",
   "execution_count": 13,
   "id": "1a8570ad",
   "metadata": {},
   "outputs": [
    {
     "data": {
      "text/html": [
       "<div>\n",
       "<style scoped>\n",
       "    .dataframe tbody tr th:only-of-type {\n",
       "        vertical-align: middle;\n",
       "    }\n",
       "\n",
       "    .dataframe tbody tr th {\n",
       "        vertical-align: top;\n",
       "    }\n",
       "\n",
       "    .dataframe thead th {\n",
       "        text-align: right;\n",
       "    }\n",
       "</style>\n",
       "<table border=\"1\" class=\"dataframe\">\n",
       "  <thead>\n",
       "    <tr style=\"text-align: right;\">\n",
       "      <th></th>\n",
       "      <th>Título</th>\n",
       "    </tr>\n",
       "  </thead>\n",
       "  <tbody>\n",
       "    <tr>\n",
       "      <th>count</th>\n",
       "      <td>19.000000</td>\n",
       "    </tr>\n",
       "    <tr>\n",
       "      <th>mean</th>\n",
       "      <td>23.157895</td>\n",
       "    </tr>\n",
       "    <tr>\n",
       "      <th>std</th>\n",
       "      <td>17.496867</td>\n",
       "    </tr>\n",
       "    <tr>\n",
       "      <th>min</th>\n",
       "      <td>1.000000</td>\n",
       "    </tr>\n",
       "    <tr>\n",
       "      <th>25%</th>\n",
       "      <td>14.500000</td>\n",
       "    </tr>\n",
       "    <tr>\n",
       "      <th>50%</th>\n",
       "      <td>19.000000</td>\n",
       "    </tr>\n",
       "    <tr>\n",
       "      <th>75%</th>\n",
       "      <td>31.500000</td>\n",
       "    </tr>\n",
       "    <tr>\n",
       "      <th>max</th>\n",
       "      <td>68.000000</td>\n",
       "    </tr>\n",
       "  </tbody>\n",
       "</table>\n",
       "</div>"
      ],
      "text/plain": [
       "          Título\n",
       "count  19.000000\n",
       "mean   23.157895\n",
       "std    17.496867\n",
       "min     1.000000\n",
       "25%    14.500000\n",
       "50%    19.000000\n",
       "75%    31.500000\n",
       "max    68.000000"
      ]
     },
     "execution_count": 13,
     "metadata": {},
     "output_type": "execute_result"
    }
   ],
   "source": [
    "#Medidas descriptivas estadìsticas para el caso de publicaciones relacionadas a la disciplina de estadìstica\n",
    "m4.describe()"
   ]
  },
  {
   "cell_type": "code",
   "execution_count": 14,
   "id": "80498f92",
   "metadata": {},
   "outputs": [
    {
     "data": {
      "text/html": [
       "<div>\n",
       "<style scoped>\n",
       "    .dataframe tbody tr th:only-of-type {\n",
       "        vertical-align: middle;\n",
       "    }\n",
       "\n",
       "    .dataframe tbody tr th {\n",
       "        vertical-align: top;\n",
       "    }\n",
       "\n",
       "    .dataframe thead th {\n",
       "        text-align: right;\n",
       "    }\n",
       "</style>\n",
       "<table border=\"1\" class=\"dataframe\">\n",
       "  <thead>\n",
       "    <tr style=\"text-align: right;\">\n",
       "      <th></th>\n",
       "      <th>Título</th>\n",
       "    </tr>\n",
       "    <tr>\n",
       "      <th>Grado</th>\n",
       "      <th></th>\n",
       "    </tr>\n",
       "  </thead>\n",
       "  <tbody>\n",
       "    <tr>\n",
       "      <th>Bachillerato</th>\n",
       "      <td>1</td>\n",
       "    </tr>\n",
       "    <tr>\n",
       "      <th>Maestría</th>\n",
       "      <td>54</td>\n",
       "    </tr>\n",
       "  </tbody>\n",
       "</table>\n",
       "</div>"
      ],
      "text/plain": [
       "              Título\n",
       "Grado               \n",
       "Bachillerato       1\n",
       "Maestría          54"
      ]
     },
     "execution_count": 14,
     "metadata": {},
     "output_type": "execute_result"
    }
   ],
   "source": [
    "#Frecuencia para grados de tesis, para el caso solamente de la disciplina de estadística\n",
    "m5 = df2[[\"Título\",\"Grado\"]].groupby([\"Grado\"]).count()\n",
    "m5"
   ]
  },
  {
   "cell_type": "code",
   "execution_count": 15,
   "id": "bf4c9006",
   "metadata": {},
   "outputs": [
    {
     "data": {
      "text/html": [
       "<div>\n",
       "<style scoped>\n",
       "    .dataframe tbody tr th:only-of-type {\n",
       "        vertical-align: middle;\n",
       "    }\n",
       "\n",
       "    .dataframe tbody tr th {\n",
       "        vertical-align: top;\n",
       "    }\n",
       "\n",
       "    .dataframe thead th {\n",
       "        text-align: right;\n",
       "    }\n",
       "</style>\n",
       "<table border=\"1\" class=\"dataframe\">\n",
       "  <thead>\n",
       "    <tr style=\"text-align: right;\">\n",
       "      <th></th>\n",
       "      <th>Título</th>\n",
       "    </tr>\n",
       "    <tr>\n",
       "      <th>Grado</th>\n",
       "      <th></th>\n",
       "    </tr>\n",
       "  </thead>\n",
       "  <tbody>\n",
       "    <tr>\n",
       "      <th>Bachillerato</th>\n",
       "      <td>27</td>\n",
       "    </tr>\n",
       "    <tr>\n",
       "      <th>Maestría</th>\n",
       "      <td>57</td>\n",
       "    </tr>\n",
       "    <tr>\n",
       "      <th>Título Profesional</th>\n",
       "      <td>356</td>\n",
       "    </tr>\n",
       "  </tbody>\n",
       "</table>\n",
       "</div>"
      ],
      "text/plain": [
       "                    Título\n",
       "Grado                     \n",
       "Bachillerato            27\n",
       "Maestría                57\n",
       "Título Profesional     356"
      ]
     },
     "execution_count": 15,
     "metadata": {},
     "output_type": "execute_result"
    }
   ],
   "source": [
    "#Frecuencia para grados de tesis, para el caso de las disciplinas relacionadas a la carrera de estadística\n",
    "m6 = df3[[\"Título\",\"Grado\"]].groupby([\"Grado\"]).count()\n",
    "m6"
   ]
  },
  {
   "cell_type": "code",
   "execution_count": null,
   "id": "9ec17404",
   "metadata": {},
   "outputs": [],
   "source": []
  }
 ],
 "metadata": {
  "kernelspec": {
   "display_name": "Python 3 (ipykernel)",
   "language": "python",
   "name": "python3"
  },
  "language_info": {
   "codemirror_mode": {
    "name": "ipython",
    "version": 3
   },
   "file_extension": ".py",
   "mimetype": "text/x-python",
   "name": "python",
   "nbconvert_exporter": "python",
   "pygments_lexer": "ipython3",
   "version": "3.9.12"
  }
 },
 "nbformat": 4,
 "nbformat_minor": 5
}
