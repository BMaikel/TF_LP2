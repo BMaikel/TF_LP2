{
  "nbformat": 4,
  "nbformat_minor": 0,
  "metadata": {
    "colab": {
      "provenance": []
    },
    "kernelspec": {
      "name": "python3",
      "display_name": "Python 3"
    },
    "language_info": {
      "name": "python"
    }
  },
  "cells": [
    {
      "cell_type": "markdown",
      "source": [
        "# UNIVERSIDAD DE LIMA"
      ],
      "metadata": {
        "id": "Ss2Q58c_BOV0"
      }
    },
    {
      "cell_type": "markdown",
      "source": [
        "## OBTENIENDO LOS ENLACES A LAS TESIS"
      ],
      "metadata": {
        "id": "jCiz10xGBUCv"
      }
    },
    {
      "cell_type": "code",
      "execution_count": 1,
      "metadata": {
        "id": "uy5KNEox-KUj"
      },
      "outputs": [],
      "source": [
        "uni = \"Universidad de Lima\"\n",
        "link = \"https://repositorio.ulima.edu.pe/discover?rpp=10&etal=0&scope=20.500.12724/1409&group_by=none&page=1\""
      ]
    },
    {
      "cell_type": "code",
      "source": [
        "import requests\n",
        "from bs4 import BeautifulSoup"
      ],
      "metadata": {
        "id": "ibFQpyGx-VIn"
      },
      "execution_count": 2,
      "outputs": []
    },
    {
      "cell_type": "code",
      "source": [
        "rpt = requests.get(link)"
      ],
      "metadata": {
        "id": "53VxGbJy-cZ3"
      },
      "execution_count": 3,
      "outputs": []
    },
    {
      "cell_type": "code",
      "source": [
        "soup = BeautifulSoup(rpt.text, \"html.parser\")"
      ],
      "metadata": {
        "id": "6Ge286LX-mWy"
      },
      "execution_count": 4,
      "outputs": []
    },
    {
      "cell_type": "code",
      "source": [
        "tesis = soup.find_all(class_=\"row ds-artifact-item \")"
      ],
      "metadata": {
        "id": "WudWTTsb-9Rv"
      },
      "execution_count": 5,
      "outputs": []
    },
    {
      "cell_type": "code",
      "source": [
        "lista_tesis = []\n",
        "for div in tesis:\n",
        "  lista_tesis.append(\"https://repositorio.ulima.edu.pe/\"+f\"{div.find('a').get('href')}\")"
      ],
      "metadata": {
        "id": "NmO8xACv_ryq"
      },
      "execution_count": 6,
      "outputs": []
    },
    {
      "cell_type": "code",
      "source": [
        "lista_tesis"
      ],
      "metadata": {
        "colab": {
          "base_uri": "https://localhost:8080/"
        },
        "id": "hG14mV33A5Kl",
        "outputId": "40acd5e6-1a58-48a1-9303-0ba8e76e9c72"
      },
      "execution_count": 7,
      "outputs": [
        {
          "output_type": "execute_result",
          "data": {
            "text/plain": [
              "['https://repositorio.ulima.edu.pe//handle/20.500.12724/16321',\n",
              " 'https://repositorio.ulima.edu.pe//handle/20.500.12724/16334',\n",
              " 'https://repositorio.ulima.edu.pe//handle/20.500.12724/15986',\n",
              " 'https://repositorio.ulima.edu.pe//handle/20.500.12724/16306',\n",
              " 'https://repositorio.ulima.edu.pe//handle/20.500.12724/16267',\n",
              " 'https://repositorio.ulima.edu.pe//handle/20.500.12724/15791',\n",
              " 'https://repositorio.ulima.edu.pe//handle/20.500.12724/15631',\n",
              " 'https://repositorio.ulima.edu.pe//handle/20.500.12724/15579',\n",
              " 'https://repositorio.ulima.edu.pe//handle/20.500.12724/15610',\n",
              " 'https://repositorio.ulima.edu.pe//handle/20.500.12724/15636']"
            ]
          },
          "metadata": {},
          "execution_count": 7
        }
      ]
    },
    {
      "cell_type": "markdown",
      "source": [
        "## OBTENIENDO LA INFORMACIÓN DE UNA TESIS"
      ],
      "metadata": {
        "id": "4LLUxefoBam9"
      }
    },
    {
      "cell_type": "code",
      "source": [
        "link_tesis = \"https://repositorio.ulima.edu.pe//handle/20.500.12724/16321\"\n",
        "resp_t = requests.get(link_tesis)\n",
        "soup_t = BeautifulSoup(resp_t.text, \"html.parser\")"
      ],
      "metadata": {
        "id": "nOfAJUNoBNLh"
      },
      "execution_count": 8,
      "outputs": []
    },
    {
      "cell_type": "code",
      "source": [
        "#Obteniendo el título\n",
        "soup_t.find(\"h2\").text"
      ],
      "metadata": {
        "colab": {
          "base_uri": "https://localhost:8080/",
          "height": 36
        },
        "id": "3l0mxEmYB5Ol",
        "outputId": "abb8555f-9dda-4bd6-ac58-5ec0f0c6c4df"
      },
      "execution_count": 9,
      "outputs": [
        {
          "output_type": "execute_result",
          "data": {
            "text/plain": [
              "'Reestructuración del desembarcadero pesquero artesanal de Ilo'"
            ],
            "application/vnd.google.colaboratory.intrinsic+json": {
              "type": "string"
            }
          },
          "metadata": {},
          "execution_count": 9
        }
      ]
    },
    {
      "cell_type": "code",
      "source": [
        "#Nombre del tesista\n",
        "a = soup_t.find_all(class_ = \"simple-item-view-authors\")[0].find_all(\"div\")\n",
        "for autor in a:\n",
        "  print(autor.text.strip(\"\\n\"))"
      ],
      "metadata": {
        "colab": {
          "base_uri": "https://localhost:8080/"
        },
        "id": "4BkhmtHTCQYK",
        "outputId": "346907e1-72fd-4ce8-9bfa-0c39247a52f0"
      },
      "execution_count": 10,
      "outputs": [
        {
          "output_type": "stream",
          "name": "stdout",
          "text": [
            "Cruz Falcon, Paul\n",
            "Maldonado Fuentes, Maria Angela\n"
          ]
        }
      ]
    },
    {
      "cell_type": "code",
      "source": [
        "#Grado\n",
        "import re\n",
        "grado = soup_t.find_all(class_=\"simple-item-view-uri\")[1].text\n",
        "grado_f = re.findall('\\[.*\\]', grado)[0].strip(\"[\").strip(\"]\")\n",
        "print(grado_f)"
      ],
      "metadata": {
        "colab": {
          "base_uri": "https://localhost:8080/"
        },
        "id": "fZoqMUPZDh9V",
        "outputId": "8293fc37-4d91-44fb-c16e-b8d406a8bb05"
      },
      "execution_count": 11,
      "outputs": [
        {
          "output_type": "stream",
          "name": "stdout",
          "text": [
            "Trabajo de suficiencia profesional para optar el Título Profesional de Arquitecto, Universidad de Lima\n"
          ]
        }
      ]
    },
    {
      "cell_type": "code",
      "source": [
        "#Nombre del asesor(es)\n",
        "b = soup_t.find_all(class_ = \"simple-item-view-authors\")[1].find_all(\"div\")\n",
        "for autor in b:\n",
        "  print(autor.text.strip(\"\\n\"))"
      ],
      "metadata": {
        "colab": {
          "base_uri": "https://localhost:8080/"
        },
        "id": "pLd0PZheGVBp",
        "outputId": "3443529a-d207-446d-fde7-bfa881d2e115"
      },
      "execution_count": 12,
      "outputs": [
        {
          "output_type": "stream",
          "name": "stdout",
          "text": [
            "Takano Valdivia, Karen\n"
          ]
        }
      ]
    },
    {
      "cell_type": "code",
      "source": [
        "#Año\n",
        "str(soup_t.find(class_=\"simple-item-view-date\").find_all(text=True, recursive=False)[1])"
      ],
      "metadata": {
        "colab": {
          "base_uri": "https://localhost:8080/",
          "height": 36
        },
        "id": "crL3KzYpHOse",
        "outputId": "f1ae41b9-8fc4-417e-fc1b-5db2f322f08d"
      },
      "execution_count": 13,
      "outputs": [
        {
          "output_type": "execute_result",
          "data": {
            "text/plain": [
              "'2022'"
            ],
            "application/vnd.google.colaboratory.intrinsic+json": {
              "type": "string"
            }
          },
          "metadata": {},
          "execution_count": 13
        }
      ]
    },
    {
      "cell_type": "code",
      "source": [
        "#Resumen\n",
        "str(soup_t.find(class_ = \"simple-item-view-description\").find(\"div\").find_all(text=True, recursive=False)[0])"
      ],
      "metadata": {
        "colab": {
          "base_uri": "https://localhost:8080/",
          "height": 200
        },
        "id": "O00en9CUHqQw",
        "outputId": "e7bd8739-0f7a-4a9c-8f81-91dd1d74e40e"
      },
      "execution_count": 14,
      "outputs": [
        {
          "output_type": "execute_result",
          "data": {
            "text/plain": [
              "'Actualmente, la infraestructura pesquera artesanal en el país ignora toda relación con el entorno urbano en el que se emplaza. La investigación surge a partir de esta problemática además del cumplimiento de la Norma Sanitaria n°040, la cual estipula lineamientos para una mejor calidad del producto pesquero. Tras la revisión de los DPA’s (Desembarcaderos pesqueros artesanales) actualmente en ejecución/remodelación, se encuentra al DPA de Ilo como el más crítico ya que no cuenta con un área de expansión, posee una infraestructura deficiente y se encuentra en contacto directo con el casco urbano antiguo de la ciudad, desarrollando un importante desafío: la convivencia entre el programa funcional del DPA (flujos productivos pesqueros) y el desarrollo de actividades públicas en un mismo espacio. Con la intención de abrir el puerto hacia la ciudad, sin alterar los flujos productivos pesqueros, surge la idea de continuar recorridos públicos como los que se llevan a cabo en el malecón costero y calles aledañas. Además, se integra programa complementario como el comercio minorista y difusión cultural. Esta reestructuración de un nuevo modelo arquitectónico de desembarcadero pesquero artesanal para Ilo mejorará su relación puerto-ciudad y traerá consigo mayores beneficios económicos y sociales tanto para los pescadores como sus habitantes.'"
            ],
            "application/vnd.google.colaboratory.intrinsic+json": {
              "type": "string"
            }
          },
          "metadata": {},
          "execution_count": 14
        }
      ]
    },
    {
      "cell_type": "markdown",
      "source": [
        "## OBTENIENDO LA IFORMACIÓN DE TODAS LAS TESIS"
      ],
      "metadata": {
        "id": "Q6jcKNjQIvR1"
      }
    },
    {
      "cell_type": "code",
      "source": [
        "n = 3 #Número de páginas a scrapear\n",
        "lista_tesis = []\n",
        "for i in range(1,n+1):\n",
        "  url = f\"https://repositorio.ulima.edu.pe/discover?rpp=10&etal=0&scope=20.500.12724/1409&group_by=none&page={i}\"\n",
        "  resp = requests.get(url)\n",
        "  soup = BeautifulSoup(resp.text, \"html.parser\")\n",
        "  tesis = soup.find_all(class_=\"row ds-artifact-item \")\n",
        "  for div in tesis:\n",
        "    lista_tesis.append(\"https://repositorio.ulima.edu.pe/\"+f\"{div.find('a').get('href')}\")"
      ],
      "metadata": {
        "id": "L2QM7NvRIzaa"
      },
      "execution_count": 28,
      "outputs": []
    },
    {
      "cell_type": "code",
      "source": [
        "lista_tesis"
      ],
      "metadata": {
        "colab": {
          "base_uri": "https://localhost:8080/"
        },
        "id": "BCArPljTJWN-",
        "outputId": "1f2aa269-92df-4cda-c149-950c5d98c303"
      },
      "execution_count": 29,
      "outputs": [
        {
          "output_type": "execute_result",
          "data": {
            "text/plain": [
              "['https://repositorio.ulima.edu.pe//handle/20.500.12724/16321',\n",
              " 'https://repositorio.ulima.edu.pe//handle/20.500.12724/16334',\n",
              " 'https://repositorio.ulima.edu.pe//handle/20.500.12724/15986',\n",
              " 'https://repositorio.ulima.edu.pe//handle/20.500.12724/16306',\n",
              " 'https://repositorio.ulima.edu.pe//handle/20.500.12724/16267',\n",
              " 'https://repositorio.ulima.edu.pe//handle/20.500.12724/15791',\n",
              " 'https://repositorio.ulima.edu.pe//handle/20.500.12724/15631',\n",
              " 'https://repositorio.ulima.edu.pe//handle/20.500.12724/15579',\n",
              " 'https://repositorio.ulima.edu.pe//handle/20.500.12724/15610',\n",
              " 'https://repositorio.ulima.edu.pe//handle/20.500.12724/15636',\n",
              " 'https://repositorio.ulima.edu.pe//handle/20.500.12724/15639',\n",
              " 'https://repositorio.ulima.edu.pe//handle/20.500.12724/15830',\n",
              " 'https://repositorio.ulima.edu.pe//handle/20.500.12724/16463',\n",
              " 'https://repositorio.ulima.edu.pe//handle/20.500.12724/16495',\n",
              " 'https://repositorio.ulima.edu.pe//handle/20.500.12724/16482',\n",
              " 'https://repositorio.ulima.edu.pe//handle/20.500.12724/16455',\n",
              " 'https://repositorio.ulima.edu.pe//handle/20.500.12724/16509',\n",
              " 'https://repositorio.ulima.edu.pe//handle/20.500.12724/16475',\n",
              " 'https://repositorio.ulima.edu.pe//handle/20.500.12724/16479',\n",
              " 'https://repositorio.ulima.edu.pe//handle/20.500.12724/16458',\n",
              " 'https://repositorio.ulima.edu.pe//handle/20.500.12724/16175',\n",
              " 'https://repositorio.ulima.edu.pe//handle/20.500.12724/16145',\n",
              " 'https://repositorio.ulima.edu.pe//handle/20.500.12724/15792',\n",
              " 'https://repositorio.ulima.edu.pe//handle/20.500.12724/16323',\n",
              " 'https://repositorio.ulima.edu.pe//handle/20.500.12724/16225',\n",
              " 'https://repositorio.ulima.edu.pe//handle/20.500.12724/16328',\n",
              " 'https://repositorio.ulima.edu.pe//handle/20.500.12724/16343',\n",
              " 'https://repositorio.ulima.edu.pe//handle/20.500.12724/16350',\n",
              " 'https://repositorio.ulima.edu.pe//handle/20.500.12724/16330',\n",
              " 'https://repositorio.ulima.edu.pe//handle/20.500.12724/16327']"
            ]
          },
          "metadata": {},
          "execution_count": 29
        }
      ]
    },
    {
      "cell_type": "code",
      "source": [
        "import csv\n",
        "import re"
      ],
      "metadata": {
        "id": "ZlMThDAlJwUl"
      },
      "execution_count": 30,
      "outputs": []
    },
    {
      "cell_type": "code",
      "source": [
        "with open(\"Tesis.csv\", \"w\") as csv_file:\n",
        "    escritor = csv.writer(csv_file, delimiter=\",\")\n",
        "    escritor.writerow([\"Institución\",\"Título\",\"Autor\", \"Grado\", \"Asesor(es)\", \"Año\", \"Resumen\"])\n",
        "\n",
        "for i in lista_tesis:\n",
        "  resp_t = requests.get(i)\n",
        "  soup_t = BeautifulSoup(resp_t.text, \"html.parser\")\n",
        "\n",
        "  #Título\n",
        "  try:\n",
        "    titulo = soup_t.find(\"h2\").text\n",
        "  except:\n",
        "    titulo = \"\"\n",
        "\n",
        "  #Autor\n",
        "  try:\n",
        "    autor_m = []\n",
        "    a = soup_t.find_all(class_ = \"simple-item-view-authors\")[0].find_all(\"div\")\n",
        "    for autor in a:\n",
        "      autor_m.append(autor.text.strip(\"\\n\"))\n",
        "\n",
        "    \n",
        "    autor_f = \", \".join(autor_m)\n",
        "  except:\n",
        "    autor_f = \"\"\n",
        "\n",
        "  #Grado\n",
        "  try:\n",
        "    grado_m = soup_t.find_all(class_=\"simple-item-view-uri\")[1].text\n",
        "    grado = re.findall('\\[.*\\]', grado_m)[0].strip(\"[\").strip(\"]\")\n",
        "  except:\n",
        "    grado = \"\"\n",
        "\n",
        "  #Nombre del asesor(es)\n",
        "  try:\n",
        "    asesor = []\n",
        "    b = soup_t.find_all(class_ = \"simple-item-view-authors\")[1].find_all(\"div\")\n",
        "    for autor in b:\n",
        "      asesor.append(autor.text.strip(\"\\n\"))\n",
        "    asesor_f = \", \".join(asesor)\n",
        "  except:\n",
        "    asesor_f = \"\"\n",
        "\n",
        "  #Año\n",
        "  try:\n",
        "    año = str(soup_t.find(class_=\"simple-item-view-date\").find_all(text=True, recursive=False)[1])\n",
        "  except:\n",
        "    año = \"\"\n",
        "\n",
        "  #Resumen\n",
        "  try:\n",
        "    resumen = str(soup_t.find(class_ = \"simple-item-view-description\").find(\"div\").find_all(text=True, recursive=False)[0])\n",
        "  except:\n",
        "    resumen = \"\"\n",
        "\n",
        "  x = [\"Universidad de Lima\", titulo, autor_f, grado, asesor_f, año, resumen]\n",
        "  with open(\"Tesis.csv\", \"a\") as csv_file:\n",
        "    escritor = csv.writer(csv_file, delimiter=\",\")\n",
        "    escritor.writerow(x)"
      ],
      "metadata": {
        "id": "sD1L-h9eJ8AP"
      },
      "execution_count": 31,
      "outputs": []
    },
    {
      "cell_type": "markdown",
      "source": [
        "## VISUALIZANDO"
      ],
      "metadata": {
        "id": "76cjwl3WLXp-"
      }
    },
    {
      "cell_type": "code",
      "source": [
        "import pandas as pd"
      ],
      "metadata": {
        "id": "8UNopthKLXEt"
      },
      "execution_count": 32,
      "outputs": []
    },
    {
      "cell_type": "code",
      "source": [
        "pd = pd.read_csv(\"Tesis.csv\")\n",
        "pd "
      ],
      "metadata": {
        "colab": {
          "base_uri": "https://localhost:8080/",
          "height": 1000
        },
        "id": "tT0P2y6wLfbm",
        "outputId": "2540404b-0093-46c6-820d-dc088bc47ce1"
      },
      "execution_count": 33,
      "outputs": [
        {
          "output_type": "execute_result",
          "data": {
            "text/plain": [
              "            Institución                                             Título  \\\n",
              "0   Universidad de Lima  Reestructuración del desembarcadero pesquero a...   \n",
              "1   Universidad de Lima  Recursos personales y resiliencia en adolescen...   \n",
              "2   Universidad de Lima  Hogar integral multidisciplinario para el adul...   \n",
              "3   Universidad de Lima  Estudio de prefactibilidad para la instalación...   \n",
              "4   Universidad de Lima  Implementación de un sistema ERP en la empresa...   \n",
              "5   Universidad de Lima  Estudio de prefactibilidad para la instalación...   \n",
              "6   Universidad de Lima  Museo de la Cultura de Tarma: arquitectura par...   \n",
              "7   Universidad de Lima  Diseño de dispositivo de control de postura sa...   \n",
              "8   Universidad de Lima  Estudio de prefactibilidad para la instalación...   \n",
              "9   Universidad de Lima  Factores del estancamiento y mortalidad en las...   \n",
              "10  Universidad de Lima  Estudio de prefactibilidad para la instalación...   \n",
              "11  Universidad de Lima  Autoestima y desarrollo de trastornos de la co...   \n",
              "12  Universidad de Lima  Estudio de prefactibilidad para la implementac...   \n",
              "13  Universidad de Lima  Factores de éxito para la penetración de empre...   \n",
              "14  Universidad de Lima  La vida después de la muerte de los miembros d...   \n",
              "15  Universidad de Lima  Estudio de mejora para los indicadores de cump...   \n",
              "16  Universidad de Lima  Componente comunicacional de una etapa del pro...   \n",
              "17  Universidad de Lima  Propuesta creativa y plan de comunicaciones di...   \n",
              "18  Universidad de Lima  La comunicación interna en la mejora del clima...   \n",
              "19  Universidad de Lima  Informe de expediente civil 03372-2014-0-0401-...   \n",
              "20  Universidad de Lima  Negocio de reciclaje de botellas plásticas med...   \n",
              "21  Universidad de Lima  Análisis del impacto del COVID 19 en el compor...   \n",
              "22  Universidad de Lima  Estudio de prefactibilidad para la instalación...   \n",
              "23  Universidad de Lima  Estudio de prefactibilidad para la instalación...   \n",
              "24  Universidad de Lima  Estudio de prefactibilidad para la instalación...   \n",
              "25  Universidad de Lima  Adaptación y validación de la escala de consum...   \n",
              "26  Universidad de Lima  El empoderamiento estructural y su relación co...   \n",
              "27  Universidad de Lima         Campaña de lanzamiento de libre power pods   \n",
              "28  Universidad de Lima  Estudio de prefactibilidad para la instalación...   \n",
              "29  Universidad de Lima  Problemática del desconocimiento del crédito f...   \n",
              "\n",
              "                                                Autor  \\\n",
              "0   Cruz Falcon, Paul, Maldonado Fuentes, Maria An...   \n",
              "1         Diaz Sono, Valeria, Zagal Mendoza, Fiorella   \n",
              "2                              De La Flor Llona, Sara   \n",
              "3                    Contreras Flores, Fernando Samir   \n",
              "4                  Sinforoso Loayza, Manuel Francisco   \n",
              "5   Campos Armijo, Federico Alvaro, Combe Gutierre...   \n",
              "6                          Puente Breña, Danae Ximena   \n",
              "7                   Cusicanqui Espinoza, Sergio André   \n",
              "8   Barron Magot, Ana Elvira, Vasquez Quiros, Tito...   \n",
              "9   Hidalgo Vergara, Sebastián Martin, Xiao, Jianfeng   \n",
              "10  Diaz Asca, Jose Elias, Maire Espinoza, Roger G...   \n",
              "11                     Ames Tejada, Allison Elizabeth   \n",
              "12  Nuñez Anders, Fabrizio Sebastian, Salas Rodrig...   \n",
              "13  Beltran Chavez, Darleni Jessica Tamara, Farfan...   \n",
              "14  Sevilla Ferrari, Sebastian, Sosa Mendoza, Rosi...   \n",
              "15                    Rodriguez Rojas, Stephen Amadeo   \n",
              "16                     Chumpitaz Aguirre, Maria Sofia   \n",
              "17      Martínez de Pinillos Da Silva, Ivana Priscila   \n",
              "18                    Morales Mujica, Daniela Luciana   \n",
              "19                  Chunga Acosta, Luis Martin Miguel   \n",
              "20  Barycki Korytkowski, Hendryk Cheslavo, Soldi V...   \n",
              "21  Chang Kuoman, Josue Guillermo Cesar, Diaz Saav...   \n",
              "22  Machaca Cevallos, Estefany Cristina, Cabrera S...   \n",
              "23  Figueroa Pacheco, Lorena, Parra Bocanegra, Ste...   \n",
              "24  Trujillo Barthe, Victor Daniel, Valladolid Par...   \n",
              "25                       Cilich Flores, Ian Wenceslao   \n",
              "26                   Huaringa Cardenas, Mayra Silvana   \n",
              "27  Soto Gomez, Claudia Isabel, Torres Breña, Mica...   \n",
              "28  Espichán Avila, Pablo César, Veliz Mendoza, Lu...   \n",
              "29              Gonzalez Bisso, Alfredo Carlos Miguel   \n",
              "\n",
              "                                                Grado  \\\n",
              "0   Trabajo de suficiencia profesional para optar ...   \n",
              "1   Tesis para optar el Título Profesional de Lice...   \n",
              "2   Trabajo de suficiencia profesional para optar ...   \n",
              "3   Tesis para optar el Título Profesional de Inge...   \n",
              "4   Trabajo de suficiencia profesional para optar ...   \n",
              "5   Tesis para optar el Título Profesional de Inge...   \n",
              "6   Trabajo de suficiencia profesional para optar ...   \n",
              "7   Tesis para optar el Título Profesional de Inge...   \n",
              "8   Tesis para optar el Título Profesional de Inge...   \n",
              "9   Tesis para optar el título profesional de Lice...   \n",
              "10  Tesis para optar el Título Profesional de Inge...   \n",
              "11  Trabajo de suficiencia profesional para optar ...   \n",
              "12  Tesis para optar el Título Profesional de Inge...   \n",
              "13  Tesis para optar el Título Profesional de Lice...   \n",
              "14  Tesis para optar el Título Profesional de Lice...   \n",
              "15  Trabajo de suficiencia profesional para optar ...   \n",
              "16  Trabajo de suficiencia profesional para optar ...   \n",
              "17  Trabajo de suficiencia profesional para optar ...   \n",
              "18  Trabajo de suficiencia profesional para optar ...   \n",
              "19  Trabajo de suficiencia profesional para optar ...   \n",
              "20  Trabajo de investigación para optar el grado a...   \n",
              "21  Tesis para optar el título profesional de Lice...   \n",
              "22  Tesis para optar el Título Profesional de Inge...   \n",
              "23  Tesis para optar el Título Profesional de Inge...   \n",
              "24  Tesis para optar el Título Profesional de Inge...   \n",
              "25  Tesis para optar el Título Profesional de Lice...   \n",
              "26  Tesis para optar el título profesional de Lice...   \n",
              "27  Trabajo de suficiencia profesional para optar ...   \n",
              "28  Tesis para optar el Título Profesional de Inge...   \n",
              "29  Trabajo de Investigación para optar el Grado A...   \n",
              "\n",
              "                                Asesor(es)   Año  \\\n",
              "0                   Takano Valdivia, Karen  2022   \n",
              "1                     Lindo Bárcena, Paola  2022   \n",
              "2                      More Gómez, Valerie  2022   \n",
              "3        Bonilla Pastor de Céspedes, Elsie  2022   \n",
              "4            Ahoki Pajuelo, Carlos Augusto  2022   \n",
              "5          Reaño Vera, Abel Antonio Martin  2022   \n",
              "6       Montestruque Bisso, Octavio Adolfo  2022   \n",
              "7            Santos Figueroa, Luis Enrique  2022   \n",
              "8                Almandoz Nuñez, Ana Maria  2022   \n",
              "9          Barnett Valdivia, Neptali Jesús  2022   \n",
              "10               Almandoz Nuñez, Ana Maria  2022   \n",
              "11                 Camino Rivera, Carolina  2022   \n",
              "12             Rojas Iriarte, Juan Enrique  2022   \n",
              "13          Ayala Chacaltana, Pedro Damian  2022   \n",
              "14               García Contto, José David  2022   \n",
              "15            Zaldívar Peña, Doris Adriana  2022   \n",
              "16   Herrera Santamaría, Rodolfo Alejandro  2022   \n",
              "17        Quiroz Figuerola, Carlos Gustavo  2022   \n",
              "18  Sheen Merino, Blanca María del Rosario  2022   \n",
              "19                                     NaN  2022   \n",
              "20    Del Solar Vergara, Eduardo Alejandro  2022   \n",
              "21              Huaynate Mato, Edwin David  2022   \n",
              "22             Corzo Chávez, Jorge Antonio  2022   \n",
              "23     León Gambetta Martín Arranz, Álvaro  2022   \n",
              "24              Yácono Llanos, Juan Carlos  2022   \n",
              "25              Burga León, Andrés Alberto  2022   \n",
              "26       Noriega Alvitres, Isabel Cristina  2022   \n",
              "27                                     NaN  2022   \n",
              "28                 Ugarte Gómez, José Luis  2022   \n",
              "29                   Ninuma Aida, Nathalie  2022   \n",
              "\n",
              "                                              Resumen  \n",
              "0   Actualmente, la infraestructura pesquera artes...  \n",
              "1   El presente estudio tiene como objetivos gener...  \n",
              "2   Esta investigación se basa en entender la situ...  \n",
              "3   The main objective of the project is to determ...  \n",
              "4   En el presente trabajo se detalla la mejora qu...  \n",
              "5   El presente trabajo consiste en un estudio de ...  \n",
              "6   El Museo de la Cultura de Tarma es un proyecto...  \n",
              "7   El presente trabajo de investigación tiene com...  \n",
              "8   Este proyecto consiste en la comercialización ...  \n",
              "9   La siguiente investigación tiene objetivo dete...  \n",
              "10  La presente es un estudio de prefactibilidad p...  \n",
              "11  Los TCA son enfermedades mentales de gran rele...  \n",
              "12  Para el presente proyecto de investigación se ...  \n",
              "13  El mercado de salsas picantes ha mostrado un g...  \n",
              "14  El presente trabajo tiene como objetivo compar...  \n",
              "15  El presente proyecto profesional se desarrolla...  \n",
              "16  Liderar el componente comunicacional de una et...  \n",
              "17  En este informe se presenta la propuesta creat...  \n",
              "18  El presente proyecto profesional describe el t...  \n",
              "19  Materia: Declaración Judicial como Accionista ...  \n",
              "20  La tesis propuesta pretende ilustrar la implem...  \n",
              "21  La presente investigación propone demostrar la...  \n",
              "22  El principal objetivo de este proyecto es dete...  \n",
              "23  El presente proyecto tiene como finalidad demo...  \n",
              "24  El presente estudio preliminar tiene con final...  \n",
              "25  El consumo de pornografía se relaciona con una...  \n",
              "26  El objetivo del estudio es determinar si exist...  \n",
              "27  Este informe se centra en una campaña de lanza...  \n",
              "28  La investigación evalúa la viabilidad de una i...  \n",
              "29  En el presente trabajo de investigación se ana...  "
            ],
            "text/html": [
              "\n",
              "  <div id=\"df-03989efa-a011-4e70-9a60-ae7bad1d91d1\">\n",
              "    <div class=\"colab-df-container\">\n",
              "      <div>\n",
              "<style scoped>\n",
              "    .dataframe tbody tr th:only-of-type {\n",
              "        vertical-align: middle;\n",
              "    }\n",
              "\n",
              "    .dataframe tbody tr th {\n",
              "        vertical-align: top;\n",
              "    }\n",
              "\n",
              "    .dataframe thead th {\n",
              "        text-align: right;\n",
              "    }\n",
              "</style>\n",
              "<table border=\"1\" class=\"dataframe\">\n",
              "  <thead>\n",
              "    <tr style=\"text-align: right;\">\n",
              "      <th></th>\n",
              "      <th>Institución</th>\n",
              "      <th>Título</th>\n",
              "      <th>Autor</th>\n",
              "      <th>Grado</th>\n",
              "      <th>Asesor(es)</th>\n",
              "      <th>Año</th>\n",
              "      <th>Resumen</th>\n",
              "    </tr>\n",
              "  </thead>\n",
              "  <tbody>\n",
              "    <tr>\n",
              "      <th>0</th>\n",
              "      <td>Universidad de Lima</td>\n",
              "      <td>Reestructuración del desembarcadero pesquero a...</td>\n",
              "      <td>Cruz Falcon, Paul, Maldonado Fuentes, Maria An...</td>\n",
              "      <td>Trabajo de suficiencia profesional para optar ...</td>\n",
              "      <td>Takano Valdivia, Karen</td>\n",
              "      <td>2022</td>\n",
              "      <td>Actualmente, la infraestructura pesquera artes...</td>\n",
              "    </tr>\n",
              "    <tr>\n",
              "      <th>1</th>\n",
              "      <td>Universidad de Lima</td>\n",
              "      <td>Recursos personales y resiliencia en adolescen...</td>\n",
              "      <td>Diaz Sono, Valeria, Zagal Mendoza, Fiorella</td>\n",
              "      <td>Tesis para optar el Título Profesional de Lice...</td>\n",
              "      <td>Lindo Bárcena, Paola</td>\n",
              "      <td>2022</td>\n",
              "      <td>El presente estudio tiene como objetivos gener...</td>\n",
              "    </tr>\n",
              "    <tr>\n",
              "      <th>2</th>\n",
              "      <td>Universidad de Lima</td>\n",
              "      <td>Hogar integral multidisciplinario para el adul...</td>\n",
              "      <td>De La Flor Llona, Sara</td>\n",
              "      <td>Trabajo de suficiencia profesional para optar ...</td>\n",
              "      <td>More Gómez, Valerie</td>\n",
              "      <td>2022</td>\n",
              "      <td>Esta investigación se basa en entender la situ...</td>\n",
              "    </tr>\n",
              "    <tr>\n",
              "      <th>3</th>\n",
              "      <td>Universidad de Lima</td>\n",
              "      <td>Estudio de prefactibilidad para la instalación...</td>\n",
              "      <td>Contreras Flores, Fernando Samir</td>\n",
              "      <td>Tesis para optar el Título Profesional de Inge...</td>\n",
              "      <td>Bonilla Pastor de Céspedes, Elsie</td>\n",
              "      <td>2022</td>\n",
              "      <td>The main objective of the project is to determ...</td>\n",
              "    </tr>\n",
              "    <tr>\n",
              "      <th>4</th>\n",
              "      <td>Universidad de Lima</td>\n",
              "      <td>Implementación de un sistema ERP en la empresa...</td>\n",
              "      <td>Sinforoso Loayza, Manuel Francisco</td>\n",
              "      <td>Trabajo de suficiencia profesional para optar ...</td>\n",
              "      <td>Ahoki Pajuelo, Carlos Augusto</td>\n",
              "      <td>2022</td>\n",
              "      <td>En el presente trabajo se detalla la mejora qu...</td>\n",
              "    </tr>\n",
              "    <tr>\n",
              "      <th>5</th>\n",
              "      <td>Universidad de Lima</td>\n",
              "      <td>Estudio de prefactibilidad para la instalación...</td>\n",
              "      <td>Campos Armijo, Federico Alvaro, Combe Gutierre...</td>\n",
              "      <td>Tesis para optar el Título Profesional de Inge...</td>\n",
              "      <td>Reaño Vera, Abel Antonio Martin</td>\n",
              "      <td>2022</td>\n",
              "      <td>El presente trabajo consiste en un estudio de ...</td>\n",
              "    </tr>\n",
              "    <tr>\n",
              "      <th>6</th>\n",
              "      <td>Universidad de Lima</td>\n",
              "      <td>Museo de la Cultura de Tarma: arquitectura par...</td>\n",
              "      <td>Puente Breña, Danae Ximena</td>\n",
              "      <td>Trabajo de suficiencia profesional para optar ...</td>\n",
              "      <td>Montestruque Bisso, Octavio Adolfo</td>\n",
              "      <td>2022</td>\n",
              "      <td>El Museo de la Cultura de Tarma es un proyecto...</td>\n",
              "    </tr>\n",
              "    <tr>\n",
              "      <th>7</th>\n",
              "      <td>Universidad de Lima</td>\n",
              "      <td>Diseño de dispositivo de control de postura sa...</td>\n",
              "      <td>Cusicanqui Espinoza, Sergio André</td>\n",
              "      <td>Tesis para optar el Título Profesional de Inge...</td>\n",
              "      <td>Santos Figueroa, Luis Enrique</td>\n",
              "      <td>2022</td>\n",
              "      <td>El presente trabajo de investigación tiene com...</td>\n",
              "    </tr>\n",
              "    <tr>\n",
              "      <th>8</th>\n",
              "      <td>Universidad de Lima</td>\n",
              "      <td>Estudio de prefactibilidad para la instalación...</td>\n",
              "      <td>Barron Magot, Ana Elvira, Vasquez Quiros, Tito...</td>\n",
              "      <td>Tesis para optar el Título Profesional de Inge...</td>\n",
              "      <td>Almandoz Nuñez, Ana Maria</td>\n",
              "      <td>2022</td>\n",
              "      <td>Este proyecto consiste en la comercialización ...</td>\n",
              "    </tr>\n",
              "    <tr>\n",
              "      <th>9</th>\n",
              "      <td>Universidad de Lima</td>\n",
              "      <td>Factores del estancamiento y mortalidad en las...</td>\n",
              "      <td>Hidalgo Vergara, Sebastián Martin, Xiao, Jianfeng</td>\n",
              "      <td>Tesis para optar el título profesional de Lice...</td>\n",
              "      <td>Barnett Valdivia, Neptali Jesús</td>\n",
              "      <td>2022</td>\n",
              "      <td>La siguiente investigación tiene objetivo dete...</td>\n",
              "    </tr>\n",
              "    <tr>\n",
              "      <th>10</th>\n",
              "      <td>Universidad de Lima</td>\n",
              "      <td>Estudio de prefactibilidad para la instalación...</td>\n",
              "      <td>Diaz Asca, Jose Elias, Maire Espinoza, Roger G...</td>\n",
              "      <td>Tesis para optar el Título Profesional de Inge...</td>\n",
              "      <td>Almandoz Nuñez, Ana Maria</td>\n",
              "      <td>2022</td>\n",
              "      <td>La presente es un estudio de prefactibilidad p...</td>\n",
              "    </tr>\n",
              "    <tr>\n",
              "      <th>11</th>\n",
              "      <td>Universidad de Lima</td>\n",
              "      <td>Autoestima y desarrollo de trastornos de la co...</td>\n",
              "      <td>Ames Tejada, Allison Elizabeth</td>\n",
              "      <td>Trabajo de suficiencia profesional para optar ...</td>\n",
              "      <td>Camino Rivera, Carolina</td>\n",
              "      <td>2022</td>\n",
              "      <td>Los TCA son enfermedades mentales de gran rele...</td>\n",
              "    </tr>\n",
              "    <tr>\n",
              "      <th>12</th>\n",
              "      <td>Universidad de Lima</td>\n",
              "      <td>Estudio de prefactibilidad para la implementac...</td>\n",
              "      <td>Nuñez Anders, Fabrizio Sebastian, Salas Rodrig...</td>\n",
              "      <td>Tesis para optar el Título Profesional de Inge...</td>\n",
              "      <td>Rojas Iriarte, Juan Enrique</td>\n",
              "      <td>2022</td>\n",
              "      <td>Para el presente proyecto de investigación se ...</td>\n",
              "    </tr>\n",
              "    <tr>\n",
              "      <th>13</th>\n",
              "      <td>Universidad de Lima</td>\n",
              "      <td>Factores de éxito para la penetración de empre...</td>\n",
              "      <td>Beltran Chavez, Darleni Jessica Tamara, Farfan...</td>\n",
              "      <td>Tesis para optar el Título Profesional de Lice...</td>\n",
              "      <td>Ayala Chacaltana, Pedro Damian</td>\n",
              "      <td>2022</td>\n",
              "      <td>El mercado de salsas picantes ha mostrado un g...</td>\n",
              "    </tr>\n",
              "    <tr>\n",
              "      <th>14</th>\n",
              "      <td>Universidad de Lima</td>\n",
              "      <td>La vida después de la muerte de los miembros d...</td>\n",
              "      <td>Sevilla Ferrari, Sebastian, Sosa Mendoza, Rosi...</td>\n",
              "      <td>Tesis para optar el Título Profesional de Lice...</td>\n",
              "      <td>García Contto, José David</td>\n",
              "      <td>2022</td>\n",
              "      <td>El presente trabajo tiene como objetivo compar...</td>\n",
              "    </tr>\n",
              "    <tr>\n",
              "      <th>15</th>\n",
              "      <td>Universidad de Lima</td>\n",
              "      <td>Estudio de mejora para los indicadores de cump...</td>\n",
              "      <td>Rodriguez Rojas, Stephen Amadeo</td>\n",
              "      <td>Trabajo de suficiencia profesional para optar ...</td>\n",
              "      <td>Zaldívar Peña, Doris Adriana</td>\n",
              "      <td>2022</td>\n",
              "      <td>El presente proyecto profesional se desarrolla...</td>\n",
              "    </tr>\n",
              "    <tr>\n",
              "      <th>16</th>\n",
              "      <td>Universidad de Lima</td>\n",
              "      <td>Componente comunicacional de una etapa del pro...</td>\n",
              "      <td>Chumpitaz Aguirre, Maria Sofia</td>\n",
              "      <td>Trabajo de suficiencia profesional para optar ...</td>\n",
              "      <td>Herrera Santamaría, Rodolfo Alejandro</td>\n",
              "      <td>2022</td>\n",
              "      <td>Liderar el componente comunicacional de una et...</td>\n",
              "    </tr>\n",
              "    <tr>\n",
              "      <th>17</th>\n",
              "      <td>Universidad de Lima</td>\n",
              "      <td>Propuesta creativa y plan de comunicaciones di...</td>\n",
              "      <td>Martínez de Pinillos Da Silva, Ivana Priscila</td>\n",
              "      <td>Trabajo de suficiencia profesional para optar ...</td>\n",
              "      <td>Quiroz Figuerola, Carlos Gustavo</td>\n",
              "      <td>2022</td>\n",
              "      <td>En este informe se presenta la propuesta creat...</td>\n",
              "    </tr>\n",
              "    <tr>\n",
              "      <th>18</th>\n",
              "      <td>Universidad de Lima</td>\n",
              "      <td>La comunicación interna en la mejora del clima...</td>\n",
              "      <td>Morales Mujica, Daniela Luciana</td>\n",
              "      <td>Trabajo de suficiencia profesional para optar ...</td>\n",
              "      <td>Sheen Merino, Blanca María del Rosario</td>\n",
              "      <td>2022</td>\n",
              "      <td>El presente proyecto profesional describe el t...</td>\n",
              "    </tr>\n",
              "    <tr>\n",
              "      <th>19</th>\n",
              "      <td>Universidad de Lima</td>\n",
              "      <td>Informe de expediente civil 03372-2014-0-0401-...</td>\n",
              "      <td>Chunga Acosta, Luis Martin Miguel</td>\n",
              "      <td>Trabajo de suficiencia profesional para optar ...</td>\n",
              "      <td>NaN</td>\n",
              "      <td>2022</td>\n",
              "      <td>Materia: Declaración Judicial como Accionista ...</td>\n",
              "    </tr>\n",
              "    <tr>\n",
              "      <th>20</th>\n",
              "      <td>Universidad de Lima</td>\n",
              "      <td>Negocio de reciclaje de botellas plásticas med...</td>\n",
              "      <td>Barycki Korytkowski, Hendryk Cheslavo, Soldi V...</td>\n",
              "      <td>Trabajo de investigación para optar el grado a...</td>\n",
              "      <td>Del Solar Vergara, Eduardo Alejandro</td>\n",
              "      <td>2022</td>\n",
              "      <td>La tesis propuesta pretende ilustrar la implem...</td>\n",
              "    </tr>\n",
              "    <tr>\n",
              "      <th>21</th>\n",
              "      <td>Universidad de Lima</td>\n",
              "      <td>Análisis del impacto del COVID 19 en el compor...</td>\n",
              "      <td>Chang Kuoman, Josue Guillermo Cesar, Diaz Saav...</td>\n",
              "      <td>Tesis para optar el título profesional de Lice...</td>\n",
              "      <td>Huaynate Mato, Edwin David</td>\n",
              "      <td>2022</td>\n",
              "      <td>La presente investigación propone demostrar la...</td>\n",
              "    </tr>\n",
              "    <tr>\n",
              "      <th>22</th>\n",
              "      <td>Universidad de Lima</td>\n",
              "      <td>Estudio de prefactibilidad para la instalación...</td>\n",
              "      <td>Machaca Cevallos, Estefany Cristina, Cabrera S...</td>\n",
              "      <td>Tesis para optar el Título Profesional de Inge...</td>\n",
              "      <td>Corzo Chávez, Jorge Antonio</td>\n",
              "      <td>2022</td>\n",
              "      <td>El principal objetivo de este proyecto es dete...</td>\n",
              "    </tr>\n",
              "    <tr>\n",
              "      <th>23</th>\n",
              "      <td>Universidad de Lima</td>\n",
              "      <td>Estudio de prefactibilidad para la instalación...</td>\n",
              "      <td>Figueroa Pacheco, Lorena, Parra Bocanegra, Ste...</td>\n",
              "      <td>Tesis para optar el Título Profesional de Inge...</td>\n",
              "      <td>León Gambetta Martín Arranz, Álvaro</td>\n",
              "      <td>2022</td>\n",
              "      <td>El presente proyecto tiene como finalidad demo...</td>\n",
              "    </tr>\n",
              "    <tr>\n",
              "      <th>24</th>\n",
              "      <td>Universidad de Lima</td>\n",
              "      <td>Estudio de prefactibilidad para la instalación...</td>\n",
              "      <td>Trujillo Barthe, Victor Daniel, Valladolid Par...</td>\n",
              "      <td>Tesis para optar el Título Profesional de Inge...</td>\n",
              "      <td>Yácono Llanos, Juan Carlos</td>\n",
              "      <td>2022</td>\n",
              "      <td>El presente estudio preliminar tiene con final...</td>\n",
              "    </tr>\n",
              "    <tr>\n",
              "      <th>25</th>\n",
              "      <td>Universidad de Lima</td>\n",
              "      <td>Adaptación y validación de la escala de consum...</td>\n",
              "      <td>Cilich Flores, Ian Wenceslao</td>\n",
              "      <td>Tesis para optar el Título Profesional de Lice...</td>\n",
              "      <td>Burga León, Andrés Alberto</td>\n",
              "      <td>2022</td>\n",
              "      <td>El consumo de pornografía se relaciona con una...</td>\n",
              "    </tr>\n",
              "    <tr>\n",
              "      <th>26</th>\n",
              "      <td>Universidad de Lima</td>\n",
              "      <td>El empoderamiento estructural y su relación co...</td>\n",
              "      <td>Huaringa Cardenas, Mayra Silvana</td>\n",
              "      <td>Tesis para optar el título profesional de Lice...</td>\n",
              "      <td>Noriega Alvitres, Isabel Cristina</td>\n",
              "      <td>2022</td>\n",
              "      <td>El objetivo del estudio es determinar si exist...</td>\n",
              "    </tr>\n",
              "    <tr>\n",
              "      <th>27</th>\n",
              "      <td>Universidad de Lima</td>\n",
              "      <td>Campaña de lanzamiento de libre power pods</td>\n",
              "      <td>Soto Gomez, Claudia Isabel, Torres Breña, Mica...</td>\n",
              "      <td>Trabajo de suficiencia profesional para optar ...</td>\n",
              "      <td>NaN</td>\n",
              "      <td>2022</td>\n",
              "      <td>Este informe se centra en una campaña de lanza...</td>\n",
              "    </tr>\n",
              "    <tr>\n",
              "      <th>28</th>\n",
              "      <td>Universidad de Lima</td>\n",
              "      <td>Estudio de prefactibilidad para la instalación...</td>\n",
              "      <td>Espichán Avila, Pablo César, Veliz Mendoza, Lu...</td>\n",
              "      <td>Tesis para optar el Título Profesional de Inge...</td>\n",
              "      <td>Ugarte Gómez, José Luis</td>\n",
              "      <td>2022</td>\n",
              "      <td>La investigación evalúa la viabilidad de una i...</td>\n",
              "    </tr>\n",
              "    <tr>\n",
              "      <th>29</th>\n",
              "      <td>Universidad de Lima</td>\n",
              "      <td>Problemática del desconocimiento del crédito f...</td>\n",
              "      <td>Gonzalez Bisso, Alfredo Carlos Miguel</td>\n",
              "      <td>Trabajo de Investigación para optar el Grado A...</td>\n",
              "      <td>Ninuma Aida, Nathalie</td>\n",
              "      <td>2022</td>\n",
              "      <td>En el presente trabajo de investigación se ana...</td>\n",
              "    </tr>\n",
              "  </tbody>\n",
              "</table>\n",
              "</div>\n",
              "      <button class=\"colab-df-convert\" onclick=\"convertToInteractive('df-03989efa-a011-4e70-9a60-ae7bad1d91d1')\"\n",
              "              title=\"Convert this dataframe to an interactive table.\"\n",
              "              style=\"display:none;\">\n",
              "        \n",
              "  <svg xmlns=\"http://www.w3.org/2000/svg\" height=\"24px\"viewBox=\"0 0 24 24\"\n",
              "       width=\"24px\">\n",
              "    <path d=\"M0 0h24v24H0V0z\" fill=\"none\"/>\n",
              "    <path d=\"M18.56 5.44l.94 2.06.94-2.06 2.06-.94-2.06-.94-.94-2.06-.94 2.06-2.06.94zm-11 1L8.5 8.5l.94-2.06 2.06-.94-2.06-.94L8.5 2.5l-.94 2.06-2.06.94zm10 10l.94 2.06.94-2.06 2.06-.94-2.06-.94-.94-2.06-.94 2.06-2.06.94z\"/><path d=\"M17.41 7.96l-1.37-1.37c-.4-.4-.92-.59-1.43-.59-.52 0-1.04.2-1.43.59L10.3 9.45l-7.72 7.72c-.78.78-.78 2.05 0 2.83L4 21.41c.39.39.9.59 1.41.59.51 0 1.02-.2 1.41-.59l7.78-7.78 2.81-2.81c.8-.78.8-2.07 0-2.86zM5.41 20L4 18.59l7.72-7.72 1.47 1.35L5.41 20z\"/>\n",
              "  </svg>\n",
              "      </button>\n",
              "      \n",
              "  <style>\n",
              "    .colab-df-container {\n",
              "      display:flex;\n",
              "      flex-wrap:wrap;\n",
              "      gap: 12px;\n",
              "    }\n",
              "\n",
              "    .colab-df-convert {\n",
              "      background-color: #E8F0FE;\n",
              "      border: none;\n",
              "      border-radius: 50%;\n",
              "      cursor: pointer;\n",
              "      display: none;\n",
              "      fill: #1967D2;\n",
              "      height: 32px;\n",
              "      padding: 0 0 0 0;\n",
              "      width: 32px;\n",
              "    }\n",
              "\n",
              "    .colab-df-convert:hover {\n",
              "      background-color: #E2EBFA;\n",
              "      box-shadow: 0px 1px 2px rgba(60, 64, 67, 0.3), 0px 1px 3px 1px rgba(60, 64, 67, 0.15);\n",
              "      fill: #174EA6;\n",
              "    }\n",
              "\n",
              "    [theme=dark] .colab-df-convert {\n",
              "      background-color: #3B4455;\n",
              "      fill: #D2E3FC;\n",
              "    }\n",
              "\n",
              "    [theme=dark] .colab-df-convert:hover {\n",
              "      background-color: #434B5C;\n",
              "      box-shadow: 0px 1px 3px 1px rgba(0, 0, 0, 0.15);\n",
              "      filter: drop-shadow(0px 1px 2px rgba(0, 0, 0, 0.3));\n",
              "      fill: #FFFFFF;\n",
              "    }\n",
              "  </style>\n",
              "\n",
              "      <script>\n",
              "        const buttonEl =\n",
              "          document.querySelector('#df-03989efa-a011-4e70-9a60-ae7bad1d91d1 button.colab-df-convert');\n",
              "        buttonEl.style.display =\n",
              "          google.colab.kernel.accessAllowed ? 'block' : 'none';\n",
              "\n",
              "        async function convertToInteractive(key) {\n",
              "          const element = document.querySelector('#df-03989efa-a011-4e70-9a60-ae7bad1d91d1');\n",
              "          const dataTable =\n",
              "            await google.colab.kernel.invokeFunction('convertToInteractive',\n",
              "                                                     [key], {});\n",
              "          if (!dataTable) return;\n",
              "\n",
              "          const docLinkHtml = 'Like what you see? Visit the ' +\n",
              "            '<a target=\"_blank\" href=https://colab.research.google.com/notebooks/data_table.ipynb>data table notebook</a>'\n",
              "            + ' to learn more about interactive tables.';\n",
              "          element.innerHTML = '';\n",
              "          dataTable['output_type'] = 'display_data';\n",
              "          await google.colab.output.renderOutput(dataTable, element);\n",
              "          const docLink = document.createElement('div');\n",
              "          docLink.innerHTML = docLinkHtml;\n",
              "          element.appendChild(docLink);\n",
              "        }\n",
              "      </script>\n",
              "    </div>\n",
              "  </div>\n",
              "  "
            ]
          },
          "metadata": {},
          "execution_count": 33
        }
      ]
    },
    {
      "cell_type": "markdown",
      "source": [
        "---"
      ],
      "metadata": {
        "id": "ruCLPW3dgD7n"
      }
    },
    {
      "cell_type": "markdown",
      "source": [
        "## Extras:"
      ],
      "metadata": {
        "id": "sgiglbnhgFBQ"
      }
    },
    {
      "cell_type": "code",
      "source": [
        "#Probando el código para obtener el autor en otras tesis:\n",
        "resp_t = requests.get(\"https://repositorio.ulima.edu.pe//handle/20.500.12724/16321\")\n",
        "soup_t = BeautifulSoup(resp_t.text, \"html.parser\")\n",
        "autor_m = []\n",
        "a = soup_t.find_all(class_ = \"simple-item-view-authors\")[0].find_all(\"div\")\n",
        "for autor in a:\n",
        "  autor_m.append(autor.text.strip(\"\\n\"))\n",
        "\n",
        "autor_m"
      ],
      "metadata": {
        "colab": {
          "base_uri": "https://localhost:8080/"
        },
        "id": "pPvLVHcIgDcX",
        "outputId": "f8744fc8-fca3-48de-8793-3e6ac4ed8634"
      },
      "execution_count": 18,
      "outputs": [
        {
          "output_type": "execute_result",
          "data": {
            "text/plain": [
              "['Cruz Falcon, Paul', 'Maldonado Fuentes, Maria Angela']"
            ]
          },
          "metadata": {},
          "execution_count": 18
        }
      ]
    }
  ]
}