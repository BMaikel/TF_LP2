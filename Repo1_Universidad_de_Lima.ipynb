{
  "nbformat": 4,
  "nbformat_minor": 0,
  "metadata": {
    "colab": {
      "provenance": []
    },
    "kernelspec": {
      "name": "python3",
      "display_name": "Python 3"
    },
    "language_info": {
      "name": "python"
    }
  },
  "cells": [
    {
      "cell_type": "markdown",
      "source": [
        "# UNIVERSIDAD DE LIMA"
      ],
      "metadata": {
        "id": "Ss2Q58c_BOV0"
      }
    },
    {
      "cell_type": "markdown",
      "source": [
        "## OBTENIENDO LOS ENLACES A LAS TESIS"
      ],
      "metadata": {
        "id": "jCiz10xGBUCv"
      }
    },
    {
      "cell_type": "code",
      "execution_count": null,
      "metadata": {
        "id": "uy5KNEox-KUj"
      },
      "outputs": [],
      "source": [
        "uni = \"Universidad de Lima\"\n",
        "link = \"https://repositorio.ulima.edu.pe/discover?rpp=10&etal=0&scope=20.500.12724/1409&group_by=none&page=1\""
      ]
    },
    {
      "cell_type": "code",
      "source": [
        "import requests\n",
        "from bs4 import BeautifulSoup"
      ],
      "metadata": {
        "id": "ibFQpyGx-VIn"
      },
      "execution_count": 3,
      "outputs": []
    },
    {
      "cell_type": "code",
      "source": [
        "rpt = requests.get(link)"
      ],
      "metadata": {
        "id": "53VxGbJy-cZ3"
      },
      "execution_count": null,
      "outputs": []
    },
    {
      "cell_type": "code",
      "source": [
        "soup = BeautifulSoup(rpt.text, \"html.parser\")"
      ],
      "metadata": {
        "id": "6Ge286LX-mWy"
      },
      "execution_count": null,
      "outputs": []
    },
    {
      "cell_type": "code",
      "source": [
        "tesis = soup.find_all(class_=\"row ds-artifact-item \")"
      ],
      "metadata": {
        "id": "WudWTTsb-9Rv"
      },
      "execution_count": null,
      "outputs": []
    },
    {
      "cell_type": "code",
      "source": [
        "lista_tesis = []\n",
        "for div in tesis:\n",
        "  lista_tesis.append(\"https://repositorio.ulima.edu.pe/\"+f\"{div.find('a').get('href')}\")"
      ],
      "metadata": {
        "id": "NmO8xACv_ryq"
      },
      "execution_count": null,
      "outputs": []
    },
    {
      "cell_type": "code",
      "source": [
        "lista_tesis"
      ],
      "metadata": {
        "colab": {
          "base_uri": "https://localhost:8080/"
        },
        "id": "hG14mV33A5Kl",
        "outputId": "40acd5e6-1a58-48a1-9303-0ba8e76e9c72"
      },
      "execution_count": null,
      "outputs": [
        {
          "output_type": "execute_result",
          "data": {
            "text/plain": [
              "['https://repositorio.ulima.edu.pe//handle/20.500.12724/16321',\n",
              " 'https://repositorio.ulima.edu.pe//handle/20.500.12724/16334',\n",
              " 'https://repositorio.ulima.edu.pe//handle/20.500.12724/15986',\n",
              " 'https://repositorio.ulima.edu.pe//handle/20.500.12724/16306',\n",
              " 'https://repositorio.ulima.edu.pe//handle/20.500.12724/16267',\n",
              " 'https://repositorio.ulima.edu.pe//handle/20.500.12724/15791',\n",
              " 'https://repositorio.ulima.edu.pe//handle/20.500.12724/15631',\n",
              " 'https://repositorio.ulima.edu.pe//handle/20.500.12724/15579',\n",
              " 'https://repositorio.ulima.edu.pe//handle/20.500.12724/15610',\n",
              " 'https://repositorio.ulima.edu.pe//handle/20.500.12724/15636']"
            ]
          },
          "metadata": {},
          "execution_count": 7
        }
      ]
    },
    {
      "cell_type": "markdown",
      "source": [
        "## OBTENIENDO LA INFORMACIÓN DE UNA TESIS"
      ],
      "metadata": {
        "id": "4LLUxefoBam9"
      }
    },
    {
      "cell_type": "code",
      "source": [
        "link_tesis = \"https://repositorio.ulima.edu.pe//handle/20.500.12724/16321\"\n",
        "resp_t = requests.get(link_tesis)\n",
        "soup_t = BeautifulSoup(resp_t.text, \"html.parser\")"
      ],
      "metadata": {
        "id": "nOfAJUNoBNLh"
      },
      "execution_count": 4,
      "outputs": []
    },
    {
      "cell_type": "code",
      "source": [
        "#Obteniendo el título\n",
        "soup_t.find(\"h2\").text"
      ],
      "metadata": {
        "colab": {
          "base_uri": "https://localhost:8080/",
          "height": 36
        },
        "id": "3l0mxEmYB5Ol",
        "outputId": "2aa36b3a-d6fe-44e7-fca4-42ea7d184e25"
      },
      "execution_count": 20,
      "outputs": [
        {
          "output_type": "execute_result",
          "data": {
            "text/plain": [
              "'Reestructuración del desembarcadero pesquero artesanal de Ilo'"
            ],
            "application/vnd.google.colaboratory.intrinsic+json": {
              "type": "string"
            }
          },
          "metadata": {},
          "execution_count": 20
        }
      ]
    },
    {
      "cell_type": "code",
      "source": [
        "#Nombre del tesista\n",
        "a = soup_t.find_all(class_ = \"simple-item-view-authors\")[0].find_all(\"div\")\n",
        "for autor in a:\n",
        "  print(autor.text.strip(\"\\n\"))"
      ],
      "metadata": {
        "colab": {
          "base_uri": "https://localhost:8080/"
        },
        "id": "4BkhmtHTCQYK",
        "outputId": "dc3a19bb-01d0-45c8-ff49-2eede6b795eb"
      },
      "execution_count": 6,
      "outputs": [
        {
          "output_type": "stream",
          "name": "stdout",
          "text": [
            "Cruz Falcon, Paul\n",
            "Maldonado Fuentes, Maria Angela\n"
          ]
        }
      ]
    },
    {
      "cell_type": "code",
      "source": [
        "#Grado\n",
        "import re\n",
        "grado = soup_t.find_all(class_=\"simple-item-view-uri\")[1].text\n",
        "grado_f = re.findall('\\[.*\\]', grado)[0].strip(\"[\").strip(\"]\")\n",
        "print(grado_f)"
      ],
      "metadata": {
        "colab": {
          "base_uri": "https://localhost:8080/"
        },
        "id": "fZoqMUPZDh9V",
        "outputId": "4dae7f8d-7aa1-4225-fb1a-7fc154dfd8d1"
      },
      "execution_count": 22,
      "outputs": [
        {
          "output_type": "stream",
          "name": "stdout",
          "text": [
            "Trabajo de suficiencia profesional para optar el Título Profesional de Arquitecto, Universidad de Lima\n"
          ]
        }
      ]
    },
    {
      "cell_type": "code",
      "source": [
        "#Nombre del asesor(es)\n",
        "b = soup_t.find_all(class_ = \"simple-item-view-authors\")[1].find_all(\"div\")\n",
        "for autor in b:\n",
        "  print(autor.text.strip(\"\\n\"))"
      ],
      "metadata": {
        "colab": {
          "base_uri": "https://localhost:8080/"
        },
        "id": "pLd0PZheGVBp",
        "outputId": "fe4f3d70-a9c6-4dcc-dffe-f11f6229bcd2"
      },
      "execution_count": 8,
      "outputs": [
        {
          "output_type": "stream",
          "name": "stdout",
          "text": [
            "Takano Valdivia, Karen\n"
          ]
        }
      ]
    },
    {
      "cell_type": "code",
      "source": [
        "#Año\n",
        "str(soup_t.find(class_=\"simple-item-view-date\").find_all(text=True, recursive=False)[1])"
      ],
      "metadata": {
        "colab": {
          "base_uri": "https://localhost:8080/",
          "height": 36
        },
        "id": "crL3KzYpHOse",
        "outputId": "984b1059-96bb-4390-9e72-15ab92768987"
      },
      "execution_count": 9,
      "outputs": [
        {
          "output_type": "execute_result",
          "data": {
            "text/plain": [
              "'2022'"
            ],
            "application/vnd.google.colaboratory.intrinsic+json": {
              "type": "string"
            }
          },
          "metadata": {},
          "execution_count": 9
        }
      ]
    },
    {
      "cell_type": "code",
      "source": [
        "#Resumen\n",
        "str(soup_t.find(class_ = \"simple-item-view-description\").find(\"div\").find_all(text=True, recursive=False)[0])"
      ],
      "metadata": {
        "colab": {
          "base_uri": "https://localhost:8080/",
          "height": 127
        },
        "id": "O00en9CUHqQw",
        "outputId": "5de584db-f375-4c6f-ab9a-7338340326ec"
      },
      "execution_count": 10,
      "outputs": [
        {
          "output_type": "execute_result",
          "data": {
            "text/plain": [
              "'Actualmente, la infraestructura pesquera artesanal en el país ignora toda relación con el entorno urbano en el que se emplaza. La investigación surge a partir de esta problemática además del cumplimiento de la Norma Sanitaria n°040, la cual estipula lineamientos para una mejor calidad del producto pesquero. Tras la revisión de los DPA’s (Desembarcaderos pesqueros artesanales) actualmente en ejecución/remodelación, se encuentra al DPA de Ilo como el más crítico ya que no cuenta con un área de expansión, posee una infraestructura deficiente y se encuentra en contacto directo con el casco urbano antiguo de la ciudad, desarrollando un importante desafío: la convivencia entre el programa funcional del DPA (flujos productivos pesqueros) y el desarrollo de actividades públicas en un mismo espacio. Con la intención de abrir el puerto hacia la ciudad, sin alterar los flujos productivos pesqueros, surge la idea de continuar recorridos públicos como los que se llevan a cabo en el malecón costero y calles aledañas. Además, se integra programa complementario como el comercio minorista y difusión cultural. Esta reestructuración de un nuevo modelo arquitectónico de desembarcadero pesquero artesanal para Ilo mejorará su relación puerto-ciudad y traerá consigo mayores beneficios económicos y sociales tanto para los pescadores como sus habitantes.'"
            ],
            "application/vnd.google.colaboratory.intrinsic+json": {
              "type": "string"
            }
          },
          "metadata": {},
          "execution_count": 10
        }
      ]
    },
    {
      "cell_type": "code",
      "source": [
        "# Categoría/Subcategoría\n",
        "cat = soup_t.find_all(class_=\"simple-item-view-uri\")[3].find(\"span\").text\n",
        "cat"
      ],
      "metadata": {
        "colab": {
          "base_uri": "https://localhost:8080/",
          "height": 36
        },
        "id": "cC-oKMayePGi",
        "outputId": "3aa8da24-c50f-413a-9701-9588afacc093"
      },
      "execution_count": 23,
      "outputs": [
        {
          "output_type": "execute_result",
          "data": {
            "text/plain": [
              "'Arquitectura / Urbanismo'"
            ],
            "application/vnd.google.colaboratory.intrinsic+json": {
              "type": "string"
            }
          },
          "metadata": {},
          "execution_count": 23
        }
      ]
    },
    {
      "cell_type": "markdown",
      "source": [
        "## OBTENIENDO LA IFORMACIÓN DE TODAS LAS TESIS"
      ],
      "metadata": {
        "id": "Q6jcKNjQIvR1"
      }
    },
    {
      "cell_type": "code",
      "source": [
        "n = 1 #Número de páginas a scrapear\n",
        "lista_tesis = []\n",
        "for i in range(1,n+1):\n",
        "  url = f\"https://repositorio.ulima.edu.pe/discover?rpp=10&etal=0&scope=20.500.12724/1409&group_by=none&page={i}\"\n",
        "  resp = requests.get(url)\n",
        "  soup = BeautifulSoup(resp.text, \"html.parser\")\n",
        "  tesis = soup.find_all(class_=\"row ds-artifact-item \")\n",
        "  for div in tesis:\n",
        "    lista_tesis.append(\"https://repositorio.ulima.edu.pe/\"+f\"{div.find('a').get('href')}\")"
      ],
      "metadata": {
        "id": "L2QM7NvRIzaa"
      },
      "execution_count": 17,
      "outputs": []
    },
    {
      "cell_type": "code",
      "source": [
        "lista_tesis"
      ],
      "metadata": {
        "colab": {
          "base_uri": "https://localhost:8080/"
        },
        "id": "BCArPljTJWN-",
        "outputId": "4e8f4c6d-f73a-4b12-a485-5ddb0cc99552"
      },
      "execution_count": 19,
      "outputs": [
        {
          "output_type": "execute_result",
          "data": {
            "text/plain": [
              "['https://repositorio.ulima.edu.pe//handle/20.500.12724/16321',\n",
              " 'https://repositorio.ulima.edu.pe//handle/20.500.12724/16334',\n",
              " 'https://repositorio.ulima.edu.pe//handle/20.500.12724/15986',\n",
              " 'https://repositorio.ulima.edu.pe//handle/20.500.12724/16306',\n",
              " 'https://repositorio.ulima.edu.pe//handle/20.500.12724/16267',\n",
              " 'https://repositorio.ulima.edu.pe//handle/20.500.12724/15791',\n",
              " 'https://repositorio.ulima.edu.pe//handle/20.500.12724/15631',\n",
              " 'https://repositorio.ulima.edu.pe//handle/20.500.12724/15579',\n",
              " 'https://repositorio.ulima.edu.pe//handle/20.500.12724/15610',\n",
              " 'https://repositorio.ulima.edu.pe//handle/20.500.12724/15636']"
            ]
          },
          "metadata": {},
          "execution_count": 19
        }
      ]
    },
    {
      "cell_type": "code",
      "source": [
        "import csv\n",
        "import re"
      ],
      "metadata": {
        "id": "ZlMThDAlJwUl"
      },
      "execution_count": 24,
      "outputs": []
    },
    {
      "cell_type": "code",
      "source": [
        "with open(\"Tesis.csv\", \"w\") as csv_file:\n",
        "    escritor = csv.writer(csv_file, delimiter=\",\")\n",
        "    escritor.writerow([\"Institución\",\"Título\",\"Autor\", \"Grado\", \"Asesor(es)\", \"Año\", \"Resumen\", \"Categoría\"])\n",
        "\n",
        "for i in lista_tesis:\n",
        "  resp_t = requests.get(i)\n",
        "  soup_t = BeautifulSoup(resp_t.text, \"html.parser\")\n",
        "\n",
        "  #Título\n",
        "  try:\n",
        "    titulo = soup_t.find(\"h2\").text\n",
        "  except:\n",
        "    titulo = \"\"\n",
        "\n",
        "  #Autor\n",
        "  try:\n",
        "    autor_m = []\n",
        "    a = soup_t.find_all(class_ = \"simple-item-view-authors\")[0].find_all(\"div\")\n",
        "    for autor in a:\n",
        "      autor_m.append(autor.text.strip(\"\\n\"))\n",
        "\n",
        "    \n",
        "    autor_f = \", \".join(autor_m)\n",
        "  except:\n",
        "    autor_f = \"\"\n",
        "\n",
        "  #Grado\n",
        "  try:\n",
        "    grado_m = soup_t.find_all(class_=\"simple-item-view-uri\")[1].text\n",
        "    grado = re.findall('\\[.*\\]', grado_m)[0].strip(\"[\").strip(\"]\")\n",
        "  except:\n",
        "    grado = \"\"\n",
        "\n",
        "  #Nombre del asesor(es)\n",
        "  try:\n",
        "    asesor = []\n",
        "    b = soup_t.find_all(class_ = \"simple-item-view-authors\")[1].find_all(\"div\")\n",
        "    for autor in b:\n",
        "      asesor.append(autor.text.strip(\"\\n\"))\n",
        "    asesor_f = \", \".join(asesor)\n",
        "  except:\n",
        "    asesor_f = \"\"\n",
        "\n",
        "  #Año\n",
        "  try:\n",
        "    año = str(soup_t.find(class_=\"simple-item-view-date\").find_all(text=True, recursive=False)[1])\n",
        "  except:\n",
        "    año = \"\"\n",
        "\n",
        "  #Resumen\n",
        "  try:\n",
        "    resumen = str(soup_t.find(class_ = \"simple-item-view-description\").find(\"div\").find_all(text=True, recursive=False)[0])\n",
        "  except:\n",
        "    resumen = \"\"\n",
        "\n",
        "  #Categoría\n",
        "  try:\n",
        "    cat = soup_t.find_all(class_=\"simple-item-view-uri\")[3].find(\"span\").text\n",
        "  except:\n",
        "    cat = \"\"\n",
        "\n",
        "  x = [\"Universidad de Lima\", titulo, autor_f, grado, asesor_f, año, resumen, cat]\n",
        "  with open(\"Tesis.csv\", \"a\") as csv_file:\n",
        "    escritor = csv.writer(csv_file, delimiter=\",\")\n",
        "    escritor.writerow(x)"
      ],
      "metadata": {
        "id": "sD1L-h9eJ8AP"
      },
      "execution_count": 25,
      "outputs": []
    },
    {
      "cell_type": "markdown",
      "source": [
        "## VISUALIZANDO"
      ],
      "metadata": {
        "id": "76cjwl3WLXp-"
      }
    },
    {
      "cell_type": "code",
      "source": [
        "import pandas as pd"
      ],
      "metadata": {
        "id": "8UNopthKLXEt"
      },
      "execution_count": 26,
      "outputs": []
    },
    {
      "cell_type": "code",
      "source": [
        "pd = pd.read_csv(\"Tesis.csv\")\n",
        "pd "
      ],
      "metadata": {
        "colab": {
          "base_uri": "https://localhost:8080/",
          "height": 598
        },
        "id": "tT0P2y6wLfbm",
        "outputId": "d547820b-de09-469b-fc68-445bd2a5a808"
      },
      "execution_count": 27,
      "outputs": [
        {
          "output_type": "execute_result",
          "data": {
            "text/plain": [
              "           Institución                                             Título  \\\n",
              "0  Universidad de Lima  Reestructuración del desembarcadero pesquero a...   \n",
              "1  Universidad de Lima  Recursos personales y resiliencia en adolescen...   \n",
              "2  Universidad de Lima  Hogar integral multidisciplinario para el adul...   \n",
              "3  Universidad de Lima  Estudio de prefactibilidad para la instalación...   \n",
              "4  Universidad de Lima  Implementación de un sistema ERP en la empresa...   \n",
              "5  Universidad de Lima  Estudio de prefactibilidad para la instalación...   \n",
              "6  Universidad de Lima  Museo de la Cultura de Tarma: arquitectura par...   \n",
              "7  Universidad de Lima  Diseño de dispositivo de control de postura sa...   \n",
              "8  Universidad de Lima  Estudio de prefactibilidad para la instalación...   \n",
              "9  Universidad de Lima  Factores del estancamiento y mortalidad en las...   \n",
              "\n",
              "                                               Autor  \\\n",
              "0  Cruz Falcon, Paul, Maldonado Fuentes, Maria An...   \n",
              "1        Diaz Sono, Valeria, Zagal Mendoza, Fiorella   \n",
              "2                             De La Flor Llona, Sara   \n",
              "3                   Contreras Flores, Fernando Samir   \n",
              "4                 Sinforoso Loayza, Manuel Francisco   \n",
              "5  Campos Armijo, Federico Alvaro, Combe Gutierre...   \n",
              "6                         Puente Breña, Danae Ximena   \n",
              "7                  Cusicanqui Espinoza, Sergio André   \n",
              "8  Barron Magot, Ana Elvira, Vasquez Quiros, Tito...   \n",
              "9  Hidalgo Vergara, Sebastián Martin, Xiao, Jianfeng   \n",
              "\n",
              "                                               Grado  \\\n",
              "0  Trabajo de suficiencia profesional para optar ...   \n",
              "1  Tesis para optar el Título Profesional de Lice...   \n",
              "2  Trabajo de suficiencia profesional para optar ...   \n",
              "3  Tesis para optar el Título Profesional de Inge...   \n",
              "4  Trabajo de suficiencia profesional para optar ...   \n",
              "5  Tesis para optar el Título Profesional de Inge...   \n",
              "6  Trabajo de suficiencia profesional para optar ...   \n",
              "7  Tesis para optar el Título Profesional de Inge...   \n",
              "8  Tesis para optar el Título Profesional de Inge...   \n",
              "9  Tesis para optar el título profesional de Lice...   \n",
              "\n",
              "                           Asesor(es)   Año  \\\n",
              "0              Takano Valdivia, Karen  2022   \n",
              "1                Lindo Bárcena, Paola  2022   \n",
              "2                 More Gómez, Valerie  2022   \n",
              "3   Bonilla Pastor de Céspedes, Elsie  2022   \n",
              "4       Ahoki Pajuelo, Carlos Augusto  2022   \n",
              "5     Reaño Vera, Abel Antonio Martin  2022   \n",
              "6  Montestruque Bisso, Octavio Adolfo  2022   \n",
              "7       Santos Figueroa, Luis Enrique  2022   \n",
              "8           Almandoz Nuñez, Ana Maria  2022   \n",
              "9     Barnett Valdivia, Neptali Jesús  2022   \n",
              "\n",
              "                                             Resumen  \\\n",
              "0  Actualmente, la infraestructura pesquera artes...   \n",
              "1  El presente estudio tiene como objetivos gener...   \n",
              "2  Esta investigación se basa en entender la situ...   \n",
              "3  The main objective of the project is to determ...   \n",
              "4  En el presente trabajo se detalla la mejora qu...   \n",
              "5  El presente trabajo consiste en un estudio de ...   \n",
              "6  El Museo de la Cultura de Tarma es un proyecto...   \n",
              "7  El presente trabajo de investigación tiene com...   \n",
              "8  Este proyecto consiste en la comercialización ...   \n",
              "9  La siguiente investigación tiene objetivo dete...   \n",
              "\n",
              "                                           Categoría  \n",
              "0                           Arquitectura / Urbanismo  \n",
              "1                     Psicología / Psicología social  \n",
              "2           Arquitectura / Proyectos arquitectónicos  \n",
              "3                 Ingeniería industrial / Producción  \n",
              "4     Ingeniería industrial / Tecnología de procesos  \n",
              "5                 Ingeniería industrial / Producción  \n",
              "6           Arquitectura / Proyectos arquitectónicos  \n",
              "7        Ingeniería industrial / Diseño e innovación  \n",
              "8                  Ingeniería industrial / Logística  \n",
              "9  Ciencias empresariales y económicas / Administ...  "
            ],
            "text/html": [
              "\n",
              "  <div id=\"df-4f6080f3-4884-4268-8b26-b9b0bfe54696\">\n",
              "    <div class=\"colab-df-container\">\n",
              "      <div>\n",
              "<style scoped>\n",
              "    .dataframe tbody tr th:only-of-type {\n",
              "        vertical-align: middle;\n",
              "    }\n",
              "\n",
              "    .dataframe tbody tr th {\n",
              "        vertical-align: top;\n",
              "    }\n",
              "\n",
              "    .dataframe thead th {\n",
              "        text-align: right;\n",
              "    }\n",
              "</style>\n",
              "<table border=\"1\" class=\"dataframe\">\n",
              "  <thead>\n",
              "    <tr style=\"text-align: right;\">\n",
              "      <th></th>\n",
              "      <th>Institución</th>\n",
              "      <th>Título</th>\n",
              "      <th>Autor</th>\n",
              "      <th>Grado</th>\n",
              "      <th>Asesor(es)</th>\n",
              "      <th>Año</th>\n",
              "      <th>Resumen</th>\n",
              "      <th>Categoría</th>\n",
              "    </tr>\n",
              "  </thead>\n",
              "  <tbody>\n",
              "    <tr>\n",
              "      <th>0</th>\n",
              "      <td>Universidad de Lima</td>\n",
              "      <td>Reestructuración del desembarcadero pesquero a...</td>\n",
              "      <td>Cruz Falcon, Paul, Maldonado Fuentes, Maria An...</td>\n",
              "      <td>Trabajo de suficiencia profesional para optar ...</td>\n",
              "      <td>Takano Valdivia, Karen</td>\n",
              "      <td>2022</td>\n",
              "      <td>Actualmente, la infraestructura pesquera artes...</td>\n",
              "      <td>Arquitectura / Urbanismo</td>\n",
              "    </tr>\n",
              "    <tr>\n",
              "      <th>1</th>\n",
              "      <td>Universidad de Lima</td>\n",
              "      <td>Recursos personales y resiliencia en adolescen...</td>\n",
              "      <td>Diaz Sono, Valeria, Zagal Mendoza, Fiorella</td>\n",
              "      <td>Tesis para optar el Título Profesional de Lice...</td>\n",
              "      <td>Lindo Bárcena, Paola</td>\n",
              "      <td>2022</td>\n",
              "      <td>El presente estudio tiene como objetivos gener...</td>\n",
              "      <td>Psicología / Psicología social</td>\n",
              "    </tr>\n",
              "    <tr>\n",
              "      <th>2</th>\n",
              "      <td>Universidad de Lima</td>\n",
              "      <td>Hogar integral multidisciplinario para el adul...</td>\n",
              "      <td>De La Flor Llona, Sara</td>\n",
              "      <td>Trabajo de suficiencia profesional para optar ...</td>\n",
              "      <td>More Gómez, Valerie</td>\n",
              "      <td>2022</td>\n",
              "      <td>Esta investigación se basa en entender la situ...</td>\n",
              "      <td>Arquitectura / Proyectos arquitectónicos</td>\n",
              "    </tr>\n",
              "    <tr>\n",
              "      <th>3</th>\n",
              "      <td>Universidad de Lima</td>\n",
              "      <td>Estudio de prefactibilidad para la instalación...</td>\n",
              "      <td>Contreras Flores, Fernando Samir</td>\n",
              "      <td>Tesis para optar el Título Profesional de Inge...</td>\n",
              "      <td>Bonilla Pastor de Céspedes, Elsie</td>\n",
              "      <td>2022</td>\n",
              "      <td>The main objective of the project is to determ...</td>\n",
              "      <td>Ingeniería industrial / Producción</td>\n",
              "    </tr>\n",
              "    <tr>\n",
              "      <th>4</th>\n",
              "      <td>Universidad de Lima</td>\n",
              "      <td>Implementación de un sistema ERP en la empresa...</td>\n",
              "      <td>Sinforoso Loayza, Manuel Francisco</td>\n",
              "      <td>Trabajo de suficiencia profesional para optar ...</td>\n",
              "      <td>Ahoki Pajuelo, Carlos Augusto</td>\n",
              "      <td>2022</td>\n",
              "      <td>En el presente trabajo se detalla la mejora qu...</td>\n",
              "      <td>Ingeniería industrial / Tecnología de procesos</td>\n",
              "    </tr>\n",
              "    <tr>\n",
              "      <th>5</th>\n",
              "      <td>Universidad de Lima</td>\n",
              "      <td>Estudio de prefactibilidad para la instalación...</td>\n",
              "      <td>Campos Armijo, Federico Alvaro, Combe Gutierre...</td>\n",
              "      <td>Tesis para optar el Título Profesional de Inge...</td>\n",
              "      <td>Reaño Vera, Abel Antonio Martin</td>\n",
              "      <td>2022</td>\n",
              "      <td>El presente trabajo consiste en un estudio de ...</td>\n",
              "      <td>Ingeniería industrial / Producción</td>\n",
              "    </tr>\n",
              "    <tr>\n",
              "      <th>6</th>\n",
              "      <td>Universidad de Lima</td>\n",
              "      <td>Museo de la Cultura de Tarma: arquitectura par...</td>\n",
              "      <td>Puente Breña, Danae Ximena</td>\n",
              "      <td>Trabajo de suficiencia profesional para optar ...</td>\n",
              "      <td>Montestruque Bisso, Octavio Adolfo</td>\n",
              "      <td>2022</td>\n",
              "      <td>El Museo de la Cultura de Tarma es un proyecto...</td>\n",
              "      <td>Arquitectura / Proyectos arquitectónicos</td>\n",
              "    </tr>\n",
              "    <tr>\n",
              "      <th>7</th>\n",
              "      <td>Universidad de Lima</td>\n",
              "      <td>Diseño de dispositivo de control de postura sa...</td>\n",
              "      <td>Cusicanqui Espinoza, Sergio André</td>\n",
              "      <td>Tesis para optar el Título Profesional de Inge...</td>\n",
              "      <td>Santos Figueroa, Luis Enrique</td>\n",
              "      <td>2022</td>\n",
              "      <td>El presente trabajo de investigación tiene com...</td>\n",
              "      <td>Ingeniería industrial / Diseño e innovación</td>\n",
              "    </tr>\n",
              "    <tr>\n",
              "      <th>8</th>\n",
              "      <td>Universidad de Lima</td>\n",
              "      <td>Estudio de prefactibilidad para la instalación...</td>\n",
              "      <td>Barron Magot, Ana Elvira, Vasquez Quiros, Tito...</td>\n",
              "      <td>Tesis para optar el Título Profesional de Inge...</td>\n",
              "      <td>Almandoz Nuñez, Ana Maria</td>\n",
              "      <td>2022</td>\n",
              "      <td>Este proyecto consiste en la comercialización ...</td>\n",
              "      <td>Ingeniería industrial / Logística</td>\n",
              "    </tr>\n",
              "    <tr>\n",
              "      <th>9</th>\n",
              "      <td>Universidad de Lima</td>\n",
              "      <td>Factores del estancamiento y mortalidad en las...</td>\n",
              "      <td>Hidalgo Vergara, Sebastián Martin, Xiao, Jianfeng</td>\n",
              "      <td>Tesis para optar el título profesional de Lice...</td>\n",
              "      <td>Barnett Valdivia, Neptali Jesús</td>\n",
              "      <td>2022</td>\n",
              "      <td>La siguiente investigación tiene objetivo dete...</td>\n",
              "      <td>Ciencias empresariales y económicas / Administ...</td>\n",
              "    </tr>\n",
              "  </tbody>\n",
              "</table>\n",
              "</div>\n",
              "      <button class=\"colab-df-convert\" onclick=\"convertToInteractive('df-4f6080f3-4884-4268-8b26-b9b0bfe54696')\"\n",
              "              title=\"Convert this dataframe to an interactive table.\"\n",
              "              style=\"display:none;\">\n",
              "        \n",
              "  <svg xmlns=\"http://www.w3.org/2000/svg\" height=\"24px\"viewBox=\"0 0 24 24\"\n",
              "       width=\"24px\">\n",
              "    <path d=\"M0 0h24v24H0V0z\" fill=\"none\"/>\n",
              "    <path d=\"M18.56 5.44l.94 2.06.94-2.06 2.06-.94-2.06-.94-.94-2.06-.94 2.06-2.06.94zm-11 1L8.5 8.5l.94-2.06 2.06-.94-2.06-.94L8.5 2.5l-.94 2.06-2.06.94zm10 10l.94 2.06.94-2.06 2.06-.94-2.06-.94-.94-2.06-.94 2.06-2.06.94z\"/><path d=\"M17.41 7.96l-1.37-1.37c-.4-.4-.92-.59-1.43-.59-.52 0-1.04.2-1.43.59L10.3 9.45l-7.72 7.72c-.78.78-.78 2.05 0 2.83L4 21.41c.39.39.9.59 1.41.59.51 0 1.02-.2 1.41-.59l7.78-7.78 2.81-2.81c.8-.78.8-2.07 0-2.86zM5.41 20L4 18.59l7.72-7.72 1.47 1.35L5.41 20z\"/>\n",
              "  </svg>\n",
              "      </button>\n",
              "      \n",
              "  <style>\n",
              "    .colab-df-container {\n",
              "      display:flex;\n",
              "      flex-wrap:wrap;\n",
              "      gap: 12px;\n",
              "    }\n",
              "\n",
              "    .colab-df-convert {\n",
              "      background-color: #E8F0FE;\n",
              "      border: none;\n",
              "      border-radius: 50%;\n",
              "      cursor: pointer;\n",
              "      display: none;\n",
              "      fill: #1967D2;\n",
              "      height: 32px;\n",
              "      padding: 0 0 0 0;\n",
              "      width: 32px;\n",
              "    }\n",
              "\n",
              "    .colab-df-convert:hover {\n",
              "      background-color: #E2EBFA;\n",
              "      box-shadow: 0px 1px 2px rgba(60, 64, 67, 0.3), 0px 1px 3px 1px rgba(60, 64, 67, 0.15);\n",
              "      fill: #174EA6;\n",
              "    }\n",
              "\n",
              "    [theme=dark] .colab-df-convert {\n",
              "      background-color: #3B4455;\n",
              "      fill: #D2E3FC;\n",
              "    }\n",
              "\n",
              "    [theme=dark] .colab-df-convert:hover {\n",
              "      background-color: #434B5C;\n",
              "      box-shadow: 0px 1px 3px 1px rgba(0, 0, 0, 0.15);\n",
              "      filter: drop-shadow(0px 1px 2px rgba(0, 0, 0, 0.3));\n",
              "      fill: #FFFFFF;\n",
              "    }\n",
              "  </style>\n",
              "\n",
              "      <script>\n",
              "        const buttonEl =\n",
              "          document.querySelector('#df-4f6080f3-4884-4268-8b26-b9b0bfe54696 button.colab-df-convert');\n",
              "        buttonEl.style.display =\n",
              "          google.colab.kernel.accessAllowed ? 'block' : 'none';\n",
              "\n",
              "        async function convertToInteractive(key) {\n",
              "          const element = document.querySelector('#df-4f6080f3-4884-4268-8b26-b9b0bfe54696');\n",
              "          const dataTable =\n",
              "            await google.colab.kernel.invokeFunction('convertToInteractive',\n",
              "                                                     [key], {});\n",
              "          if (!dataTable) return;\n",
              "\n",
              "          const docLinkHtml = 'Like what you see? Visit the ' +\n",
              "            '<a target=\"_blank\" href=https://colab.research.google.com/notebooks/data_table.ipynb>data table notebook</a>'\n",
              "            + ' to learn more about interactive tables.';\n",
              "          element.innerHTML = '';\n",
              "          dataTable['output_type'] = 'display_data';\n",
              "          await google.colab.output.renderOutput(dataTable, element);\n",
              "          const docLink = document.createElement('div');\n",
              "          docLink.innerHTML = docLinkHtml;\n",
              "          element.appendChild(docLink);\n",
              "        }\n",
              "      </script>\n",
              "    </div>\n",
              "  </div>\n",
              "  "
            ]
          },
          "metadata": {},
          "execution_count": 27
        }
      ]
    },
    {
      "cell_type": "markdown",
      "source": [
        "---"
      ],
      "metadata": {
        "id": "ruCLPW3dgD7n"
      }
    },
    {
      "cell_type": "code",
      "source": [
        "pd[pd.Título.str.contains(\"sistema|sistemas|estadística|modelo|regresión\", case=False)]"
      ],
      "metadata": {
        "colab": {
          "base_uri": "https://localhost:8080/",
          "height": 532
        },
        "id": "vP8iubjWrxmr",
        "outputId": "db0847e3-2e2a-4e59-f041-e8e00072dfd0"
      },
      "execution_count": null,
      "outputs": [
        {
          "output_type": "execute_result",
          "data": {
            "text/plain": [
              "             Institución                                             Título  \\\n",
              "4    Universidad de Lima  Implementación de un sistema ERP en la empresa...   \n",
              "14   Universidad de Lima  La vida después de la muerte de los miembros d...   \n",
              "31   Universidad de Lima  Desarrollo profesional hacia el dominio de los...   \n",
              "79   Universidad de Lima  Relación entre regulación emocional y rendimie...   \n",
              "99   Universidad de Lima  Implementación de un sistema de gas natural po...   \n",
              "189  Universidad de Lima  Mejora de la experiencia de usuario de sistema...   \n",
              "203  Universidad de Lima  Proyecto de sistema de control de flujo de trá...   \n",
              "235  Universidad de Lima  Implementación de un sistema de reabastecimien...   \n",
              "237  Universidad de Lima  Sistema de gestión del consumo en tiempo real ...   \n",
              "\n",
              "                                                 Autor  \\\n",
              "4                   Sinforoso Loayza, Manuel Francisco   \n",
              "14   Sevilla Ferrari, Sebastian, Sosa Mendoza, Rosi...   \n",
              "31                         Chavez Rivas, Luis Fernando   \n",
              "79                Sarmiento Monteverde, Andrea Luciana   \n",
              "99                          Delgado Leon, Emilio Mario   \n",
              "189                         Chavez Callupe, Paul Jorge   \n",
              "203                     Rivera Herbozo, Alfredo Henrry   \n",
              "235                 Jimenez Cuadros, Jean Pierre Andre   \n",
              "237                       Llamas Fernandez, Juan Pablo   \n",
              "\n",
              "                                                 Grado  \\\n",
              "4    Trabajo de suficiencia profesional para optar ...   \n",
              "14   Tesis para optar el Título Profesional de Lice...   \n",
              "31   Trabajo de suficiencia profesional para optar ...   \n",
              "79   Trabajo de suficiencia profesional para optar ...   \n",
              "99   Trabajo de suficiencia profesional para optar ...   \n",
              "189  Trabajo de suficiencia profesional para optar ...   \n",
              "203  Trabajo de suficiencia profesional para optar ...   \n",
              "235  Trabajo de suficiencia profesional para optar ...   \n",
              "237  Trabajo de suficiencia profesional para optar ...   \n",
              "\n",
              "                           Asesor(es)   Año  \\\n",
              "4       Ahoki Pajuelo, Carlos Augusto  2022   \n",
              "14          García Contto, José David  2022   \n",
              "31             Lewis Fuentes, Winston  2022   \n",
              "79   Delgado Ramos, Guillermo Enrique  2022   \n",
              "99       Sotomayor Cabrera, Arístides  2022   \n",
              "189          Torres Cáceres, Nolberto  2022   \n",
              "203    Álvarez Valdivia, Edwin Manuel  2022   \n",
              "235       Vidal Paredes, Alex Antonio  2022   \n",
              "237     Caballero Ortiz, José Alberto  2022   \n",
              "\n",
              "                                               Resumen  \n",
              "4    En el presente trabajo se detalla la mejora qu...  \n",
              "14   El presente trabajo tiene como objetivo compar...  \n",
              "31   El presente Informe por Suficiencia Profesiona...  \n",
              "79   El presente estudio tiene como objetivo analiz...  \n",
              "99   El presente trabajo tiene como objetivo, la pr...  \n",
              "189  El presente trabajo de investigación es un tra...  \n",
              "203  La constante demora en la confirmación de la h...  \n",
              "235  El área de logística de Walsh Perú se encarga ...  \n",
              "237  Desde el inventó de la cocina en el siglo XIX,...  "
            ],
            "text/html": [
              "\n",
              "  <div id=\"df-c653911f-8842-4505-a4c4-6cadb2309cc6\">\n",
              "    <div class=\"colab-df-container\">\n",
              "      <div>\n",
              "<style scoped>\n",
              "    .dataframe tbody tr th:only-of-type {\n",
              "        vertical-align: middle;\n",
              "    }\n",
              "\n",
              "    .dataframe tbody tr th {\n",
              "        vertical-align: top;\n",
              "    }\n",
              "\n",
              "    .dataframe thead th {\n",
              "        text-align: right;\n",
              "    }\n",
              "</style>\n",
              "<table border=\"1\" class=\"dataframe\">\n",
              "  <thead>\n",
              "    <tr style=\"text-align: right;\">\n",
              "      <th></th>\n",
              "      <th>Institución</th>\n",
              "      <th>Título</th>\n",
              "      <th>Autor</th>\n",
              "      <th>Grado</th>\n",
              "      <th>Asesor(es)</th>\n",
              "      <th>Año</th>\n",
              "      <th>Resumen</th>\n",
              "    </tr>\n",
              "  </thead>\n",
              "  <tbody>\n",
              "    <tr>\n",
              "      <th>4</th>\n",
              "      <td>Universidad de Lima</td>\n",
              "      <td>Implementación de un sistema ERP en la empresa...</td>\n",
              "      <td>Sinforoso Loayza, Manuel Francisco</td>\n",
              "      <td>Trabajo de suficiencia profesional para optar ...</td>\n",
              "      <td>Ahoki Pajuelo, Carlos Augusto</td>\n",
              "      <td>2022</td>\n",
              "      <td>En el presente trabajo se detalla la mejora qu...</td>\n",
              "    </tr>\n",
              "    <tr>\n",
              "      <th>14</th>\n",
              "      <td>Universidad de Lima</td>\n",
              "      <td>La vida después de la muerte de los miembros d...</td>\n",
              "      <td>Sevilla Ferrari, Sebastian, Sosa Mendoza, Rosi...</td>\n",
              "      <td>Tesis para optar el Título Profesional de Lice...</td>\n",
              "      <td>García Contto, José David</td>\n",
              "      <td>2022</td>\n",
              "      <td>El presente trabajo tiene como objetivo compar...</td>\n",
              "    </tr>\n",
              "    <tr>\n",
              "      <th>31</th>\n",
              "      <td>Universidad de Lima</td>\n",
              "      <td>Desarrollo profesional hacia el dominio de los...</td>\n",
              "      <td>Chavez Rivas, Luis Fernando</td>\n",
              "      <td>Trabajo de suficiencia profesional para optar ...</td>\n",
              "      <td>Lewis Fuentes, Winston</td>\n",
              "      <td>2022</td>\n",
              "      <td>El presente Informe por Suficiencia Profesiona...</td>\n",
              "    </tr>\n",
              "    <tr>\n",
              "      <th>79</th>\n",
              "      <td>Universidad de Lima</td>\n",
              "      <td>Relación entre regulación emocional y rendimie...</td>\n",
              "      <td>Sarmiento Monteverde, Andrea Luciana</td>\n",
              "      <td>Trabajo de suficiencia profesional para optar ...</td>\n",
              "      <td>Delgado Ramos, Guillermo Enrique</td>\n",
              "      <td>2022</td>\n",
              "      <td>El presente estudio tiene como objetivo analiz...</td>\n",
              "    </tr>\n",
              "    <tr>\n",
              "      <th>99</th>\n",
              "      <td>Universidad de Lima</td>\n",
              "      <td>Implementación de un sistema de gas natural po...</td>\n",
              "      <td>Delgado Leon, Emilio Mario</td>\n",
              "      <td>Trabajo de suficiencia profesional para optar ...</td>\n",
              "      <td>Sotomayor Cabrera, Arístides</td>\n",
              "      <td>2022</td>\n",
              "      <td>El presente trabajo tiene como objetivo, la pr...</td>\n",
              "    </tr>\n",
              "    <tr>\n",
              "      <th>189</th>\n",
              "      <td>Universidad de Lima</td>\n",
              "      <td>Mejora de la experiencia de usuario de sistema...</td>\n",
              "      <td>Chavez Callupe, Paul Jorge</td>\n",
              "      <td>Trabajo de suficiencia profesional para optar ...</td>\n",
              "      <td>Torres Cáceres, Nolberto</td>\n",
              "      <td>2022</td>\n",
              "      <td>El presente trabajo de investigación es un tra...</td>\n",
              "    </tr>\n",
              "    <tr>\n",
              "      <th>203</th>\n",
              "      <td>Universidad de Lima</td>\n",
              "      <td>Proyecto de sistema de control de flujo de trá...</td>\n",
              "      <td>Rivera Herbozo, Alfredo Henrry</td>\n",
              "      <td>Trabajo de suficiencia profesional para optar ...</td>\n",
              "      <td>Álvarez Valdivia, Edwin Manuel</td>\n",
              "      <td>2022</td>\n",
              "      <td>La constante demora en la confirmación de la h...</td>\n",
              "    </tr>\n",
              "    <tr>\n",
              "      <th>235</th>\n",
              "      <td>Universidad de Lima</td>\n",
              "      <td>Implementación de un sistema de reabastecimien...</td>\n",
              "      <td>Jimenez Cuadros, Jean Pierre Andre</td>\n",
              "      <td>Trabajo de suficiencia profesional para optar ...</td>\n",
              "      <td>Vidal Paredes, Alex Antonio</td>\n",
              "      <td>2022</td>\n",
              "      <td>El área de logística de Walsh Perú se encarga ...</td>\n",
              "    </tr>\n",
              "    <tr>\n",
              "      <th>237</th>\n",
              "      <td>Universidad de Lima</td>\n",
              "      <td>Sistema de gestión del consumo en tiempo real ...</td>\n",
              "      <td>Llamas Fernandez, Juan Pablo</td>\n",
              "      <td>Trabajo de suficiencia profesional para optar ...</td>\n",
              "      <td>Caballero Ortiz, José Alberto</td>\n",
              "      <td>2022</td>\n",
              "      <td>Desde el inventó de la cocina en el siglo XIX,...</td>\n",
              "    </tr>\n",
              "  </tbody>\n",
              "</table>\n",
              "</div>\n",
              "      <button class=\"colab-df-convert\" onclick=\"convertToInteractive('df-c653911f-8842-4505-a4c4-6cadb2309cc6')\"\n",
              "              title=\"Convert this dataframe to an interactive table.\"\n",
              "              style=\"display:none;\">\n",
              "        \n",
              "  <svg xmlns=\"http://www.w3.org/2000/svg\" height=\"24px\"viewBox=\"0 0 24 24\"\n",
              "       width=\"24px\">\n",
              "    <path d=\"M0 0h24v24H0V0z\" fill=\"none\"/>\n",
              "    <path d=\"M18.56 5.44l.94 2.06.94-2.06 2.06-.94-2.06-.94-.94-2.06-.94 2.06-2.06.94zm-11 1L8.5 8.5l.94-2.06 2.06-.94-2.06-.94L8.5 2.5l-.94 2.06-2.06.94zm10 10l.94 2.06.94-2.06 2.06-.94-2.06-.94-.94-2.06-.94 2.06-2.06.94z\"/><path d=\"M17.41 7.96l-1.37-1.37c-.4-.4-.92-.59-1.43-.59-.52 0-1.04.2-1.43.59L10.3 9.45l-7.72 7.72c-.78.78-.78 2.05 0 2.83L4 21.41c.39.39.9.59 1.41.59.51 0 1.02-.2 1.41-.59l7.78-7.78 2.81-2.81c.8-.78.8-2.07 0-2.86zM5.41 20L4 18.59l7.72-7.72 1.47 1.35L5.41 20z\"/>\n",
              "  </svg>\n",
              "      </button>\n",
              "      \n",
              "  <style>\n",
              "    .colab-df-container {\n",
              "      display:flex;\n",
              "      flex-wrap:wrap;\n",
              "      gap: 12px;\n",
              "    }\n",
              "\n",
              "    .colab-df-convert {\n",
              "      background-color: #E8F0FE;\n",
              "      border: none;\n",
              "      border-radius: 50%;\n",
              "      cursor: pointer;\n",
              "      display: none;\n",
              "      fill: #1967D2;\n",
              "      height: 32px;\n",
              "      padding: 0 0 0 0;\n",
              "      width: 32px;\n",
              "    }\n",
              "\n",
              "    .colab-df-convert:hover {\n",
              "      background-color: #E2EBFA;\n",
              "      box-shadow: 0px 1px 2px rgba(60, 64, 67, 0.3), 0px 1px 3px 1px rgba(60, 64, 67, 0.15);\n",
              "      fill: #174EA6;\n",
              "    }\n",
              "\n",
              "    [theme=dark] .colab-df-convert {\n",
              "      background-color: #3B4455;\n",
              "      fill: #D2E3FC;\n",
              "    }\n",
              "\n",
              "    [theme=dark] .colab-df-convert:hover {\n",
              "      background-color: #434B5C;\n",
              "      box-shadow: 0px 1px 3px 1px rgba(0, 0, 0, 0.15);\n",
              "      filter: drop-shadow(0px 1px 2px rgba(0, 0, 0, 0.3));\n",
              "      fill: #FFFFFF;\n",
              "    }\n",
              "  </style>\n",
              "\n",
              "      <script>\n",
              "        const buttonEl =\n",
              "          document.querySelector('#df-c653911f-8842-4505-a4c4-6cadb2309cc6 button.colab-df-convert');\n",
              "        buttonEl.style.display =\n",
              "          google.colab.kernel.accessAllowed ? 'block' : 'none';\n",
              "\n",
              "        async function convertToInteractive(key) {\n",
              "          const element = document.querySelector('#df-c653911f-8842-4505-a4c4-6cadb2309cc6');\n",
              "          const dataTable =\n",
              "            await google.colab.kernel.invokeFunction('convertToInteractive',\n",
              "                                                     [key], {});\n",
              "          if (!dataTable) return;\n",
              "\n",
              "          const docLinkHtml = 'Like what you see? Visit the ' +\n",
              "            '<a target=\"_blank\" href=https://colab.research.google.com/notebooks/data_table.ipynb>data table notebook</a>'\n",
              "            + ' to learn more about interactive tables.';\n",
              "          element.innerHTML = '';\n",
              "          dataTable['output_type'] = 'display_data';\n",
              "          await google.colab.output.renderOutput(dataTable, element);\n",
              "          const docLink = document.createElement('div');\n",
              "          docLink.innerHTML = docLinkHtml;\n",
              "          element.appendChild(docLink);\n",
              "        }\n",
              "      </script>\n",
              "    </div>\n",
              "  </div>\n",
              "  "
            ]
          },
          "metadata": {},
          "execution_count": 48
        }
      ]
    },
    {
      "cell_type": "markdown",
      "source": [
        "## Extras:"
      ],
      "metadata": {
        "id": "sgiglbnhgFBQ"
      }
    },
    {
      "cell_type": "code",
      "source": [
        "#Probando el código para obtener el autor en otras tesis:\n",
        "resp_t = requests.get(\"https://repositorio.ulima.edu.pe//handle/20.500.12724/16321\")\n",
        "soup_t = BeautifulSoup(resp_t.text, \"html.parser\")\n",
        "autor_m = []\n",
        "a = soup_t.find_all(class_ = \"simple-item-view-authors\")[0].find_all(\"div\")\n",
        "for autor in a:\n",
        "  autor_m.append(autor.text.strip(\"\\n\"))\n",
        "\n",
        "autor_m"
      ],
      "metadata": {
        "colab": {
          "base_uri": "https://localhost:8080/"
        },
        "id": "pPvLVHcIgDcX",
        "outputId": "f8744fc8-fca3-48de-8793-3e6ac4ed8634"
      },
      "execution_count": null,
      "outputs": [
        {
          "output_type": "execute_result",
          "data": {
            "text/plain": [
              "['Cruz Falcon, Paul', 'Maldonado Fuentes, Maria Angela']"
            ]
          },
          "metadata": {},
          "execution_count": 18
        }
      ]
    }
  ]
}