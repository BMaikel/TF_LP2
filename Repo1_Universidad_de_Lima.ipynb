{
  "cells": [
    {
      "cell_type": "markdown",
      "metadata": {
        "id": "Ss2Q58c_BOV0"
      },
      "source": [
        "# UNIVERSIDAD DE LIMA"
      ]
    },
    {
      "cell_type": "markdown",
      "metadata": {
        "id": "jCiz10xGBUCv"
      },
      "source": [
        "## OBTENIENDO LOS ENLACES A LAS TESIS"
      ]
    },
    {
      "cell_type": "code",
      "execution_count": 1,
      "metadata": {
        "id": "uy5KNEox-KUj"
      },
      "outputs": [],
      "source": [
        "uni = \"Universidad de Lima\"\n",
        "link = \"https://repositorio.ulima.edu.pe/discover?rpp=10&etal=0&scope=20.500.12724/1409&group_by=none&page=1\""
      ]
    },
    {
      "cell_type": "code",
      "execution_count": 2,
      "metadata": {
        "id": "ibFQpyGx-VIn"
      },
      "outputs": [],
      "source": [
        "import requests\n",
        "from bs4 import BeautifulSoup"
      ]
    },
    {
      "cell_type": "code",
      "execution_count": 3,
      "metadata": {
        "id": "53VxGbJy-cZ3"
      },
      "outputs": [],
      "source": [
        "rpt = requests.get(link)"
      ]
    },
    {
      "cell_type": "code",
      "execution_count": 4,
      "metadata": {
        "id": "6Ge286LX-mWy"
      },
      "outputs": [],
      "source": [
        "soup = BeautifulSoup(rpt.text, \"html.parser\")"
      ]
    },
    {
      "cell_type": "code",
      "execution_count": 5,
      "metadata": {
        "id": "WudWTTsb-9Rv"
      },
      "outputs": [],
      "source": [
        "tesis = soup.find_all(class_=\"row ds-artifact-item \")"
      ]
    },
    {
      "cell_type": "code",
      "execution_count": 6,
      "metadata": {
        "id": "NmO8xACv_ryq"
      },
      "outputs": [],
      "source": [
        "lista_tesis = []\n",
        "for div in tesis:\n",
        "  lista_tesis.append(\"https://repositorio.ulima.edu.pe/\"+f\"{div.find('a').get('href')}\")"
      ]
    },
    {
      "cell_type": "code",
      "execution_count": 7,
      "metadata": {
        "colab": {
          "base_uri": "https://localhost:8080/"
        },
        "id": "hG14mV33A5Kl",
        "outputId": "3823acdb-1719-48f0-bd50-7ccdb9f22302"
      },
      "outputs": [
        {
          "output_type": "execute_result",
          "data": {
            "text/plain": [
              "['https://repositorio.ulima.edu.pe//handle/20.500.12724/16321',\n",
              " 'https://repositorio.ulima.edu.pe//handle/20.500.12724/16334',\n",
              " 'https://repositorio.ulima.edu.pe//handle/20.500.12724/15986',\n",
              " 'https://repositorio.ulima.edu.pe//handle/20.500.12724/16306',\n",
              " 'https://repositorio.ulima.edu.pe//handle/20.500.12724/16267',\n",
              " 'https://repositorio.ulima.edu.pe//handle/20.500.12724/15791',\n",
              " 'https://repositorio.ulima.edu.pe//handle/20.500.12724/15631',\n",
              " 'https://repositorio.ulima.edu.pe//handle/20.500.12724/15579',\n",
              " 'https://repositorio.ulima.edu.pe//handle/20.500.12724/15610',\n",
              " 'https://repositorio.ulima.edu.pe//handle/20.500.12724/15636']"
            ]
          },
          "metadata": {},
          "execution_count": 7
        }
      ],
      "source": [
        "lista_tesis"
      ]
    },
    {
      "cell_type": "markdown",
      "metadata": {
        "id": "4LLUxefoBam9"
      },
      "source": [
        "## OBTENIENDO LA INFORMACIÓN DE UNA TESIS"
      ]
    },
    {
      "cell_type": "code",
      "execution_count": 8,
      "metadata": {
        "id": "nOfAJUNoBNLh"
      },
      "outputs": [],
      "source": [
        "link_tesis = \"https://repositorio.ulima.edu.pe//handle/20.500.12724/16321\"\n",
        "resp_t = requests.get(link_tesis)\n",
        "soup_t = BeautifulSoup(resp_t.text, \"html.parser\")"
      ]
    },
    {
      "cell_type": "code",
      "execution_count": 9,
      "metadata": {
        "colab": {
          "base_uri": "https://localhost:8080/",
          "height": 36
        },
        "id": "3l0mxEmYB5Ol",
        "outputId": "844bc47b-7347-4937-bf6e-30e8d0f9a5c6"
      },
      "outputs": [
        {
          "output_type": "execute_result",
          "data": {
            "text/plain": [
              "'Reestructuración del desembarcadero pesquero artesanal de Ilo'"
            ],
            "application/vnd.google.colaboratory.intrinsic+json": {
              "type": "string"
            }
          },
          "metadata": {},
          "execution_count": 9
        }
      ],
      "source": [
        "#Obteniendo el título\n",
        "soup_t.find(\"h2\").text"
      ]
    },
    {
      "cell_type": "code",
      "execution_count": 10,
      "metadata": {
        "colab": {
          "base_uri": "https://localhost:8080/"
        },
        "id": "4BkhmtHTCQYK",
        "outputId": "8d6b3326-fb44-4f39-8a72-b486c4e7a628"
      },
      "outputs": [
        {
          "output_type": "stream",
          "name": "stdout",
          "text": [
            "Cruz Falcon, Paul\n",
            "Maldonado Fuentes, Maria Angela\n"
          ]
        }
      ],
      "source": [
        "#Nombre del tesista\n",
        "a = soup_t.find_all(class_ = \"simple-item-view-authors\")[0].find_all(\"div\")\n",
        "for autor in a:\n",
        "  print(autor.text.strip(\"\\n\"))"
      ]
    },
    {
      "cell_type": "code",
      "execution_count": 11,
      "metadata": {
        "colab": {
          "base_uri": "https://localhost:8080/"
        },
        "id": "fZoqMUPZDh9V",
        "outputId": "e49f0dd5-7bee-4d58-f109-da3f7671e731"
      },
      "outputs": [
        {
          "output_type": "stream",
          "name": "stdout",
          "text": [
            "Trabajo de suficiencia profesional para optar el Título Profesional de Arquitecto, Universidad de Lima\n"
          ]
        }
      ],
      "source": [
        "#Grado\n",
        "import re\n",
        "grado = soup_t.find_all(class_=\"simple-item-view-uri\")[1].text\n",
        "grado_f = re.findall('\\[.*\\]', grado)[0].strip(\"[\").strip(\"]\")\n",
        "print(grado_f)"
      ]
    },
    {
      "cell_type": "code",
      "execution_count": 12,
      "metadata": {
        "colab": {
          "base_uri": "https://localhost:8080/"
        },
        "id": "pLd0PZheGVBp",
        "outputId": "df701837-e70c-4bc2-fac0-575d5c36fd10"
      },
      "outputs": [
        {
          "output_type": "stream",
          "name": "stdout",
          "text": [
            "Takano Valdivia, Karen\n"
          ]
        }
      ],
      "source": [
        "#Nombre del asesor(es)\n",
        "b = soup_t.find_all(class_ = \"simple-item-view-authors\")[1].find_all(\"div\")\n",
        "for autor in b:\n",
        "  print(autor.text.strip(\"\\n\"))"
      ]
    },
    {
      "cell_type": "code",
      "execution_count": 13,
      "metadata": {
        "colab": {
          "base_uri": "https://localhost:8080/",
          "height": 36
        },
        "id": "crL3KzYpHOse",
        "outputId": "59d45104-caa5-4601-8bd6-5004e1d528e0"
      },
      "outputs": [
        {
          "output_type": "execute_result",
          "data": {
            "text/plain": [
              "'2022'"
            ],
            "application/vnd.google.colaboratory.intrinsic+json": {
              "type": "string"
            }
          },
          "metadata": {},
          "execution_count": 13
        }
      ],
      "source": [
        "#Año\n",
        "str(soup_t.find(class_=\"simple-item-view-date\").find_all(text=True, recursive=False)[1])"
      ]
    },
    {
      "cell_type": "code",
      "execution_count": 14,
      "metadata": {
        "colab": {
          "base_uri": "https://localhost:8080/",
          "height": 218
        },
        "id": "O00en9CUHqQw",
        "outputId": "1ddc2f4c-8bbb-423c-ce82-61bc7a0130b9"
      },
      "outputs": [
        {
          "output_type": "execute_result",
          "data": {
            "text/plain": [
              "'Actualmente, la infraestructura pesquera artesanal en el país ignora toda relación con el entorno urbano en el que se emplaza. La investigación surge a partir de esta problemática además del cumplimiento de la Norma Sanitaria n°040, la cual estipula lineamientos para una mejor calidad del producto pesquero. Tras la revisión de los DPA’s (Desembarcaderos pesqueros artesanales) actualmente en ejecución/remodelación, se encuentra al DPA de Ilo como el más crítico ya que no cuenta con un área de expansión, posee una infraestructura deficiente y se encuentra en contacto directo con el casco urbano antiguo de la ciudad, desarrollando un importante desafío: la convivencia entre el programa funcional del DPA (flujos productivos pesqueros) y el desarrollo de actividades públicas en un mismo espacio. Con la intención de abrir el puerto hacia la ciudad, sin alterar los flujos productivos pesqueros, surge la idea de continuar recorridos públicos como los que se llevan a cabo en el malecón costero y calles aledañas. Además, se integra programa complementario como el comercio minorista y difusión cultural. Esta reestructuración de un nuevo modelo arquitectónico de desembarcadero pesquero artesanal para Ilo mejorará su relación puerto-ciudad y traerá consigo mayores beneficios económicos y sociales tanto para los pescadores como sus habitantes.'"
            ],
            "application/vnd.google.colaboratory.intrinsic+json": {
              "type": "string"
            }
          },
          "metadata": {},
          "execution_count": 14
        }
      ],
      "source": [
        "#Resumen\n",
        "str(soup_t.find(class_ = \"simple-item-view-description\").find(\"div\").find_all(text=True, recursive=False)[0])"
      ]
    },
    {
      "cell_type": "code",
      "execution_count": 15,
      "metadata": {
        "colab": {
          "base_uri": "https://localhost:8080/",
          "height": 36
        },
        "id": "cC-oKMayePGi",
        "outputId": "4984c59d-998e-424e-8a5a-f7271b0f7fcd"
      },
      "outputs": [
        {
          "output_type": "execute_result",
          "data": {
            "text/plain": [
              "'Arquitectura / Urbanismo'"
            ],
            "application/vnd.google.colaboratory.intrinsic+json": {
              "type": "string"
            }
          },
          "metadata": {},
          "execution_count": 15
        }
      ],
      "source": [
        "# Categoría/Subcategoría\n",
        "cat = soup_t.find_all(class_=\"simple-item-view-uri\")[3].find(\"span\").text\n",
        "cat"
      ]
    },
    {
      "cell_type": "markdown",
      "metadata": {
        "id": "Q6jcKNjQIvR1"
      },
      "source": [
        "## OBTENIENDO LA IFORMACIÓN DE TODAS LAS TESIS"
      ]
    },
    {
      "cell_type": "code",
      "execution_count": 16,
      "metadata": {
        "id": "L2QM7NvRIzaa"
      },
      "outputs": [],
      "source": [
        "n = 1 #Número de páginas a scrapear\n",
        "lista_tesis = []\n",
        "for i in range(1,n+1):\n",
        "  url = f\"https://repositorio.ulima.edu.pe/discover?rpp=10&etal=0&scope=20.500.12724/1409&group_by=none&page={i}\"\n",
        "  resp = requests.get(url)\n",
        "  soup = BeautifulSoup(resp.text, \"html.parser\")\n",
        "  tesis = soup.find_all(class_=\"row ds-artifact-item \")\n",
        "  for div in tesis:\n",
        "    lista_tesis.append(\"https://repositorio.ulima.edu.pe/\"+f\"{div.find('a').get('href')}\")"
      ]
    },
    {
      "cell_type": "code",
      "execution_count": 17,
      "metadata": {
        "colab": {
          "base_uri": "https://localhost:8080/"
        },
        "id": "BCArPljTJWN-",
        "outputId": "3d99b6d5-1991-4ec8-9601-be4844d5e5e2"
      },
      "outputs": [
        {
          "output_type": "execute_result",
          "data": {
            "text/plain": [
              "10"
            ]
          },
          "metadata": {},
          "execution_count": 17
        }
      ],
      "source": [
        "len(lista_tesis)"
      ]
    },
    {
      "cell_type": "code",
      "execution_count": 18,
      "metadata": {
        "id": "ZlMThDAlJwUl"
      },
      "outputs": [],
      "source": [
        "import csv\n",
        "import re"
      ]
    },
    {
      "cell_type": "code",
      "execution_count": null,
      "metadata": {
        "id": "sD1L-h9eJ8AP"
      },
      "outputs": [],
      "source": [
        "with open(\"Tesis.csv\", \"w\") as csv_file:\n",
        "    escritor = csv.writer(csv_file, delimiter=\",\")\n",
        "    escritor.writerow([\"Institución\",\"Título\",\"Autor\", \"Grado\", \"Asesor(es)\", \"Año\", \"Resumen\", \"Categoría\"])\n",
        "\n",
        "for i in lista_tesis:\n",
        "  resp_t = requests.get(i)\n",
        "  soup_t = BeautifulSoup(resp_t.text, \"html.parser\")\n",
        "\n",
        "  #Título\n",
        "  try:\n",
        "    titulo = soup_t.find(\"h2\").text\n",
        "  except:\n",
        "    titulo = \"\"\n",
        "\n",
        "  #Autor\n",
        "  try:\n",
        "    autor_m = []\n",
        "    a = soup_t.find_all(class_ = \"simple-item-view-authors\")[0].find_all(\"div\")\n",
        "    for autor in a:\n",
        "      autor_m.append(autor.text.strip(\"\\n\"))\n",
        "\n",
        "    \n",
        "    autor_f = \", \".join(autor_m)\n",
        "  except:\n",
        "    autor_f = \"\"\n",
        "\n",
        "  #Grado\n",
        "  try:\n",
        "    grado_m = soup_t.find_all(class_=\"simple-item-view-uri\")[1].text\n",
        "    grado = re.findall('\\[.*\\]', grado_m)[0].strip(\"[\").strip(\"]\")\n",
        "  except:\n",
        "    grado = \"\"\n",
        "\n",
        "  #Nombre del asesor(es)\n",
        "  try:\n",
        "    asesor = []\n",
        "    b = soup_t.find_all(class_ = \"simple-item-view-authors\")[1].find_all(\"div\")\n",
        "    for autor in b:\n",
        "      asesor.append(autor.text.strip(\"\\n\"))\n",
        "    asesor_f = \", \".join(asesor)\n",
        "  except:\n",
        "    asesor_f = \"\"\n",
        "\n",
        "  #Año\n",
        "  try:\n",
        "    año = str(soup_t.find(class_=\"simple-item-view-date\").find_all(text=True, recursive=False)[1])\n",
        "  except:\n",
        "    año = \"\"\n",
        "\n",
        "  #Resumen\n",
        "  try:\n",
        "    resumen = str(soup_t.find(class_ = \"simple-item-view-description\").find(\"div\").find_all(text=True, recursive=False)[0])\n",
        "  except:\n",
        "    resumen = \"\"\n",
        "\n",
        "  #Categoría\n",
        "  try:\n",
        "    cat = soup_t.find_all(class_=\"simple-item-view-uri\")[3].find(\"span\").text\n",
        "  except:\n",
        "    cat = \"\"\n",
        "\n",
        "  x = [\"Universidad de Lima\", titulo, autor_f, grado, asesor_f, año, resumen, cat]\n",
        "  with open(\"Tesis.csv\", \"a\") as csv_file:\n",
        "    escritor = csv.writer(csv_file, delimiter=\",\")\n",
        "    escritor.writerow(x)"
      ]
    },
    {
      "cell_type": "markdown",
      "metadata": {
        "id": "76cjwl3WLXp-"
      },
      "source": [
        "## VISUALIZANDO"
      ]
    },
    {
      "cell_type": "code",
      "execution_count": 22,
      "metadata": {
        "id": "8UNopthKLXEt"
      },
      "outputs": [],
      "source": [
        "import pandas as pd"
      ]
    },
    {
      "cell_type": "code",
      "execution_count": 23,
      "metadata": {
        "colab": {
          "base_uri": "https://localhost:8080/",
          "height": 476
        },
        "id": "tT0P2y6wLfbm",
        "outputId": "19d5e0cf-157f-4f63-ae85-aa3d73a5221e"
      },
      "outputs": [
        {
          "output_type": "execute_result",
          "data": {
            "text/plain": [
              "           Institución                                             Título  \\\n",
              "0  Universidad de Lima  Reestructuración del desembarcadero pesquero a...   \n",
              "1  Universidad de Lima  Recursos personales y resiliencia en adolescen...   \n",
              "2  Universidad de Lima  Hogar integral multidisciplinario para el adul...   \n",
              "3  Universidad de Lima  Estudio de prefactibilidad para la instalación...   \n",
              "4  Universidad de Lima  Implementación de un sistema ERP en la empresa...   \n",
              "\n",
              "                                               Autor  \\\n",
              "0  Cruz Falcon, Paul, Maldonado Fuentes, Maria An...   \n",
              "1        Diaz Sono, Valeria, Zagal Mendoza, Fiorella   \n",
              "2                             De La Flor Llona, Sara   \n",
              "3                   Contreras Flores, Fernando Samir   \n",
              "4                 Sinforoso Loayza, Manuel Francisco   \n",
              "\n",
              "                                               Grado  \\\n",
              "0  Trabajo de suficiencia profesional para optar ...   \n",
              "1  Tesis para optar el Título Profesional de Lice...   \n",
              "2  Trabajo de suficiencia profesional para optar ...   \n",
              "3  Tesis para optar el Título Profesional de Inge...   \n",
              "4  Trabajo de suficiencia profesional para optar ...   \n",
              "\n",
              "                          Asesor(es)   Año  \\\n",
              "0             Takano Valdivia, Karen  2022   \n",
              "1               Lindo Bárcena, Paola  2022   \n",
              "2                More Gómez, Valerie  2022   \n",
              "3  Bonilla Pastor de Céspedes, Elsie  2022   \n",
              "4      Ahoki Pajuelo, Carlos Augusto  2022   \n",
              "\n",
              "                                             Resumen  \\\n",
              "0  Actualmente, la infraestructura pesquera artes...   \n",
              "1  El presente estudio tiene como objetivos gener...   \n",
              "2  Esta investigación se basa en entender la situ...   \n",
              "3  The main objective of the project is to determ...   \n",
              "4  En el presente trabajo se detalla la mejora qu...   \n",
              "\n",
              "                                        Categoría  \n",
              "0                        Arquitectura / Urbanismo  \n",
              "1                  Psicología / Psicología social  \n",
              "2        Arquitectura / Proyectos arquitectónicos  \n",
              "3              Ingeniería industrial / Producción  \n",
              "4  Ingeniería industrial / Tecnología de procesos  "
            ],
            "text/html": [
              "\n",
              "  <div id=\"df-2372f7fa-00d4-4eed-9a0f-dac4ea00479b\">\n",
              "    <div class=\"colab-df-container\">\n",
              "      <div>\n",
              "<style scoped>\n",
              "    .dataframe tbody tr th:only-of-type {\n",
              "        vertical-align: middle;\n",
              "    }\n",
              "\n",
              "    .dataframe tbody tr th {\n",
              "        vertical-align: top;\n",
              "    }\n",
              "\n",
              "    .dataframe thead th {\n",
              "        text-align: right;\n",
              "    }\n",
              "</style>\n",
              "<table border=\"1\" class=\"dataframe\">\n",
              "  <thead>\n",
              "    <tr style=\"text-align: right;\">\n",
              "      <th></th>\n",
              "      <th>Institución</th>\n",
              "      <th>Título</th>\n",
              "      <th>Autor</th>\n",
              "      <th>Grado</th>\n",
              "      <th>Asesor(es)</th>\n",
              "      <th>Año</th>\n",
              "      <th>Resumen</th>\n",
              "      <th>Categoría</th>\n",
              "    </tr>\n",
              "  </thead>\n",
              "  <tbody>\n",
              "    <tr>\n",
              "      <th>0</th>\n",
              "      <td>Universidad de Lima</td>\n",
              "      <td>Reestructuración del desembarcadero pesquero a...</td>\n",
              "      <td>Cruz Falcon, Paul, Maldonado Fuentes, Maria An...</td>\n",
              "      <td>Trabajo de suficiencia profesional para optar ...</td>\n",
              "      <td>Takano Valdivia, Karen</td>\n",
              "      <td>2022</td>\n",
              "      <td>Actualmente, la infraestructura pesquera artes...</td>\n",
              "      <td>Arquitectura / Urbanismo</td>\n",
              "    </tr>\n",
              "    <tr>\n",
              "      <th>1</th>\n",
              "      <td>Universidad de Lima</td>\n",
              "      <td>Recursos personales y resiliencia en adolescen...</td>\n",
              "      <td>Diaz Sono, Valeria, Zagal Mendoza, Fiorella</td>\n",
              "      <td>Tesis para optar el Título Profesional de Lice...</td>\n",
              "      <td>Lindo Bárcena, Paola</td>\n",
              "      <td>2022</td>\n",
              "      <td>El presente estudio tiene como objetivos gener...</td>\n",
              "      <td>Psicología / Psicología social</td>\n",
              "    </tr>\n",
              "    <tr>\n",
              "      <th>2</th>\n",
              "      <td>Universidad de Lima</td>\n",
              "      <td>Hogar integral multidisciplinario para el adul...</td>\n",
              "      <td>De La Flor Llona, Sara</td>\n",
              "      <td>Trabajo de suficiencia profesional para optar ...</td>\n",
              "      <td>More Gómez, Valerie</td>\n",
              "      <td>2022</td>\n",
              "      <td>Esta investigación se basa en entender la situ...</td>\n",
              "      <td>Arquitectura / Proyectos arquitectónicos</td>\n",
              "    </tr>\n",
              "    <tr>\n",
              "      <th>3</th>\n",
              "      <td>Universidad de Lima</td>\n",
              "      <td>Estudio de prefactibilidad para la instalación...</td>\n",
              "      <td>Contreras Flores, Fernando Samir</td>\n",
              "      <td>Tesis para optar el Título Profesional de Inge...</td>\n",
              "      <td>Bonilla Pastor de Céspedes, Elsie</td>\n",
              "      <td>2022</td>\n",
              "      <td>The main objective of the project is to determ...</td>\n",
              "      <td>Ingeniería industrial / Producción</td>\n",
              "    </tr>\n",
              "    <tr>\n",
              "      <th>4</th>\n",
              "      <td>Universidad de Lima</td>\n",
              "      <td>Implementación de un sistema ERP en la empresa...</td>\n",
              "      <td>Sinforoso Loayza, Manuel Francisco</td>\n",
              "      <td>Trabajo de suficiencia profesional para optar ...</td>\n",
              "      <td>Ahoki Pajuelo, Carlos Augusto</td>\n",
              "      <td>2022</td>\n",
              "      <td>En el presente trabajo se detalla la mejora qu...</td>\n",
              "      <td>Ingeniería industrial / Tecnología de procesos</td>\n",
              "    </tr>\n",
              "  </tbody>\n",
              "</table>\n",
              "</div>\n",
              "      <button class=\"colab-df-convert\" onclick=\"convertToInteractive('df-2372f7fa-00d4-4eed-9a0f-dac4ea00479b')\"\n",
              "              title=\"Convert this dataframe to an interactive table.\"\n",
              "              style=\"display:none;\">\n",
              "        \n",
              "  <svg xmlns=\"http://www.w3.org/2000/svg\" height=\"24px\"viewBox=\"0 0 24 24\"\n",
              "       width=\"24px\">\n",
              "    <path d=\"M0 0h24v24H0V0z\" fill=\"none\"/>\n",
              "    <path d=\"M18.56 5.44l.94 2.06.94-2.06 2.06-.94-2.06-.94-.94-2.06-.94 2.06-2.06.94zm-11 1L8.5 8.5l.94-2.06 2.06-.94-2.06-.94L8.5 2.5l-.94 2.06-2.06.94zm10 10l.94 2.06.94-2.06 2.06-.94-2.06-.94-.94-2.06-.94 2.06-2.06.94z\"/><path d=\"M17.41 7.96l-1.37-1.37c-.4-.4-.92-.59-1.43-.59-.52 0-1.04.2-1.43.59L10.3 9.45l-7.72 7.72c-.78.78-.78 2.05 0 2.83L4 21.41c.39.39.9.59 1.41.59.51 0 1.02-.2 1.41-.59l7.78-7.78 2.81-2.81c.8-.78.8-2.07 0-2.86zM5.41 20L4 18.59l7.72-7.72 1.47 1.35L5.41 20z\"/>\n",
              "  </svg>\n",
              "      </button>\n",
              "      \n",
              "  <style>\n",
              "    .colab-df-container {\n",
              "      display:flex;\n",
              "      flex-wrap:wrap;\n",
              "      gap: 12px;\n",
              "    }\n",
              "\n",
              "    .colab-df-convert {\n",
              "      background-color: #E8F0FE;\n",
              "      border: none;\n",
              "      border-radius: 50%;\n",
              "      cursor: pointer;\n",
              "      display: none;\n",
              "      fill: #1967D2;\n",
              "      height: 32px;\n",
              "      padding: 0 0 0 0;\n",
              "      width: 32px;\n",
              "    }\n",
              "\n",
              "    .colab-df-convert:hover {\n",
              "      background-color: #E2EBFA;\n",
              "      box-shadow: 0px 1px 2px rgba(60, 64, 67, 0.3), 0px 1px 3px 1px rgba(60, 64, 67, 0.15);\n",
              "      fill: #174EA6;\n",
              "    }\n",
              "\n",
              "    [theme=dark] .colab-df-convert {\n",
              "      background-color: #3B4455;\n",
              "      fill: #D2E3FC;\n",
              "    }\n",
              "\n",
              "    [theme=dark] .colab-df-convert:hover {\n",
              "      background-color: #434B5C;\n",
              "      box-shadow: 0px 1px 3px 1px rgba(0, 0, 0, 0.15);\n",
              "      filter: drop-shadow(0px 1px 2px rgba(0, 0, 0, 0.3));\n",
              "      fill: #FFFFFF;\n",
              "    }\n",
              "  </style>\n",
              "\n",
              "      <script>\n",
              "        const buttonEl =\n",
              "          document.querySelector('#df-2372f7fa-00d4-4eed-9a0f-dac4ea00479b button.colab-df-convert');\n",
              "        buttonEl.style.display =\n",
              "          google.colab.kernel.accessAllowed ? 'block' : 'none';\n",
              "\n",
              "        async function convertToInteractive(key) {\n",
              "          const element = document.querySelector('#df-2372f7fa-00d4-4eed-9a0f-dac4ea00479b');\n",
              "          const dataTable =\n",
              "            await google.colab.kernel.invokeFunction('convertToInteractive',\n",
              "                                                     [key], {});\n",
              "          if (!dataTable) return;\n",
              "\n",
              "          const docLinkHtml = 'Like what you see? Visit the ' +\n",
              "            '<a target=\"_blank\" href=https://colab.research.google.com/notebooks/data_table.ipynb>data table notebook</a>'\n",
              "            + ' to learn more about interactive tables.';\n",
              "          element.innerHTML = '';\n",
              "          dataTable['output_type'] = 'display_data';\n",
              "          await google.colab.output.renderOutput(dataTable, element);\n",
              "          const docLink = document.createElement('div');\n",
              "          docLink.innerHTML = docLinkHtml;\n",
              "          element.appendChild(docLink);\n",
              "        }\n",
              "      </script>\n",
              "    </div>\n",
              "  </div>\n",
              "  "
            ]
          },
          "metadata": {},
          "execution_count": 23
        }
      ],
      "source": [
        "pd = pd.read_csv(\"Tesis_Universidad_de_Lima.csv\")\n",
        "pd.head()"
      ]
    },
    {
      "cell_type": "markdown",
      "metadata": {
        "id": "ruCLPW3dgD7n"
      },
      "source": [
        "---"
      ]
    },
    {
      "cell_type": "code",
      "source": [
        "pd.loc[pd.Categoría.str.contains(\"sistema|sistemas|estadística|industrial\", na=False, case = False)]"
      ],
      "metadata": {
        "colab": {
          "base_uri": "https://localhost:8080/",
          "height": 867
        },
        "id": "9h5gGyKueFon",
        "outputId": "15b3cf91-21f6-4621-f58b-d9d6276b237c"
      },
      "execution_count": 32,
      "outputs": [
        {
          "output_type": "execute_result",
          "data": {
            "text/plain": [
              "              Institución                                             Título  \\\n",
              "3     Universidad de Lima  Estudio de prefactibilidad para la instalación...   \n",
              "4     Universidad de Lima  Implementación de un sistema ERP en la empresa...   \n",
              "5     Universidad de Lima  Estudio de prefactibilidad para la instalación...   \n",
              "7     Universidad de Lima  Diseño de dispositivo de control de postura sa...   \n",
              "8     Universidad de Lima  Estudio de prefactibilidad para la instalación...   \n",
              "...                   ...                                                ...   \n",
              "2372  Universidad de Lima  Estudio de prefactibilidad para la instalación...   \n",
              "2401  Universidad de Lima  Mejora de los procesos operativos del área de ...   \n",
              "2416  Universidad de Lima  Estudio de prefactibilidad para la instalación...   \n",
              "2423  Universidad de Lima  Estudio de prefactibilidad para la instalación...   \n",
              "2437  Universidad de Lima  Estudio de prefactibilidad para la instalación...   \n",
              "\n",
              "                                                  Autor  \\\n",
              "3                      Contreras Flores, Fernando Samir   \n",
              "4                    Sinforoso Loayza, Manuel Francisco   \n",
              "5     Campos Armijo, Federico Alvaro, Combe Gutierre...   \n",
              "7                     Cusicanqui Espinoza, Sergio André   \n",
              "8     Barron Magot, Ana Elvira, Vasquez Quiros, Tito...   \n",
              "...                                                 ...   \n",
              "2372  Guin Urmeneta, Brian Bruce, Herbozo Vidal, Car...   \n",
              "2401                   Pacheco Lluque, Judith Margarita   \n",
              "2416  Florez Cáceres, Yaquelin, Orihuela Ricaldi, Li...   \n",
              "2423  Fernández Villafán, Juan Diego, Torrado Pinzás...   \n",
              "2437                        Choy Torres, Diana Cristina   \n",
              "\n",
              "                                                  Grado  \\\n",
              "3     Tesis para optar el Título Profesional de Inge...   \n",
              "4     Trabajo de suficiencia profesional para optar ...   \n",
              "5     Tesis para optar el Título Profesional de Inge...   \n",
              "7     Tesis para optar el Título Profesional de Inge...   \n",
              "8     Tesis para optar el Título Profesional de Inge...   \n",
              "...                                                 ...   \n",
              "2372                                                NaN   \n",
              "2401                                                NaN   \n",
              "2416                                                NaN   \n",
              "2423                                                NaN   \n",
              "2437                                                NaN   \n",
              "\n",
              "                             Asesor(es)   Año  \\\n",
              "3     Bonilla Pastor de Céspedes, Elsie  2022   \n",
              "4         Ahoki Pajuelo, Carlos Augusto  2022   \n",
              "5       Reaño Vera, Abel Antonio Martin  2022   \n",
              "7         Santos Figueroa, Luis Enrique  2022   \n",
              "8             Almandoz Nuñez, Ana Maria  2022   \n",
              "...                                 ...   ...   \n",
              "2372         Moy Vargas, Luis Teodomiro  2019   \n",
              "2401     Mendoza Mendoza, Carlos Héctor  2019   \n",
              "2416     Arroyo Gordillo, Pedro Antonio  2019   \n",
              "2423         Moy Vargas, Luis Teodomiro  2019   \n",
              "2437     Arroyo Gordillo, Pedro Antonio  2019   \n",
              "\n",
              "                                                Resumen  \\\n",
              "3     The main objective of the project is to determ...   \n",
              "4     En el presente trabajo se detalla la mejora qu...   \n",
              "5     El presente trabajo consiste en un estudio de ...   \n",
              "7     El presente trabajo de investigación tiene com...   \n",
              "8     Este proyecto consiste en la comercialización ...   \n",
              "...                                                 ...   \n",
              "2372  El objetivo del presente trabajo es determinar...   \n",
              "2401  El trabajo desarrollado tiene como objetivo el...   \n",
              "2416  La preferencia por los productos naturales sig...   \n",
              "2423  Con el pasar de los años, la consciencia por l...   \n",
              "2437  En el proyecto a presentar se estudiará la fac...   \n",
              "\n",
              "                                           Categoría  \n",
              "3                 Ingeniería industrial / Producción  \n",
              "4     Ingeniería industrial / Tecnología de procesos  \n",
              "5                 Ingeniería industrial / Producción  \n",
              "7        Ingeniería industrial / Diseño e innovación  \n",
              "8                  Ingeniería industrial / Logística  \n",
              "...                                              ...  \n",
              "2372             Ingenierías / Ingeniería industrial  \n",
              "2401  Ingeniería industrial / Tecnología de procesos  \n",
              "2416              Ingeniería industrial / Producción  \n",
              "2423              Ingeniería industrial / Producción  \n",
              "2437              Ingeniería industrial / Producción  \n",
              "\n",
              "[630 rows x 8 columns]"
            ],
            "text/html": [
              "\n",
              "  <div id=\"df-4363b206-dbf6-4b7d-957d-8267f53dc55a\">\n",
              "    <div class=\"colab-df-container\">\n",
              "      <div>\n",
              "<style scoped>\n",
              "    .dataframe tbody tr th:only-of-type {\n",
              "        vertical-align: middle;\n",
              "    }\n",
              "\n",
              "    .dataframe tbody tr th {\n",
              "        vertical-align: top;\n",
              "    }\n",
              "\n",
              "    .dataframe thead th {\n",
              "        text-align: right;\n",
              "    }\n",
              "</style>\n",
              "<table border=\"1\" class=\"dataframe\">\n",
              "  <thead>\n",
              "    <tr style=\"text-align: right;\">\n",
              "      <th></th>\n",
              "      <th>Institución</th>\n",
              "      <th>Título</th>\n",
              "      <th>Autor</th>\n",
              "      <th>Grado</th>\n",
              "      <th>Asesor(es)</th>\n",
              "      <th>Año</th>\n",
              "      <th>Resumen</th>\n",
              "      <th>Categoría</th>\n",
              "    </tr>\n",
              "  </thead>\n",
              "  <tbody>\n",
              "    <tr>\n",
              "      <th>3</th>\n",
              "      <td>Universidad de Lima</td>\n",
              "      <td>Estudio de prefactibilidad para la instalación...</td>\n",
              "      <td>Contreras Flores, Fernando Samir</td>\n",
              "      <td>Tesis para optar el Título Profesional de Inge...</td>\n",
              "      <td>Bonilla Pastor de Céspedes, Elsie</td>\n",
              "      <td>2022</td>\n",
              "      <td>The main objective of the project is to determ...</td>\n",
              "      <td>Ingeniería industrial / Producción</td>\n",
              "    </tr>\n",
              "    <tr>\n",
              "      <th>4</th>\n",
              "      <td>Universidad de Lima</td>\n",
              "      <td>Implementación de un sistema ERP en la empresa...</td>\n",
              "      <td>Sinforoso Loayza, Manuel Francisco</td>\n",
              "      <td>Trabajo de suficiencia profesional para optar ...</td>\n",
              "      <td>Ahoki Pajuelo, Carlos Augusto</td>\n",
              "      <td>2022</td>\n",
              "      <td>En el presente trabajo se detalla la mejora qu...</td>\n",
              "      <td>Ingeniería industrial / Tecnología de procesos</td>\n",
              "    </tr>\n",
              "    <tr>\n",
              "      <th>5</th>\n",
              "      <td>Universidad de Lima</td>\n",
              "      <td>Estudio de prefactibilidad para la instalación...</td>\n",
              "      <td>Campos Armijo, Federico Alvaro, Combe Gutierre...</td>\n",
              "      <td>Tesis para optar el Título Profesional de Inge...</td>\n",
              "      <td>Reaño Vera, Abel Antonio Martin</td>\n",
              "      <td>2022</td>\n",
              "      <td>El presente trabajo consiste en un estudio de ...</td>\n",
              "      <td>Ingeniería industrial / Producción</td>\n",
              "    </tr>\n",
              "    <tr>\n",
              "      <th>7</th>\n",
              "      <td>Universidad de Lima</td>\n",
              "      <td>Diseño de dispositivo de control de postura sa...</td>\n",
              "      <td>Cusicanqui Espinoza, Sergio André</td>\n",
              "      <td>Tesis para optar el Título Profesional de Inge...</td>\n",
              "      <td>Santos Figueroa, Luis Enrique</td>\n",
              "      <td>2022</td>\n",
              "      <td>El presente trabajo de investigación tiene com...</td>\n",
              "      <td>Ingeniería industrial / Diseño e innovación</td>\n",
              "    </tr>\n",
              "    <tr>\n",
              "      <th>8</th>\n",
              "      <td>Universidad de Lima</td>\n",
              "      <td>Estudio de prefactibilidad para la instalación...</td>\n",
              "      <td>Barron Magot, Ana Elvira, Vasquez Quiros, Tito...</td>\n",
              "      <td>Tesis para optar el Título Profesional de Inge...</td>\n",
              "      <td>Almandoz Nuñez, Ana Maria</td>\n",
              "      <td>2022</td>\n",
              "      <td>Este proyecto consiste en la comercialización ...</td>\n",
              "      <td>Ingeniería industrial / Logística</td>\n",
              "    </tr>\n",
              "    <tr>\n",
              "      <th>...</th>\n",
              "      <td>...</td>\n",
              "      <td>...</td>\n",
              "      <td>...</td>\n",
              "      <td>...</td>\n",
              "      <td>...</td>\n",
              "      <td>...</td>\n",
              "      <td>...</td>\n",
              "      <td>...</td>\n",
              "    </tr>\n",
              "    <tr>\n",
              "      <th>2372</th>\n",
              "      <td>Universidad de Lima</td>\n",
              "      <td>Estudio de prefactibilidad para la instalación...</td>\n",
              "      <td>Guin Urmeneta, Brian Bruce, Herbozo Vidal, Car...</td>\n",
              "      <td>NaN</td>\n",
              "      <td>Moy Vargas, Luis Teodomiro</td>\n",
              "      <td>2019</td>\n",
              "      <td>El objetivo del presente trabajo es determinar...</td>\n",
              "      <td>Ingenierías / Ingeniería industrial</td>\n",
              "    </tr>\n",
              "    <tr>\n",
              "      <th>2401</th>\n",
              "      <td>Universidad de Lima</td>\n",
              "      <td>Mejora de los procesos operativos del área de ...</td>\n",
              "      <td>Pacheco Lluque, Judith Margarita</td>\n",
              "      <td>NaN</td>\n",
              "      <td>Mendoza Mendoza, Carlos Héctor</td>\n",
              "      <td>2019</td>\n",
              "      <td>El trabajo desarrollado tiene como objetivo el...</td>\n",
              "      <td>Ingeniería industrial / Tecnología de procesos</td>\n",
              "    </tr>\n",
              "    <tr>\n",
              "      <th>2416</th>\n",
              "      <td>Universidad de Lima</td>\n",
              "      <td>Estudio de prefactibilidad para la instalación...</td>\n",
              "      <td>Florez Cáceres, Yaquelin, Orihuela Ricaldi, Li...</td>\n",
              "      <td>NaN</td>\n",
              "      <td>Arroyo Gordillo, Pedro Antonio</td>\n",
              "      <td>2019</td>\n",
              "      <td>La preferencia por los productos naturales sig...</td>\n",
              "      <td>Ingeniería industrial / Producción</td>\n",
              "    </tr>\n",
              "    <tr>\n",
              "      <th>2423</th>\n",
              "      <td>Universidad de Lima</td>\n",
              "      <td>Estudio de prefactibilidad para la instalación...</td>\n",
              "      <td>Fernández Villafán, Juan Diego, Torrado Pinzás...</td>\n",
              "      <td>NaN</td>\n",
              "      <td>Moy Vargas, Luis Teodomiro</td>\n",
              "      <td>2019</td>\n",
              "      <td>Con el pasar de los años, la consciencia por l...</td>\n",
              "      <td>Ingeniería industrial / Producción</td>\n",
              "    </tr>\n",
              "    <tr>\n",
              "      <th>2437</th>\n",
              "      <td>Universidad de Lima</td>\n",
              "      <td>Estudio de prefactibilidad para la instalación...</td>\n",
              "      <td>Choy Torres, Diana Cristina</td>\n",
              "      <td>NaN</td>\n",
              "      <td>Arroyo Gordillo, Pedro Antonio</td>\n",
              "      <td>2019</td>\n",
              "      <td>En el proyecto a presentar se estudiará la fac...</td>\n",
              "      <td>Ingeniería industrial / Producción</td>\n",
              "    </tr>\n",
              "  </tbody>\n",
              "</table>\n",
              "<p>630 rows × 8 columns</p>\n",
              "</div>\n",
              "      <button class=\"colab-df-convert\" onclick=\"convertToInteractive('df-4363b206-dbf6-4b7d-957d-8267f53dc55a')\"\n",
              "              title=\"Convert this dataframe to an interactive table.\"\n",
              "              style=\"display:none;\">\n",
              "        \n",
              "  <svg xmlns=\"http://www.w3.org/2000/svg\" height=\"24px\"viewBox=\"0 0 24 24\"\n",
              "       width=\"24px\">\n",
              "    <path d=\"M0 0h24v24H0V0z\" fill=\"none\"/>\n",
              "    <path d=\"M18.56 5.44l.94 2.06.94-2.06 2.06-.94-2.06-.94-.94-2.06-.94 2.06-2.06.94zm-11 1L8.5 8.5l.94-2.06 2.06-.94-2.06-.94L8.5 2.5l-.94 2.06-2.06.94zm10 10l.94 2.06.94-2.06 2.06-.94-2.06-.94-.94-2.06-.94 2.06-2.06.94z\"/><path d=\"M17.41 7.96l-1.37-1.37c-.4-.4-.92-.59-1.43-.59-.52 0-1.04.2-1.43.59L10.3 9.45l-7.72 7.72c-.78.78-.78 2.05 0 2.83L4 21.41c.39.39.9.59 1.41.59.51 0 1.02-.2 1.41-.59l7.78-7.78 2.81-2.81c.8-.78.8-2.07 0-2.86zM5.41 20L4 18.59l7.72-7.72 1.47 1.35L5.41 20z\"/>\n",
              "  </svg>\n",
              "      </button>\n",
              "      \n",
              "  <style>\n",
              "    .colab-df-container {\n",
              "      display:flex;\n",
              "      flex-wrap:wrap;\n",
              "      gap: 12px;\n",
              "    }\n",
              "\n",
              "    .colab-df-convert {\n",
              "      background-color: #E8F0FE;\n",
              "      border: none;\n",
              "      border-radius: 50%;\n",
              "      cursor: pointer;\n",
              "      display: none;\n",
              "      fill: #1967D2;\n",
              "      height: 32px;\n",
              "      padding: 0 0 0 0;\n",
              "      width: 32px;\n",
              "    }\n",
              "\n",
              "    .colab-df-convert:hover {\n",
              "      background-color: #E2EBFA;\n",
              "      box-shadow: 0px 1px 2px rgba(60, 64, 67, 0.3), 0px 1px 3px 1px rgba(60, 64, 67, 0.15);\n",
              "      fill: #174EA6;\n",
              "    }\n",
              "\n",
              "    [theme=dark] .colab-df-convert {\n",
              "      background-color: #3B4455;\n",
              "      fill: #D2E3FC;\n",
              "    }\n",
              "\n",
              "    [theme=dark] .colab-df-convert:hover {\n",
              "      background-color: #434B5C;\n",
              "      box-shadow: 0px 1px 3px 1px rgba(0, 0, 0, 0.15);\n",
              "      filter: drop-shadow(0px 1px 2px rgba(0, 0, 0, 0.3));\n",
              "      fill: #FFFFFF;\n",
              "    }\n",
              "  </style>\n",
              "\n",
              "      <script>\n",
              "        const buttonEl =\n",
              "          document.querySelector('#df-4363b206-dbf6-4b7d-957d-8267f53dc55a button.colab-df-convert');\n",
              "        buttonEl.style.display =\n",
              "          google.colab.kernel.accessAllowed ? 'block' : 'none';\n",
              "\n",
              "        async function convertToInteractive(key) {\n",
              "          const element = document.querySelector('#df-4363b206-dbf6-4b7d-957d-8267f53dc55a');\n",
              "          const dataTable =\n",
              "            await google.colab.kernel.invokeFunction('convertToInteractive',\n",
              "                                                     [key], {});\n",
              "          if (!dataTable) return;\n",
              "\n",
              "          const docLinkHtml = 'Like what you see? Visit the ' +\n",
              "            '<a target=\"_blank\" href=https://colab.research.google.com/notebooks/data_table.ipynb>data table notebook</a>'\n",
              "            + ' to learn more about interactive tables.';\n",
              "          element.innerHTML = '';\n",
              "          dataTable['output_type'] = 'display_data';\n",
              "          await google.colab.output.renderOutput(dataTable, element);\n",
              "          const docLink = document.createElement('div');\n",
              "          docLink.innerHTML = docLinkHtml;\n",
              "          element.appendChild(docLink);\n",
              "        }\n",
              "      </script>\n",
              "    </div>\n",
              "  </div>\n",
              "  "
            ]
          },
          "metadata": {},
          "execution_count": 32
        }
      ]
    },
    {
      "cell_type": "markdown",
      "metadata": {
        "id": "sgiglbnhgFBQ"
      },
      "source": [
        "## Extras:"
      ]
    },
    {
      "cell_type": "code",
      "execution_count": 33,
      "metadata": {
        "colab": {
          "base_uri": "https://localhost:8080/"
        },
        "id": "pPvLVHcIgDcX",
        "outputId": "c54781ac-0c9e-48c8-c108-30d4c54fabe4"
      },
      "outputs": [
        {
          "output_type": "execute_result",
          "data": {
            "text/plain": [
              "['Cruz Falcon, Paul', 'Maldonado Fuentes, Maria Angela']"
            ]
          },
          "metadata": {},
          "execution_count": 33
        }
      ],
      "source": [
        "#Probando el código para obtener el autor en otras tesis:\n",
        "resp_t = requests.get(\"https://repositorio.ulima.edu.pe//handle/20.500.12724/16321\")\n",
        "soup_t = BeautifulSoup(resp_t.text, \"html.parser\")\n",
        "autor_m = []\n",
        "a = soup_t.find_all(class_ = \"simple-item-view-authors\")[0].find_all(\"div\")\n",
        "for autor in a:\n",
        "  autor_m.append(autor.text.strip(\"\\n\"))\n",
        "\n",
        "autor_m"
      ]
    }
  ],
  "metadata": {
    "colab": {
      "provenance": []
    },
    "kernelspec": {
      "display_name": "Python 3",
      "name": "python3"
    },
    "language_info": {
      "name": "python"
    }
  },
  "nbformat": 4,
  "nbformat_minor": 0
}