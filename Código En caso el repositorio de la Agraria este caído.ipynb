{
 "cells": [
  {
   "cell_type": "code",
   "execution_count": 1,
   "id": "19076372",
   "metadata": {},
   "outputs": [],
   "source": [
    "import pandas as pd\n",
    "import matplotlib.pyplot as plt"
   ]
  },
  {
   "cell_type": "code",
   "execution_count": 2,
   "id": "ccc3f040",
   "metadata": {
    "scrolled": true
   },
   "outputs": [],
   "source": [
    "df = pd.read_csv('repositorio_agraria_tesis.csv')"
   ]
  },
  {
   "cell_type": "code",
   "execution_count": 3,
   "id": "58515a48",
   "metadata": {},
   "outputs": [],
   "source": [
    "df = df.fillna(\"\")"
   ]
  },
  {
   "cell_type": "code",
   "execution_count": 4,
   "id": "18b7e42f",
   "metadata": {},
   "outputs": [
    {
     "name": "stderr",
     "output_type": "stream",
     "text": [
      "C:\\Users\\VacSeven\\AppData\\Local\\Temp\\ipykernel_6200\\1149507460.py:14: SettingWithCopyWarning: \n",
      "A value is trying to be set on a copy of a slice from a DataFrame\n",
      "\n",
      "See the caveats in the documentation: https://pandas.pydata.org/pandas-docs/stable/user_guide/indexing.html#returning-a-view-versus-a-copy\n",
      "  df[\"Grado\"][i] = dicgrado[valor]\n"
     ]
    }
   ],
   "source": [
    "dicgrado={'info:eu-repo/semantics/bachelorThesis':\"Bachillerato\",\n",
    "          'info:eu-repo/semantics/doctoralThesis':\"Doctorado\",\n",
    "          'info:eu-repo/semantics/masterThesis':\"Maestria\",\n",
    "          'T_D_Bélgica':\"Doctorado\",\n",
    "          'T_D_Manejo Forestal':\"Doctorado\",\n",
    "          'T_M_Manejo Forestal':\"Maestria\",\n",
    "          'info:eu-repo/semantics/article':\"Articulo\",\n",
    "          'info:eu-repo/semantics/book':\"Libro\",\n",
    "          'info:eu-repo/semantics/bookPart':\"Libro\",\n",
    "          'info:eu-repo/semantics/conferenceObject':\"Conferencia\",\n",
    "         '0\\ndc.type    info:eu-repo/semantics/bachelorThesis\\ndc.type      info:eu-repo/semantics/masterThesis\\nName: 1, dtype: object':\"Error\"}\n",
    "for i, valor in enumerate(df[\"Grado\"]):\n",
    "    if valor in dicgrado:\n",
    "        df[\"Grado\"][i] = dicgrado[valor]"
   ]
  },
  {
   "cell_type": "code",
   "execution_count": 5,
   "id": "6b772575",
   "metadata": {},
   "outputs": [],
   "source": [
    "# Para solo quedarnos con el año en caso se haya ingresado la fecha completa\n",
    "df[\"Año\"] = [str(x)[:4] for x in df[\"Año\"]]"
   ]
  },
  {
   "cell_type": "code",
   "execution_count": 6,
   "id": "bf2bb1fd",
   "metadata": {},
   "outputs": [
    {
     "data": {
      "image/png": "[encoded data removed]",
      "text/plain": [
       "<Figure size 720x576 with 1 Axes>"
      ]
     },
     "metadata": {
      "needs_background": "light"
     },
     "output_type": "display_data"
    }
   ],
   "source": [
    "countanios = df['Año'].value_counts()\n",
    "# Obtener las etiquetas (años) y los valores (cantidades) de la serie de conteos\n",
    "etiquetas = countanios.index \n",
    "valores = countanios.values\n",
    "\n",
    "# Crear una figura de 10x8 pulgadas\n",
    "plt.figure(figsize=(10, 8))\n",
    "\n",
    "# Crear el gráfico de barras\n",
    "plt.bar(etiquetas, valores)\n",
    "\n",
    "# Rotar las etiquetas del eje x a vertical\n",
    "plt.xticks(rotation=90)\n",
    "\n",
    "# Mostrar el gráfico\n",
    "plt.show()"
   ]
  },
  {
   "cell_type": "code",
   "execution_count": 7,
   "id": "5f9fecbb",
   "metadata": {},
   "outputs": [
    {
     "data": {
      "image/png": "[encoded data removed]",
      "text/plain": [
       "<Figure size 720x576 with 1 Axes>"
      ]
     },
     "metadata": {
      "needs_background": "light"
     },
     "output_type": "display_data"
    }
   ],
   "source": [
    "countgrados = df['Grado'].value_counts()\n",
    "# Obtener las etiquetas (años) y los valores (cantidades) de la serie de conteos\n",
    "etiquetas = countgrados.index \n",
    "valores = countgrados.values\n",
    "\n",
    "# Crear una figura de 10x8 pulgadas\n",
    "plt.figure(figsize=(10, 8))\n",
    "\n",
    "# Crear el gráfico de barras\n",
    "plt.bar(etiquetas, valores)\n",
    "\n",
    "# Mostrar el gráfico\n",
    "plt.show()"
   ]
  },
  {
   "cell_type": "code",
   "execution_count": null,
   "id": "e2258681",
   "metadata": {},
   "outputs": [],
   "source": []
  }
 ],
 "metadata": {
  "kernelspec": {
   "display_name": "Python 3 (ipykernel)",
   "language": "python",
   "name": "python3"
  },
  "language_info": {
   "codemirror_mode": {
    "name": "ipython",
    "version": 3
   },
   "file_extension": ".py",
   "mimetype": "text/x-python",
   "name": "python",
   "nbconvert_exporter": "python",
   "pygments_lexer": "ipython3",
   "version": "3.9.12"
  }
 },
 "nbformat": 4,
 "nbformat_minor": 5
}
